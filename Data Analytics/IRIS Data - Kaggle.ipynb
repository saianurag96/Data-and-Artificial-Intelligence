{
 "cells": [
  {
   "cell_type": "code",
   "execution_count": 1,
   "metadata": {},
   "outputs": [],
   "source": [
    "import seaborn as sns\n",
    "from matplotlib import pyplot as plt\n",
    "import numpy as np\n",
    "import pandas as pd\n",
    "from scipy.stats import kurtosis,skew\n",
    "from sklearn.model_selection import train_test_split\n",
    "from sklearn.neighbors import KNeighborsClassifier\n",
    "from sklearn import metrics\n",
    "from sklearn.preprocessing import StandardScaler, MinMaxScaler\n",
    "from sklearn.metrics import accuracy_score, classification_report, confusion_matrix, precision_score, recall_score, f1_score, roc_curve, roc_auc_score\n",
    "import warnings\n",
    "warnings.filterwarnings('ignore') "
   ]
  },
  {
   "cell_type": "code",
   "execution_count": 2,
   "metadata": {},
   "outputs": [
    {
     "data": {
      "text/plain": [
       "(105, 5)"
      ]
     },
     "execution_count": 2,
     "metadata": {},
     "output_type": "execute_result"
    }
   ],
   "source": [
    "iris1 = pd.read_csv(\"C:\\\\Users\\\\mps\\\\OneDrive - University of Waterloo\\\\Documents\\\\Assignment 657\\\\Iris\\Kaggle Iris\\\\iris_train.csv\")\n",
    "iris1.shape"
   ]
  },
  {
   "cell_type": "code",
   "execution_count": 3,
   "metadata": {},
   "outputs": [
    {
     "data": {
      "text/plain": [
       "sepal_length    float64\n",
       "sepal_width     float64\n",
       "petal_length    float64\n",
       "petal_width     float64\n",
       "species          object\n",
       "dtype: object"
      ]
     },
     "execution_count": 3,
     "metadata": {},
     "output_type": "execute_result"
    }
   ],
   "source": [
    "iris1.dtypes"
   ]
  },
  {
   "cell_type": "code",
   "execution_count": 4,
   "metadata": {},
   "outputs": [
    {
     "data": {
      "text/plain": [
       "Iris-setosa        35\n",
       "Iris-virginica     35\n",
       "Iris-versicolor    35\n",
       "Name: species, dtype: int64"
      ]
     },
     "execution_count": 4,
     "metadata": {},
     "output_type": "execute_result"
    }
   ],
   "source": [
    "iris1['species'].value_counts()"
   ]
  },
  {
   "cell_type": "code",
   "execution_count": 5,
   "metadata": {},
   "outputs": [
    {
     "data": {
      "text/plain": [
       "sepal_length    0\n",
       "sepal_width     4\n",
       "petal_length    8\n",
       "petal_width     0\n",
       "species         0\n",
       "dtype: int64"
      ]
     },
     "execution_count": 5,
     "metadata": {},
     "output_type": "execute_result"
    }
   ],
   "source": [
    "iris1.isnull().sum()"
   ]
  },
  {
   "cell_type": "code",
   "execution_count": 6,
   "metadata": {},
   "outputs": [
    {
     "data": {
      "image/png": "[encoded data removed]",
      "text/plain": [
       "<Figure size 432x288 with 1 Axes>"
      ]
     },
     "metadata": {
      "needs_background": "light"
     },
     "output_type": "display_data"
    }
   ],
   "source": [
    "sns.heatmap(iris1.isnull(),yticklabels=False,cbar=False,cmap='viridis');"
   ]
  },
  {
   "cell_type": "code",
   "execution_count": 7,
   "metadata": {},
   "outputs": [
    {
     "data": {
      "text/html": [
       "<div>\n",
       "<style scoped>\n",
       "    .dataframe tbody tr th:only-of-type {\n",
       "        vertical-align: middle;\n",
       "    }\n",
       "\n",
       "    .dataframe tbody tr th {\n",
       "        vertical-align: top;\n",
       "    }\n",
       "\n",
       "    .dataframe thead th {\n",
       "        text-align: right;\n",
       "    }\n",
       "</style>\n",
       "<table border=\"1\" class=\"dataframe\">\n",
       "  <thead>\n",
       "    <tr style=\"text-align: right;\">\n",
       "      <th></th>\n",
       "      <th>sepal_length</th>\n",
       "      <th>sepal_width</th>\n",
       "      <th>petal_length</th>\n",
       "      <th>petal_width</th>\n",
       "    </tr>\n",
       "  </thead>\n",
       "  <tbody>\n",
       "    <tr>\n",
       "      <th>count</th>\n",
       "      <td>105.000000</td>\n",
       "      <td>101.000000</td>\n",
       "      <td>97.000000</td>\n",
       "      <td>105.000000</td>\n",
       "    </tr>\n",
       "    <tr>\n",
       "      <th>mean</th>\n",
       "      <td>5.858909</td>\n",
       "      <td>3.059083</td>\n",
       "      <td>3.812370</td>\n",
       "      <td>1.199708</td>\n",
       "    </tr>\n",
       "    <tr>\n",
       "      <th>std</th>\n",
       "      <td>0.861638</td>\n",
       "      <td>0.455116</td>\n",
       "      <td>1.793489</td>\n",
       "      <td>0.787193</td>\n",
       "    </tr>\n",
       "    <tr>\n",
       "      <th>min</th>\n",
       "      <td>4.344007</td>\n",
       "      <td>1.946010</td>\n",
       "      <td>1.033031</td>\n",
       "      <td>-0.072203</td>\n",
       "    </tr>\n",
       "    <tr>\n",
       "      <th>25%</th>\n",
       "      <td>5.159145</td>\n",
       "      <td>2.768688</td>\n",
       "      <td>1.545136</td>\n",
       "      <td>0.333494</td>\n",
       "    </tr>\n",
       "    <tr>\n",
       "      <th>50%</th>\n",
       "      <td>5.736104</td>\n",
       "      <td>3.049459</td>\n",
       "      <td>4.276817</td>\n",
       "      <td>1.331797</td>\n",
       "    </tr>\n",
       "    <tr>\n",
       "      <th>75%</th>\n",
       "      <td>6.435413</td>\n",
       "      <td>3.290318</td>\n",
       "      <td>5.094427</td>\n",
       "      <td>1.817211</td>\n",
       "    </tr>\n",
       "    <tr>\n",
       "      <th>max</th>\n",
       "      <td>7.795561</td>\n",
       "      <td>4.409565</td>\n",
       "      <td>6.768611</td>\n",
       "      <td>2.603123</td>\n",
       "    </tr>\n",
       "  </tbody>\n",
       "</table>\n",
       "</div>"
      ],
      "text/plain": [
       "       sepal_length  sepal_width  petal_length  petal_width\n",
       "count    105.000000   101.000000     97.000000   105.000000\n",
       "mean       5.858909     3.059083      3.812370     1.199708\n",
       "std        0.861638     0.455116      1.793489     0.787193\n",
       "min        4.344007     1.946010      1.033031    -0.072203\n",
       "25%        5.159145     2.768688      1.545136     0.333494\n",
       "50%        5.736104     3.049459      4.276817     1.331797\n",
       "75%        6.435413     3.290318      5.094427     1.817211\n",
       "max        7.795561     4.409565      6.768611     2.603123"
      ]
     },
     "execution_count": 7,
     "metadata": {},
     "output_type": "execute_result"
    }
   ],
   "source": [
    "iris1.describe()"
   ]
  },
  {
   "cell_type": "code",
   "execution_count": 8,
   "metadata": {},
   "outputs": [
    {
     "data": {
      "text/html": [
       "<div>\n",
       "<style scoped>\n",
       "    .dataframe tbody tr th:only-of-type {\n",
       "        vertical-align: middle;\n",
       "    }\n",
       "\n",
       "    .dataframe tbody tr th {\n",
       "        vertical-align: top;\n",
       "    }\n",
       "\n",
       "    .dataframe thead th {\n",
       "        text-align: right;\n",
       "    }\n",
       "</style>\n",
       "<table border=\"1\" class=\"dataframe\">\n",
       "  <thead>\n",
       "    <tr style=\"text-align: right;\">\n",
       "      <th></th>\n",
       "      <th>sepal_length</th>\n",
       "      <th>sepal_width</th>\n",
       "      <th>petal_length</th>\n",
       "      <th>petal_width</th>\n",
       "      <th>species</th>\n",
       "    </tr>\n",
       "  </thead>\n",
       "  <tbody>\n",
       "    <tr>\n",
       "      <th>6</th>\n",
       "      <td>4.81174</td>\n",
       "      <td>3.037915</td>\n",
       "      <td>1.494268</td>\n",
       "      <td>-0.042428</td>\n",
       "      <td>Iris-setosa</td>\n",
       "    </tr>\n",
       "    <tr>\n",
       "      <th>67</th>\n",
       "      <td>4.86021</td>\n",
       "      <td>3.071128</td>\n",
       "      <td>1.487504</td>\n",
       "      <td>-0.072203</td>\n",
       "      <td>Iris-setosa</td>\n",
       "    </tr>\n",
       "  </tbody>\n",
       "</table>\n",
       "</div>"
      ],
      "text/plain": [
       "    sepal_length  sepal_width  petal_length  petal_width      species\n",
       "6        4.81174     3.037915      1.494268    -0.042428  Iris-setosa\n",
       "67       4.86021     3.071128      1.487504    -0.072203  Iris-setosa"
      ]
     },
     "execution_count": 8,
     "metadata": {},
     "output_type": "execute_result"
    }
   ],
   "source": [
    "iris1[(iris1.petal_width<0)]"
   ]
  },
  {
   "cell_type": "code",
   "execution_count": 9,
   "metadata": {},
   "outputs": [
    {
     "data": {
      "text/plain": [
       "(103, 5)"
      ]
     },
     "execution_count": 9,
     "metadata": {},
     "output_type": "execute_result"
    }
   ],
   "source": [
    "#Removing the rows with negative petal_width values\n",
    "iris2 = iris1[(iris1.petal_width>=0)]\n",
    "iris2.shape"
   ]
  },
  {
   "cell_type": "code",
   "execution_count": 10,
   "metadata": {},
   "outputs": [],
   "source": [
    "#Segregating the data on basis of species and replacing the missing values with corresponding medians\n",
    "iris_vc=iris2.query('species==\"Iris-versicolor\"')\n",
    "iris_vcf =iris_vc.fillna(iris_vc.median())\n",
    "iris_s=iris2.query('species==\"Iris-setosa\"')\n",
    "iris_sf = iris_s.fillna(iris_s.median())\n",
    "iris_v=iris2.query('species==\"Iris-virginica\"')\n",
    "iris_vf = iris_v.fillna(iris_v.median())\n",
    "iris_f = iris_vcf.append([iris_sf,iris_vf])"
   ]
  },
  {
   "cell_type": "code",
   "execution_count": 11,
   "metadata": {},
   "outputs": [
    {
     "data": {
      "image/png": "[encoded data removed]",
      "text/plain": [
       "<Figure size 864x864 with 4 Axes>"
      ]
     },
     "metadata": {
      "needs_background": "light"
     },
     "output_type": "display_data"
    }
   ],
   "source": [
    "#Box plot to check for the outliers in the data\n",
    "iris_f.boxplot(by='species', figsize = (12,12));"
   ]
  },
  {
   "cell_type": "code",
   "execution_count": 12,
   "metadata": {},
   "outputs": [
    {
     "name": "stdout",
     "output_type": "stream",
     "text": [
      "petal width: \n",
      "     sepal_length  sepal_width  petal_length  petal_width      species\n",
      "79       5.03385     3.742203      1.805112     0.594614  Iris-setosa\n",
      "petal length: \n",
      "     sepal_length  sepal_width  petal_length  petal_width      species\n",
      "46      4.736073     3.482242      1.919475     0.262137  Iris-setosa\n",
      "79      5.033850     3.742203      2.103637     0.594614  Iris-setosa\n",
      "80      4.344007     3.018625      1.033031     0.104012  Iris-setosa\n",
      "sepal width v: \n",
      "     sepal_length  sepal_width  petal_length  petal_width         species\n",
      "38      7.665933     3.802924      6.463494     2.086840  Iris-virginica\n",
      "42      5.959186     2.227918      5.189638     1.453949  Iris-virginica\n",
      "77      7.540961     3.797087      6.617141     2.051317  Iris-virginica\n"
     ]
    }
   ],
   "source": [
    "# The outliers for each feature of the species are found and are replaced with closest boundary value(Upper or lower)\n",
    "\n",
    "iris_vc2=iris_f.query('species==\"Iris-versicolor\"')\n",
    "iris_s2=iris_f.query('species==\"Iris-setosa\"')\n",
    "iris_s2.sort_values(by=['petal_length'])\n",
    "irisf_spl = iris_s2['petal_length']\n",
    "quantile1spl, quantile3spl= np.percentile(irisf_spl,[25,75])\n",
    "iqr_valuespl=quantile3spl-quantile1spl\n",
    "outliers_spl = iris_s2[(iris_s2.petal_length>(quantile3spl +(1.5 * iqr_valuespl))) | (iris_s2.petal_length<(quantile1spl -(1.5 * iqr_valuespl)))]\n",
    "iris_s2['petal_length'] = np.where(iris_s2.petal_length<(quantile1spl -(1.5 * iqr_valuespl)), quantile1spl -(1.5 * iqr_valuespl), iris_s2.petal_length)\n",
    "iris_s2['petal_length'] = np.where(iris_s2.petal_length>(quantile3spl +(1.5 * iqr_valuespl)), quantile3spl +(1.5 * iqr_valuespl), iris_s2.petal_length)\n",
    "\n",
    "\n",
    "iris_s2.sort_values(by=['petal_width'])\n",
    "irisf_spw = iris_s2['petal_width']\n",
    "quantile1spw, quantile3spw= np.percentile(irisf_spw,[25,75])\n",
    "iqr_valuespw=quantile3spw-quantile1spw\n",
    "outliers_spw = iris_s2[(iris_s2.petal_width>(quantile3spw +(1.5 * iqr_valuespw))) | (iris_s2.petal_width<(quantile1spw -(1.5 * iqr_valuespw)))]\n",
    "iris_s2['petal_width'] = np.where(iris_s2.petal_width<(quantile1spw -(1.5 * iqr_valuespw)), quantile1spw -(1.5 * iqr_valuespw), iris_s2.petal_width)\n",
    "iris_s2['petal_width'] = np.where(iris_s2.petal_width>(quantile3spw +(1.5 * iqr_valuespw)), quantile3spw +(1.5 * iqr_valuespw), iris_s2.petal_width)\n",
    "\n",
    "iris_v2=iris_f.query('species==\"Iris-virginica\"')\n",
    "iris_v2.sort_values(by=['sepal_width'])\n",
    "irisf_vsw = iris_v2['sepal_width']\n",
    "quantile1vsw, quantile3vsw= np.percentile(irisf_vsw,[25,75])\n",
    "iqr_valuevsw=quantile3vsw-quantile1vsw\n",
    "outliers_vsw = iris_v2[(iris_v2.sepal_width>(quantile3vsw +(1.5 * iqr_valuevsw))) | (iris_v2.sepal_width<(quantile1vsw -(1.5 * iqr_valuevsw)))]\n",
    "iris_v2['sepal_width'] = np.where(iris_v2.sepal_width<(quantile1vsw -(1.5 * iqr_valuevsw)), quantile1vsw -(1.5 * iqr_valuevsw), iris_v2.sepal_width)\n",
    "iris_v2['sepal_width'] = np.where(iris_v2.sepal_width>(quantile3vsw +(1.5 * iqr_valuevsw)), quantile3vsw +(1.5 * iqr_valuevsw), iris_v2.sepal_width)\n",
    "\n",
    "\n",
    "print(\"petal width: \\n\" ,outliers_spw)\n",
    "print(\"petal length: \\n\" ,outliers_spl)\n",
    "print(\"sepal width v: \\n\" ,outliers_vsw)\n",
    "\n",
    "iris_f2 = iris_vc2.append([iris_s2,iris_v2])\n"
   ]
  },
  {
   "cell_type": "code",
   "execution_count": 13,
   "metadata": {},
   "outputs": [
    {
     "data": {
      "image/png": "[encoded data removed]",
      "text/plain": [
       "<Figure size 864x864 with 4 Axes>"
      ]
     },
     "metadata": {
      "needs_background": "light"
     },
     "output_type": "display_data"
    }
   ],
   "source": [
    "#Box plot to check if the outliers are removed\n",
    "iris_f2.boxplot(by='species', figsize = (12,12));"
   ]
  },
  {
   "cell_type": "code",
   "execution_count": 14,
   "metadata": {},
   "outputs": [
    {
     "data": {
      "text/html": [
       "<div>\n",
       "<style scoped>\n",
       "    .dataframe tbody tr th:only-of-type {\n",
       "        vertical-align: middle;\n",
       "    }\n",
       "\n",
       "    .dataframe tbody tr th {\n",
       "        vertical-align: top;\n",
       "    }\n",
       "\n",
       "    .dataframe thead th {\n",
       "        text-align: right;\n",
       "    }\n",
       "</style>\n",
       "<table border=\"1\" class=\"dataframe\">\n",
       "  <thead>\n",
       "    <tr style=\"text-align: right;\">\n",
       "      <th></th>\n",
       "      <th>Accuracy scores on Val data</th>\n",
       "    </tr>\n",
       "  </thead>\n",
       "  <tbody>\n",
       "    <tr>\n",
       "      <th>1</th>\n",
       "      <td>0.95</td>\n",
       "    </tr>\n",
       "    <tr>\n",
       "      <th>5</th>\n",
       "      <td>1.00</td>\n",
       "    </tr>\n",
       "    <tr>\n",
       "      <th>10</th>\n",
       "      <td>0.95</td>\n",
       "    </tr>\n",
       "    <tr>\n",
       "      <th>15</th>\n",
       "      <td>0.90</td>\n",
       "    </tr>\n",
       "    <tr>\n",
       "      <th>20</th>\n",
       "      <td>0.86</td>\n",
       "    </tr>\n",
       "    <tr>\n",
       "      <th>25</th>\n",
       "      <td>0.76</td>\n",
       "    </tr>\n",
       "    <tr>\n",
       "      <th>30</th>\n",
       "      <td>0.76</td>\n",
       "    </tr>\n",
       "    <tr>\n",
       "      <th>35</th>\n",
       "      <td>0.76</td>\n",
       "    </tr>\n",
       "  </tbody>\n",
       "</table>\n",
       "</div>"
      ],
      "text/plain": [
       "    Accuracy scores on Val data\n",
       "1                          0.95\n",
       "5                          1.00\n",
       "10                         0.95\n",
       "15                         0.90\n",
       "20                         0.86\n",
       "25                         0.76\n",
       "30                         0.76\n",
       "35                         0.76"
      ]
     },
     "execution_count": 14,
     "metadata": {},
     "output_type": "execute_result"
    }
   ],
   "source": [
    "#Dividiing each dataset into features(X) and target(Y)\n",
    "target=[\"species\"]\n",
    "cols=[col for col in iris_f2.columns if col not in target]\n",
    "\n",
    "x=iris_f2[cols]\n",
    "y=iris_f2[target]\n",
    "scaling = MinMaxScaler()\n",
    "modified_x = scaling.fit_transform(x)\n",
    "x_df = pd.DataFrame(modified_x,columns = ['sepal_length', 'sepal_width','petal_length','petal_width'])\n",
    "\n",
    "x_train, x_val, y_train, y_val = train_test_split(x_df, y, test_size=0.2, random_state=275)\n",
    "\n",
    " #Training the model on train data\n",
    "z=KNeighborsClassifier(n_neighbors=5, weights='uniform', algorithm='auto',leaf_size=30, p=2, metric='minkowski', metric_params=None, n_jobs=None)\n",
    "#Fitting the classifier to data\n",
    "z.fit(x_train,y_train)\n",
    "k_value = [1,5,10,15,20,25,30,35]\n",
    "result_list = []\n",
    "for k in k_value:\n",
    "    n=KNeighborsClassifier(n_neighbors=k)\n",
    "    n.fit(x_train,y_train)\n",
    "    y=n.predict(x_val)\n",
    "    result = round(metrics.accuracy_score(y_val,y),2)\n",
    "    result_list.append(result)\n",
    "df= pd.DataFrame(result_list,k_value,columns = ['Accuracy scores on Val data'])\n",
    "df"
   ]
  },
  {
   "cell_type": "code",
   "execution_count": 15,
   "metadata": {},
   "outputs": [
    {
     "data": {
      "text/plain": [
       "(45, 5)"
      ]
     },
     "execution_count": 15,
     "metadata": {},
     "output_type": "execute_result"
    }
   ],
   "source": [
    "iris_t = pd.read_csv(\"C:\\\\Users\\\\mps\\\\OneDrive - University of Waterloo\\\\Documents\\\\Assignment 657\\\\Iris\\Kaggle Iris\\\\iris_test.csv\")\n",
    "iris_t.shape"
   ]
  },
  {
   "cell_type": "code",
   "execution_count": 16,
   "metadata": {},
   "outputs": [
    {
     "data": {
      "text/html": [
       "<div>\n",
       "<style scoped>\n",
       "    .dataframe tbody tr th:only-of-type {\n",
       "        vertical-align: middle;\n",
       "    }\n",
       "\n",
       "    .dataframe tbody tr th {\n",
       "        vertical-align: top;\n",
       "    }\n",
       "\n",
       "    .dataframe thead th {\n",
       "        text-align: right;\n",
       "    }\n",
       "</style>\n",
       "<table border=\"1\" class=\"dataframe\">\n",
       "  <thead>\n",
       "    <tr style=\"text-align: right;\">\n",
       "      <th></th>\n",
       "      <th>id</th>\n",
       "      <th>species</th>\n",
       "    </tr>\n",
       "  </thead>\n",
       "  <tbody>\n",
       "    <tr>\n",
       "      <th>0</th>\n",
       "      <td>0</td>\n",
       "      <td>2</td>\n",
       "    </tr>\n",
       "    <tr>\n",
       "      <th>1</th>\n",
       "      <td>1</td>\n",
       "      <td>1</td>\n",
       "    </tr>\n",
       "    <tr>\n",
       "      <th>2</th>\n",
       "      <td>2</td>\n",
       "      <td>1</td>\n",
       "    </tr>\n",
       "    <tr>\n",
       "      <th>3</th>\n",
       "      <td>3</td>\n",
       "      <td>1</td>\n",
       "    </tr>\n",
       "    <tr>\n",
       "      <th>4</th>\n",
       "      <td>4</td>\n",
       "      <td>2</td>\n",
       "    </tr>\n",
       "    <tr>\n",
       "      <th>5</th>\n",
       "      <td>5</td>\n",
       "      <td>2</td>\n",
       "    </tr>\n",
       "    <tr>\n",
       "      <th>6</th>\n",
       "      <td>6</td>\n",
       "      <td>1</td>\n",
       "    </tr>\n",
       "    <tr>\n",
       "      <th>7</th>\n",
       "      <td>7</td>\n",
       "      <td>1</td>\n",
       "    </tr>\n",
       "    <tr>\n",
       "      <th>8</th>\n",
       "      <td>8</td>\n",
       "      <td>0</td>\n",
       "    </tr>\n",
       "    <tr>\n",
       "      <th>9</th>\n",
       "      <td>9</td>\n",
       "      <td>2</td>\n",
       "    </tr>\n",
       "    <tr>\n",
       "      <th>10</th>\n",
       "      <td>10</td>\n",
       "      <td>0</td>\n",
       "    </tr>\n",
       "    <tr>\n",
       "      <th>11</th>\n",
       "      <td>11</td>\n",
       "      <td>0</td>\n",
       "    </tr>\n",
       "    <tr>\n",
       "      <th>12</th>\n",
       "      <td>12</td>\n",
       "      <td>2</td>\n",
       "    </tr>\n",
       "    <tr>\n",
       "      <th>13</th>\n",
       "      <td>13</td>\n",
       "      <td>2</td>\n",
       "    </tr>\n",
       "    <tr>\n",
       "      <th>14</th>\n",
       "      <td>14</td>\n",
       "      <td>0</td>\n",
       "    </tr>\n",
       "    <tr>\n",
       "      <th>15</th>\n",
       "      <td>15</td>\n",
       "      <td>2</td>\n",
       "    </tr>\n",
       "    <tr>\n",
       "      <th>16</th>\n",
       "      <td>16</td>\n",
       "      <td>1</td>\n",
       "    </tr>\n",
       "    <tr>\n",
       "      <th>17</th>\n",
       "      <td>17</td>\n",
       "      <td>0</td>\n",
       "    </tr>\n",
       "    <tr>\n",
       "      <th>18</th>\n",
       "      <td>18</td>\n",
       "      <td>0</td>\n",
       "    </tr>\n",
       "    <tr>\n",
       "      <th>19</th>\n",
       "      <td>19</td>\n",
       "      <td>0</td>\n",
       "    </tr>\n",
       "    <tr>\n",
       "      <th>20</th>\n",
       "      <td>20</td>\n",
       "      <td>1</td>\n",
       "    </tr>\n",
       "    <tr>\n",
       "      <th>21</th>\n",
       "      <td>21</td>\n",
       "      <td>0</td>\n",
       "    </tr>\n",
       "    <tr>\n",
       "      <th>22</th>\n",
       "      <td>22</td>\n",
       "      <td>1</td>\n",
       "    </tr>\n",
       "    <tr>\n",
       "      <th>23</th>\n",
       "      <td>23</td>\n",
       "      <td>2</td>\n",
       "    </tr>\n",
       "    <tr>\n",
       "      <th>24</th>\n",
       "      <td>24</td>\n",
       "      <td>2</td>\n",
       "    </tr>\n",
       "    <tr>\n",
       "      <th>25</th>\n",
       "      <td>25</td>\n",
       "      <td>1</td>\n",
       "    </tr>\n",
       "    <tr>\n",
       "      <th>26</th>\n",
       "      <td>26</td>\n",
       "      <td>1</td>\n",
       "    </tr>\n",
       "    <tr>\n",
       "      <th>27</th>\n",
       "      <td>27</td>\n",
       "      <td>1</td>\n",
       "    </tr>\n",
       "    <tr>\n",
       "      <th>28</th>\n",
       "      <td>28</td>\n",
       "      <td>1</td>\n",
       "    </tr>\n",
       "    <tr>\n",
       "      <th>29</th>\n",
       "      <td>29</td>\n",
       "      <td>0</td>\n",
       "    </tr>\n",
       "    <tr>\n",
       "      <th>30</th>\n",
       "      <td>30</td>\n",
       "      <td>2</td>\n",
       "    </tr>\n",
       "    <tr>\n",
       "      <th>31</th>\n",
       "      <td>31</td>\n",
       "      <td>2</td>\n",
       "    </tr>\n",
       "    <tr>\n",
       "      <th>32</th>\n",
       "      <td>32</td>\n",
       "      <td>1</td>\n",
       "    </tr>\n",
       "    <tr>\n",
       "      <th>33</th>\n",
       "      <td>33</td>\n",
       "      <td>0</td>\n",
       "    </tr>\n",
       "    <tr>\n",
       "      <th>34</th>\n",
       "      <td>34</td>\n",
       "      <td>2</td>\n",
       "    </tr>\n",
       "    <tr>\n",
       "      <th>35</th>\n",
       "      <td>35</td>\n",
       "      <td>0</td>\n",
       "    </tr>\n",
       "    <tr>\n",
       "      <th>36</th>\n",
       "      <td>36</td>\n",
       "      <td>0</td>\n",
       "    </tr>\n",
       "    <tr>\n",
       "      <th>37</th>\n",
       "      <td>37</td>\n",
       "      <td>0</td>\n",
       "    </tr>\n",
       "    <tr>\n",
       "      <th>38</th>\n",
       "      <td>38</td>\n",
       "      <td>0</td>\n",
       "    </tr>\n",
       "    <tr>\n",
       "      <th>39</th>\n",
       "      <td>39</td>\n",
       "      <td>2</td>\n",
       "    </tr>\n",
       "    <tr>\n",
       "      <th>40</th>\n",
       "      <td>40</td>\n",
       "      <td>1</td>\n",
       "    </tr>\n",
       "    <tr>\n",
       "      <th>41</th>\n",
       "      <td>41</td>\n",
       "      <td>0</td>\n",
       "    </tr>\n",
       "    <tr>\n",
       "      <th>42</th>\n",
       "      <td>42</td>\n",
       "      <td>1</td>\n",
       "    </tr>\n",
       "    <tr>\n",
       "      <th>43</th>\n",
       "      <td>43</td>\n",
       "      <td>2</td>\n",
       "    </tr>\n",
       "    <tr>\n",
       "      <th>44</th>\n",
       "      <td>44</td>\n",
       "      <td>1</td>\n",
       "    </tr>\n",
       "  </tbody>\n",
       "</table>\n",
       "</div>"
      ],
      "text/plain": [
       "    id species\n",
       "0    0       2\n",
       "1    1       1\n",
       "2    2       1\n",
       "3    3       1\n",
       "4    4       2\n",
       "5    5       2\n",
       "6    6       1\n",
       "7    7       1\n",
       "8    8       0\n",
       "9    9       2\n",
       "10  10       0\n",
       "11  11       0\n",
       "12  12       2\n",
       "13  13       2\n",
       "14  14       0\n",
       "15  15       2\n",
       "16  16       1\n",
       "17  17       0\n",
       "18  18       0\n",
       "19  19       0\n",
       "20  20       1\n",
       "21  21       0\n",
       "22  22       1\n",
       "23  23       2\n",
       "24  24       2\n",
       "25  25       1\n",
       "26  26       1\n",
       "27  27       1\n",
       "28  28       1\n",
       "29  29       0\n",
       "30  30       2\n",
       "31  31       2\n",
       "32  32       1\n",
       "33  33       0\n",
       "34  34       2\n",
       "35  35       0\n",
       "36  36       0\n",
       "37  37       0\n",
       "38  38       0\n",
       "39  39       2\n",
       "40  40       1\n",
       "41  41       0\n",
       "42  42       1\n",
       "43  43       2\n",
       "44  44       1"
      ]
     },
     "execution_count": 16,
     "metadata": {},
     "output_type": "execute_result"
    }
   ],
   "source": [
    "x_test = iris_t[['sepal_length', 'sepal_width','petal_length','petal_width']]\n",
    "scaling = MinMaxScaler()\n",
    "modified_x = scaling.fit_transform(x_test)\n",
    "x_df = pd.DataFrame(modified_x,columns = ['sepal_length', 'sepal_width','petal_length','petal_width'])\n",
    "y = z.predict(x_df)\n",
    "y1=np.where(y=='Iris-setosa',0,np.where(y=='Iris-versicolor',1,np.where(y=='Iris-virginica',2,y)))\n",
    "y2 =pd.DataFrame(y1,columns=['species'])\n",
    "iris_t1 =pd.DataFrame(iris_t['id'],columns=['id'])\n",
    "y_final = pd.concat([iris_t1, y2], axis=1)\n",
    "y_final"
   ]
  },
  {
   "cell_type": "code",
   "execution_count": 17,
   "metadata": {},
   "outputs": [],
   "source": [
    "y_final.to_csv(r'C:\\\\Users\\\\mps\\\\OneDrive - University of Waterloo\\\\Documents\\\\Assignment 657\\\\Iris\\Output Iris\\\\Test_y_31_1.csv',index=False)"
   ]
  }
 ],
 "metadata": {
  "kernelspec": {
   "display_name": "Python 3",
   "language": "python",
   "name": "python3"
  },
  "language_info": {
   "codemirror_mode": {
    "name": "ipython",
    "version": 3
   },
   "file_extension": ".py",
   "mimetype": "text/x-python",
   "name": "python",
   "nbconvert_exporter": "python",
   "pygments_lexer": "ipython3",
   "version": "3.8.5"
  }
 },
 "nbformat": 4,
 "nbformat_minor": 4
}
