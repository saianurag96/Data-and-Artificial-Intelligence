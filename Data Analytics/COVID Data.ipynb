{
 "cells": [
  {
   "cell_type": "code",
   "execution_count": 1,
   "metadata": {},
   "outputs": [],
   "source": [
    "import numpy as np\n",
    "import pandas as pd\n",
    "import matplotlib.pyplot as plt\n",
    "import seaborn as sns\n",
    "from sklearn.tree import DecisionTreeClassifier\n",
    "from sklearn.model_selection import train_test_split,cross_val_score\n",
    "from sklearn.preprocessing import StandardScaler, MinMaxScaler\n",
    "from sklearn.ensemble import RandomForestClassifier,GradientBoostingClassifier\n",
    "from sklearn.metrics import accuracy_score, classification_report, confusion_matrix, precision_score, recall_score, f1_score, roc_curve, roc_auc_score\n",
    "import warnings\n",
    "warnings.filterwarnings('ignore') \n",
    "from sklearn import tree\n",
    "from sklearn.naive_bayes import GaussianNB"
   ]
  },
  {
   "cell_type": "markdown",
   "metadata": {},
   "source": [
    "## Question 1: Tree-based Classifiers and Ensembles \n",
    "## Part 1 CM2"
   ]
  },
  {
   "cell_type": "code",
   "execution_count": 2,
   "metadata": {},
   "outputs": [
    {
     "data": {
      "text/html": [
       "<div>\n",
       "<style scoped>\n",
       "    .dataframe tbody tr th:only-of-type {\n",
       "        vertical-align: middle;\n",
       "    }\n",
       "\n",
       "    .dataframe tbody tr th {\n",
       "        vertical-align: top;\n",
       "    }\n",
       "\n",
       "    .dataframe thead th {\n",
       "        text-align: right;\n",
       "    }\n",
       "</style>\n",
       "<table border=\"1\" class=\"dataframe\">\n",
       "  <thead>\n",
       "    <tr style=\"text-align: right;\">\n",
       "      <th></th>\n",
       "      <th>Age_Group</th>\n",
       "      <th>Client_Gender</th>\n",
       "      <th>Case_AcquisitionInfo</th>\n",
       "      <th>Reporting_PHU_City</th>\n",
       "      <th>Outbreak_Related</th>\n",
       "      <th>Reporting_PHU_Latitude</th>\n",
       "      <th>Reporting_PHU_Longitude</th>\n",
       "      <th>Outcome1</th>\n",
       "    </tr>\n",
       "  </thead>\n",
       "  <tbody>\n",
       "    <tr>\n",
       "      <th>0</th>\n",
       "      <td>50s</td>\n",
       "      <td>MALE</td>\n",
       "      <td>NO KNOWN EPI LINK</td>\n",
       "      <td>Oakville</td>\n",
       "      <td>NaN</td>\n",
       "      <td>43.413997</td>\n",
       "      <td>-79.744796</td>\n",
       "      <td>Resolved</td>\n",
       "    </tr>\n",
       "    <tr>\n",
       "      <th>1</th>\n",
       "      <td>20s</td>\n",
       "      <td>FEMALE</td>\n",
       "      <td>CC</td>\n",
       "      <td>Guelph</td>\n",
       "      <td>NaN</td>\n",
       "      <td>43.524881</td>\n",
       "      <td>-80.233743</td>\n",
       "      <td>Not Resolved</td>\n",
       "    </tr>\n",
       "    <tr>\n",
       "      <th>2</th>\n",
       "      <td>90s</td>\n",
       "      <td>FEMALE</td>\n",
       "      <td>OB</td>\n",
       "      <td>Barrie</td>\n",
       "      <td>Yes</td>\n",
       "      <td>44.410713</td>\n",
       "      <td>-79.686306</td>\n",
       "      <td>Resolved</td>\n",
       "    </tr>\n",
       "    <tr>\n",
       "      <th>3</th>\n",
       "      <td>20s</td>\n",
       "      <td>FEMALE</td>\n",
       "      <td>MISSING INFORMATION</td>\n",
       "      <td>Toronto</td>\n",
       "      <td>NaN</td>\n",
       "      <td>43.656591</td>\n",
       "      <td>-79.379358</td>\n",
       "      <td>Resolved</td>\n",
       "    </tr>\n",
       "    <tr>\n",
       "      <th>4</th>\n",
       "      <td>90s</td>\n",
       "      <td>FEMALE</td>\n",
       "      <td>OB</td>\n",
       "      <td>Ottawa</td>\n",
       "      <td>Yes</td>\n",
       "      <td>45.345665</td>\n",
       "      <td>-75.763912</td>\n",
       "      <td>Fatal</td>\n",
       "    </tr>\n",
       "    <tr>\n",
       "      <th>...</th>\n",
       "      <td>...</td>\n",
       "      <td>...</td>\n",
       "      <td>...</td>\n",
       "      <td>...</td>\n",
       "      <td>...</td>\n",
       "      <td>...</td>\n",
       "      <td>...</td>\n",
       "      <td>...</td>\n",
       "    </tr>\n",
       "    <tr>\n",
       "      <th>14846</th>\n",
       "      <td>&lt;20</td>\n",
       "      <td>FEMALE</td>\n",
       "      <td>CC</td>\n",
       "      <td>Hamilton</td>\n",
       "      <td>NaN</td>\n",
       "      <td>43.257631</td>\n",
       "      <td>-79.871341</td>\n",
       "      <td>Not Resolved</td>\n",
       "    </tr>\n",
       "    <tr>\n",
       "      <th>14847</th>\n",
       "      <td>20s</td>\n",
       "      <td>FEMALE</td>\n",
       "      <td>NO KNOWN EPI LINK</td>\n",
       "      <td>Mississauga</td>\n",
       "      <td>NaN</td>\n",
       "      <td>43.647471</td>\n",
       "      <td>-79.708893</td>\n",
       "      <td>Not Resolved</td>\n",
       "    </tr>\n",
       "    <tr>\n",
       "      <th>14848</th>\n",
       "      <td>80s</td>\n",
       "      <td>MALE</td>\n",
       "      <td>OB</td>\n",
       "      <td>Thorold</td>\n",
       "      <td>Yes</td>\n",
       "      <td>43.116537</td>\n",
       "      <td>-79.241220</td>\n",
       "      <td>Fatal</td>\n",
       "    </tr>\n",
       "    <tr>\n",
       "      <th>14849</th>\n",
       "      <td>50s</td>\n",
       "      <td>FEMALE</td>\n",
       "      <td>CC</td>\n",
       "      <td>Newmarket</td>\n",
       "      <td>NaN</td>\n",
       "      <td>44.048023</td>\n",
       "      <td>-79.480239</td>\n",
       "      <td>Fatal</td>\n",
       "    </tr>\n",
       "    <tr>\n",
       "      <th>14850</th>\n",
       "      <td>90s</td>\n",
       "      <td>FEMALE</td>\n",
       "      <td>MISSING INFORMATION</td>\n",
       "      <td>Toronto</td>\n",
       "      <td>NaN</td>\n",
       "      <td>43.656591</td>\n",
       "      <td>-79.379358</td>\n",
       "      <td>Fatal</td>\n",
       "    </tr>\n",
       "  </tbody>\n",
       "</table>\n",
       "<p>14851 rows × 8 columns</p>\n",
       "</div>"
      ],
      "text/plain": [
       "      Age_Group Client_Gender Case_AcquisitionInfo Reporting_PHU_City  \\\n",
       "0           50s          MALE    NO KNOWN EPI LINK           Oakville   \n",
       "1           20s        FEMALE                   CC             Guelph   \n",
       "2           90s        FEMALE                   OB             Barrie   \n",
       "3           20s        FEMALE  MISSING INFORMATION            Toronto   \n",
       "4           90s        FEMALE                   OB             Ottawa   \n",
       "...         ...           ...                  ...                ...   \n",
       "14846       <20        FEMALE                   CC           Hamilton   \n",
       "14847       20s        FEMALE    NO KNOWN EPI LINK        Mississauga   \n",
       "14848       80s          MALE                   OB            Thorold   \n",
       "14849       50s        FEMALE                   CC          Newmarket   \n",
       "14850       90s        FEMALE  MISSING INFORMATION            Toronto   \n",
       "\n",
       "      Outbreak_Related  Reporting_PHU_Latitude  Reporting_PHU_Longitude  \\\n",
       "0                  NaN               43.413997               -79.744796   \n",
       "1                  NaN               43.524881               -80.233743   \n",
       "2                  Yes               44.410713               -79.686306   \n",
       "3                  NaN               43.656591               -79.379358   \n",
       "4                  Yes               45.345665               -75.763912   \n",
       "...                ...                     ...                      ...   \n",
       "14846              NaN               43.257631               -79.871341   \n",
       "14847              NaN               43.647471               -79.708893   \n",
       "14848              Yes               43.116537               -79.241220   \n",
       "14849              NaN               44.048023               -79.480239   \n",
       "14850              NaN               43.656591               -79.379358   \n",
       "\n",
       "           Outcome1  \n",
       "0          Resolved  \n",
       "1      Not Resolved  \n",
       "2          Resolved  \n",
       "3          Resolved  \n",
       "4             Fatal  \n",
       "...             ...  \n",
       "14846  Not Resolved  \n",
       "14847  Not Resolved  \n",
       "14848         Fatal  \n",
       "14849         Fatal  \n",
       "14850         Fatal  \n",
       "\n",
       "[14851 rows x 8 columns]"
      ]
     },
     "execution_count": 2,
     "metadata": {},
     "output_type": "execute_result"
    }
   ],
   "source": [
    "df = pd.read_csv('C:\\\\Users\\\\mps\\\\OneDrive - University of Waterloo\\\\Documents\\\\657A\\\\A2\\\\A2\\\\Covid\\\\covid_train.csv',delimiter=',', error_bad_lines=False, warn_bad_lines=True)\n",
    "df"
   ]
  },
  {
   "cell_type": "code",
   "execution_count": 3,
   "metadata": {},
   "outputs": [
    {
     "data": {
      "text/plain": [
       "Age_Group                   object\n",
       "Client_Gender               object\n",
       "Case_AcquisitionInfo        object\n",
       "Reporting_PHU_City          object\n",
       "Outbreak_Related            object\n",
       "Reporting_PHU_Latitude     float64\n",
       "Reporting_PHU_Longitude    float64\n",
       "Outcome1                    object\n",
       "dtype: object"
      ]
     },
     "execution_count": 3,
     "metadata": {},
     "output_type": "execute_result"
    }
   ],
   "source": [
    "df.dtypes"
   ]
  },
  {
   "cell_type": "code",
   "execution_count": 4,
   "metadata": {},
   "outputs": [
    {
     "data": {
      "text/plain": [
       "Age_Group                   9\n",
       "Client_Gender               4\n",
       "Case_AcquisitionInfo        6\n",
       "Reporting_PHU_City         34\n",
       "Outbreak_Related            1\n",
       "Reporting_PHU_Latitude     34\n",
       "Reporting_PHU_Longitude    34\n",
       "Outcome1                    3\n",
       "dtype: int64"
      ]
     },
     "execution_count": 4,
     "metadata": {},
     "output_type": "execute_result"
    }
   ],
   "source": [
    "df.nunique()"
   ]
  },
  {
   "cell_type": "code",
   "execution_count": 5,
   "metadata": {},
   "outputs": [
    {
     "data": {
      "text/plain": [
       "FEMALE            7499\n",
       "MALE              7243\n",
       "UNSPECIFIED        107\n",
       "GENDER DIVERSE       2\n",
       "Name: Client_Gender, dtype: int64"
      ]
     },
     "execution_count": 5,
     "metadata": {},
     "output_type": "execute_result"
    }
   ],
   "source": [
    "df['Client_Gender'].value_counts()"
   ]
  },
  {
   "cell_type": "code",
   "execution_count": 6,
   "metadata": {},
   "outputs": [
    {
     "data": {
      "text/plain": [
       "Age_Group                     6\n",
       "Client_Gender                 0\n",
       "Case_AcquisitionInfo          0\n",
       "Reporting_PHU_City            0\n",
       "Outbreak_Related           9020\n",
       "Reporting_PHU_Latitude        0\n",
       "Reporting_PHU_Longitude       0\n",
       "Outcome1                      0\n",
       "dtype: int64"
      ]
     },
     "execution_count": 6,
     "metadata": {},
     "output_type": "execute_result"
    }
   ],
   "source": [
    "df.isnull().sum()"
   ]
  },
  {
   "cell_type": "markdown",
   "metadata": {},
   "source": [
    "We see there are missing values in the columns \"Age_Group\" and \"Outbreak_Related\".\n",
    "\n",
    "As confirmed from the instructors, we are replacing those missing values in the colum \"Outbreak_Related\" with \"No\"."
   ]
  },
  {
   "cell_type": "code",
   "execution_count": 3,
   "metadata": {},
   "outputs": [
    {
     "data": {
      "text/html": [
       "<div>\n",
       "<style scoped>\n",
       "    .dataframe tbody tr th:only-of-type {\n",
       "        vertical-align: middle;\n",
       "    }\n",
       "\n",
       "    .dataframe tbody tr th {\n",
       "        vertical-align: top;\n",
       "    }\n",
       "\n",
       "    .dataframe thead th {\n",
       "        text-align: right;\n",
       "    }\n",
       "</style>\n",
       "<table border=\"1\" class=\"dataframe\">\n",
       "  <thead>\n",
       "    <tr style=\"text-align: right;\">\n",
       "      <th></th>\n",
       "      <th>Age_Group</th>\n",
       "      <th>Client_Gender</th>\n",
       "      <th>Case_AcquisitionInfo</th>\n",
       "      <th>Reporting_PHU_City</th>\n",
       "      <th>Outbreak_Related</th>\n",
       "      <th>Reporting_PHU_Latitude</th>\n",
       "      <th>Reporting_PHU_Longitude</th>\n",
       "      <th>Outcome1</th>\n",
       "    </tr>\n",
       "  </thead>\n",
       "  <tbody>\n",
       "    <tr>\n",
       "      <th>0</th>\n",
       "      <td>50s</td>\n",
       "      <td>MALE</td>\n",
       "      <td>NO KNOWN EPI LINK</td>\n",
       "      <td>Oakville</td>\n",
       "      <td>No</td>\n",
       "      <td>43.413997</td>\n",
       "      <td>-79.744796</td>\n",
       "      <td>Resolved</td>\n",
       "    </tr>\n",
       "    <tr>\n",
       "      <th>1</th>\n",
       "      <td>20s</td>\n",
       "      <td>FEMALE</td>\n",
       "      <td>CC</td>\n",
       "      <td>Guelph</td>\n",
       "      <td>No</td>\n",
       "      <td>43.524881</td>\n",
       "      <td>-80.233743</td>\n",
       "      <td>Not Resolved</td>\n",
       "    </tr>\n",
       "    <tr>\n",
       "      <th>2</th>\n",
       "      <td>90s</td>\n",
       "      <td>FEMALE</td>\n",
       "      <td>OB</td>\n",
       "      <td>Barrie</td>\n",
       "      <td>Yes</td>\n",
       "      <td>44.410713</td>\n",
       "      <td>-79.686306</td>\n",
       "      <td>Resolved</td>\n",
       "    </tr>\n",
       "    <tr>\n",
       "      <th>3</th>\n",
       "      <td>20s</td>\n",
       "      <td>FEMALE</td>\n",
       "      <td>MISSING INFORMATION</td>\n",
       "      <td>Toronto</td>\n",
       "      <td>No</td>\n",
       "      <td>43.656591</td>\n",
       "      <td>-79.379358</td>\n",
       "      <td>Resolved</td>\n",
       "    </tr>\n",
       "    <tr>\n",
       "      <th>4</th>\n",
       "      <td>90s</td>\n",
       "      <td>FEMALE</td>\n",
       "      <td>OB</td>\n",
       "      <td>Ottawa</td>\n",
       "      <td>Yes</td>\n",
       "      <td>45.345665</td>\n",
       "      <td>-75.763912</td>\n",
       "      <td>Fatal</td>\n",
       "    </tr>\n",
       "    <tr>\n",
       "      <th>...</th>\n",
       "      <td>...</td>\n",
       "      <td>...</td>\n",
       "      <td>...</td>\n",
       "      <td>...</td>\n",
       "      <td>...</td>\n",
       "      <td>...</td>\n",
       "      <td>...</td>\n",
       "      <td>...</td>\n",
       "    </tr>\n",
       "    <tr>\n",
       "      <th>14846</th>\n",
       "      <td>&lt;20</td>\n",
       "      <td>FEMALE</td>\n",
       "      <td>CC</td>\n",
       "      <td>Hamilton</td>\n",
       "      <td>No</td>\n",
       "      <td>43.257631</td>\n",
       "      <td>-79.871341</td>\n",
       "      <td>Not Resolved</td>\n",
       "    </tr>\n",
       "    <tr>\n",
       "      <th>14847</th>\n",
       "      <td>20s</td>\n",
       "      <td>FEMALE</td>\n",
       "      <td>NO KNOWN EPI LINK</td>\n",
       "      <td>Mississauga</td>\n",
       "      <td>No</td>\n",
       "      <td>43.647471</td>\n",
       "      <td>-79.708893</td>\n",
       "      <td>Not Resolved</td>\n",
       "    </tr>\n",
       "    <tr>\n",
       "      <th>14848</th>\n",
       "      <td>80s</td>\n",
       "      <td>MALE</td>\n",
       "      <td>OB</td>\n",
       "      <td>Thorold</td>\n",
       "      <td>Yes</td>\n",
       "      <td>43.116537</td>\n",
       "      <td>-79.241220</td>\n",
       "      <td>Fatal</td>\n",
       "    </tr>\n",
       "    <tr>\n",
       "      <th>14849</th>\n",
       "      <td>50s</td>\n",
       "      <td>FEMALE</td>\n",
       "      <td>CC</td>\n",
       "      <td>Newmarket</td>\n",
       "      <td>No</td>\n",
       "      <td>44.048023</td>\n",
       "      <td>-79.480239</td>\n",
       "      <td>Fatal</td>\n",
       "    </tr>\n",
       "    <tr>\n",
       "      <th>14850</th>\n",
       "      <td>90s</td>\n",
       "      <td>FEMALE</td>\n",
       "      <td>MISSING INFORMATION</td>\n",
       "      <td>Toronto</td>\n",
       "      <td>No</td>\n",
       "      <td>43.656591</td>\n",
       "      <td>-79.379358</td>\n",
       "      <td>Fatal</td>\n",
       "    </tr>\n",
       "  </tbody>\n",
       "</table>\n",
       "<p>14851 rows × 8 columns</p>\n",
       "</div>"
      ],
      "text/plain": [
       "      Age_Group Client_Gender Case_AcquisitionInfo Reporting_PHU_City  \\\n",
       "0           50s          MALE    NO KNOWN EPI LINK           Oakville   \n",
       "1           20s        FEMALE                   CC             Guelph   \n",
       "2           90s        FEMALE                   OB             Barrie   \n",
       "3           20s        FEMALE  MISSING INFORMATION            Toronto   \n",
       "4           90s        FEMALE                   OB             Ottawa   \n",
       "...         ...           ...                  ...                ...   \n",
       "14846       <20        FEMALE                   CC           Hamilton   \n",
       "14847       20s        FEMALE    NO KNOWN EPI LINK        Mississauga   \n",
       "14848       80s          MALE                   OB            Thorold   \n",
       "14849       50s        FEMALE                   CC          Newmarket   \n",
       "14850       90s        FEMALE  MISSING INFORMATION            Toronto   \n",
       "\n",
       "      Outbreak_Related  Reporting_PHU_Latitude  Reporting_PHU_Longitude  \\\n",
       "0                   No               43.413997               -79.744796   \n",
       "1                   No               43.524881               -80.233743   \n",
       "2                  Yes               44.410713               -79.686306   \n",
       "3                   No               43.656591               -79.379358   \n",
       "4                  Yes               45.345665               -75.763912   \n",
       "...                ...                     ...                      ...   \n",
       "14846               No               43.257631               -79.871341   \n",
       "14847               No               43.647471               -79.708893   \n",
       "14848              Yes               43.116537               -79.241220   \n",
       "14849               No               44.048023               -79.480239   \n",
       "14850               No               43.656591               -79.379358   \n",
       "\n",
       "           Outcome1  \n",
       "0          Resolved  \n",
       "1      Not Resolved  \n",
       "2          Resolved  \n",
       "3          Resolved  \n",
       "4             Fatal  \n",
       "...             ...  \n",
       "14846  Not Resolved  \n",
       "14847  Not Resolved  \n",
       "14848         Fatal  \n",
       "14849         Fatal  \n",
       "14850         Fatal  \n",
       "\n",
       "[14851 rows x 8 columns]"
      ]
     },
     "execution_count": 3,
     "metadata": {},
     "output_type": "execute_result"
    }
   ],
   "source": [
    "df['Outbreak_Related'].replace(np.nan, 'No',inplace=True)\n",
    "df"
   ]
  },
  {
   "cell_type": "code",
   "execution_count": 4,
   "metadata": {},
   "outputs": [
    {
     "data": {
      "text/html": [
       "<div>\n",
       "<style scoped>\n",
       "    .dataframe tbody tr th:only-of-type {\n",
       "        vertical-align: middle;\n",
       "    }\n",
       "\n",
       "    .dataframe tbody tr th {\n",
       "        vertical-align: top;\n",
       "    }\n",
       "\n",
       "    .dataframe thead th {\n",
       "        text-align: right;\n",
       "    }\n",
       "</style>\n",
       "<table border=\"1\" class=\"dataframe\">\n",
       "  <thead>\n",
       "    <tr style=\"text-align: right;\">\n",
       "      <th></th>\n",
       "      <th>Age_Group</th>\n",
       "      <th>Client_Gender</th>\n",
       "      <th>Case_AcquisitionInfo</th>\n",
       "      <th>Reporting_PHU_City</th>\n",
       "      <th>Outbreak_Related</th>\n",
       "      <th>Reporting_PHU_Latitude</th>\n",
       "      <th>Reporting_PHU_Longitude</th>\n",
       "      <th>Outcome1</th>\n",
       "    </tr>\n",
       "  </thead>\n",
       "  <tbody>\n",
       "    <tr>\n",
       "      <th>1231</th>\n",
       "      <td>NaN</td>\n",
       "      <td>FEMALE</td>\n",
       "      <td>OB</td>\n",
       "      <td>Sudbury</td>\n",
       "      <td>No</td>\n",
       "      <td>46.466092</td>\n",
       "      <td>-80.998059</td>\n",
       "      <td>Not Resolved</td>\n",
       "    </tr>\n",
       "    <tr>\n",
       "      <th>3475</th>\n",
       "      <td>NaN</td>\n",
       "      <td>FEMALE</td>\n",
       "      <td>OB</td>\n",
       "      <td>Windsor</td>\n",
       "      <td>Yes</td>\n",
       "      <td>42.308796</td>\n",
       "      <td>-83.033670</td>\n",
       "      <td>Not Resolved</td>\n",
       "    </tr>\n",
       "    <tr>\n",
       "      <th>11384</th>\n",
       "      <td>NaN</td>\n",
       "      <td>UNSPECIFIED</td>\n",
       "      <td>NO KNOWN EPI LINK</td>\n",
       "      <td>Simcoe</td>\n",
       "      <td>No</td>\n",
       "      <td>42.847825</td>\n",
       "      <td>-80.303815</td>\n",
       "      <td>Not Resolved</td>\n",
       "    </tr>\n",
       "    <tr>\n",
       "      <th>11666</th>\n",
       "      <td>NaN</td>\n",
       "      <td>FEMALE</td>\n",
       "      <td>CC</td>\n",
       "      <td>Newmarket</td>\n",
       "      <td>No</td>\n",
       "      <td>44.048023</td>\n",
       "      <td>-79.480239</td>\n",
       "      <td>Resolved</td>\n",
       "    </tr>\n",
       "    <tr>\n",
       "      <th>12197</th>\n",
       "      <td>NaN</td>\n",
       "      <td>UNSPECIFIED</td>\n",
       "      <td>NO KNOWN EPI LINK</td>\n",
       "      <td>Windsor</td>\n",
       "      <td>No</td>\n",
       "      <td>42.308796</td>\n",
       "      <td>-83.033670</td>\n",
       "      <td>Fatal</td>\n",
       "    </tr>\n",
       "    <tr>\n",
       "      <th>12884</th>\n",
       "      <td>NaN</td>\n",
       "      <td>UNSPECIFIED</td>\n",
       "      <td>NO KNOWN EPI LINK</td>\n",
       "      <td>Windsor</td>\n",
       "      <td>No</td>\n",
       "      <td>42.308796</td>\n",
       "      <td>-83.033670</td>\n",
       "      <td>Resolved</td>\n",
       "    </tr>\n",
       "  </tbody>\n",
       "</table>\n",
       "</div>"
      ],
      "text/plain": [
       "      Age_Group Client_Gender Case_AcquisitionInfo Reporting_PHU_City  \\\n",
       "1231        NaN        FEMALE                   OB            Sudbury   \n",
       "3475        NaN        FEMALE                   OB            Windsor   \n",
       "11384       NaN   UNSPECIFIED    NO KNOWN EPI LINK             Simcoe   \n",
       "11666       NaN        FEMALE                   CC          Newmarket   \n",
       "12197       NaN   UNSPECIFIED    NO KNOWN EPI LINK            Windsor   \n",
       "12884       NaN   UNSPECIFIED    NO KNOWN EPI LINK            Windsor   \n",
       "\n",
       "      Outbreak_Related  Reporting_PHU_Latitude  Reporting_PHU_Longitude  \\\n",
       "1231                No               46.466092               -80.998059   \n",
       "3475               Yes               42.308796               -83.033670   \n",
       "11384               No               42.847825               -80.303815   \n",
       "11666               No               44.048023               -79.480239   \n",
       "12197               No               42.308796               -83.033670   \n",
       "12884               No               42.308796               -83.033670   \n",
       "\n",
       "           Outcome1  \n",
       "1231   Not Resolved  \n",
       "3475   Not Resolved  \n",
       "11384  Not Resolved  \n",
       "11666      Resolved  \n",
       "12197         Fatal  \n",
       "12884      Resolved  "
      ]
     },
     "execution_count": 4,
     "metadata": {},
     "output_type": "execute_result"
    }
   ],
   "source": [
    "df[df['Age_Group'].isnull()]"
   ]
  },
  {
   "cell_type": "markdown",
   "metadata": {},
   "source": [
    "Above are rows in the data where column \"Age_Group\" is missing. We are replacing the missing value with the mode of the same column corresponding to a particular \"Client_Gender\"."
   ]
  },
  {
   "cell_type": "code",
   "execution_count": 9,
   "metadata": {},
   "outputs": [
    {
     "data": {
      "text/plain": [
       "Client_Gender   Age_Group\n",
       "FEMALE          90s          1209\n",
       "                80s          1178\n",
       "MALE            20s          1075\n",
       "                80s          1013\n",
       "FEMALE          20s           984\n",
       "MALE            60s           834\n",
       "                50s           832\n",
       "                30s           819\n",
       "                70s           795\n",
       "FEMALE          50s           793\n",
       "                30s           777\n",
       "                40s           742\n",
       "MALE            40s           679\n",
       "FEMALE          70s           633\n",
       "MALE            <20           602\n",
       "                90s           594\n",
       "FEMALE          60s           590\n",
       "                <20           590\n",
       "UNSPECIFIED     80s            21\n",
       "                20s            16\n",
       "                90s            15\n",
       "                30s            13\n",
       "                <20            10\n",
       "                60s             8\n",
       "                40s             8\n",
       "                50s             7\n",
       "                70s             6\n",
       "GENDER DIVERSE  30s             1\n",
       "                <20             1\n",
       "dtype: int64"
      ]
     },
     "execution_count": 9,
     "metadata": {},
     "output_type": "execute_result"
    }
   ],
   "source": [
    "df[['Client_Gender','Age_Group']].value_counts()"
   ]
  },
  {
   "cell_type": "code",
   "execution_count": 5,
   "metadata": {},
   "outputs": [
    {
     "data": {
      "text/plain": [
       "(14851, 8)"
      ]
     },
     "execution_count": 5,
     "metadata": {},
     "output_type": "execute_result"
    }
   ],
   "source": [
    "df_female = df[df.Client_Gender=='FEMALE']\n",
    "df_female['Age_Group'].fillna('90s',inplace = True)\n",
    "df_unsp = df[df.Client_Gender=='UNSPECIFIED']\n",
    "df_unsp['Age_Group'].fillna('80s',inplace = True)\n",
    "df_gd = df[df.Client_Gender=='GENDER DIVERSE']\n",
    "df_male = df[df.Client_Gender=='MALE']\n",
    "df_final = df_male.append([df_gd,df_unsp,df_female])\n",
    "df_final.shape"
   ]
  },
  {
   "cell_type": "markdown",
   "metadata": {},
   "source": [
    "Formatting the values of \"Age_Group\" as appropriate."
   ]
  },
  {
   "cell_type": "code",
   "execution_count": 6,
   "metadata": {},
   "outputs": [
    {
     "data": {
      "text/html": [
       "<div>\n",
       "<style scoped>\n",
       "    .dataframe tbody tr th:only-of-type {\n",
       "        vertical-align: middle;\n",
       "    }\n",
       "\n",
       "    .dataframe tbody tr th {\n",
       "        vertical-align: top;\n",
       "    }\n",
       "\n",
       "    .dataframe thead th {\n",
       "        text-align: right;\n",
       "    }\n",
       "</style>\n",
       "<table border=\"1\" class=\"dataframe\">\n",
       "  <thead>\n",
       "    <tr style=\"text-align: right;\">\n",
       "      <th></th>\n",
       "      <th>Age_Group</th>\n",
       "      <th>Client_Gender</th>\n",
       "      <th>Case_AcquisitionInfo</th>\n",
       "      <th>Reporting_PHU_City</th>\n",
       "      <th>Outbreak_Related</th>\n",
       "      <th>Reporting_PHU_Latitude</th>\n",
       "      <th>Reporting_PHU_Longitude</th>\n",
       "      <th>Outcome1</th>\n",
       "    </tr>\n",
       "  </thead>\n",
       "  <tbody>\n",
       "    <tr>\n",
       "      <th>0</th>\n",
       "      <td>50</td>\n",
       "      <td>MALE</td>\n",
       "      <td>NO KNOWN EPI LINK</td>\n",
       "      <td>Oakville</td>\n",
       "      <td>No</td>\n",
       "      <td>43.413997</td>\n",
       "      <td>-79.744796</td>\n",
       "      <td>Resolved</td>\n",
       "    </tr>\n",
       "    <tr>\n",
       "      <th>5</th>\n",
       "      <td>60</td>\n",
       "      <td>MALE</td>\n",
       "      <td>OB</td>\n",
       "      <td>Newmarket</td>\n",
       "      <td>Yes</td>\n",
       "      <td>44.048023</td>\n",
       "      <td>-79.480239</td>\n",
       "      <td>Fatal</td>\n",
       "    </tr>\n",
       "    <tr>\n",
       "      <th>6</th>\n",
       "      <td>70</td>\n",
       "      <td>MALE</td>\n",
       "      <td>NO KNOWN EPI LINK</td>\n",
       "      <td>Thorold</td>\n",
       "      <td>No</td>\n",
       "      <td>43.116537</td>\n",
       "      <td>-79.241220</td>\n",
       "      <td>Fatal</td>\n",
       "    </tr>\n",
       "    <tr>\n",
       "      <th>7</th>\n",
       "      <td>50</td>\n",
       "      <td>MALE</td>\n",
       "      <td>MISSING INFORMATION</td>\n",
       "      <td>Toronto</td>\n",
       "      <td>No</td>\n",
       "      <td>43.656591</td>\n",
       "      <td>-79.379358</td>\n",
       "      <td>Not Resolved</td>\n",
       "    </tr>\n",
       "    <tr>\n",
       "      <th>10</th>\n",
       "      <td>30</td>\n",
       "      <td>MALE</td>\n",
       "      <td>NO KNOWN EPI LINK</td>\n",
       "      <td>Ottawa</td>\n",
       "      <td>No</td>\n",
       "      <td>45.345665</td>\n",
       "      <td>-75.763912</td>\n",
       "      <td>Resolved</td>\n",
       "    </tr>\n",
       "    <tr>\n",
       "      <th>...</th>\n",
       "      <td>...</td>\n",
       "      <td>...</td>\n",
       "      <td>...</td>\n",
       "      <td>...</td>\n",
       "      <td>...</td>\n",
       "      <td>...</td>\n",
       "      <td>...</td>\n",
       "      <td>...</td>\n",
       "    </tr>\n",
       "    <tr>\n",
       "      <th>14845</th>\n",
       "      <td>80</td>\n",
       "      <td>FEMALE</td>\n",
       "      <td>OB</td>\n",
       "      <td>Toronto</td>\n",
       "      <td>Yes</td>\n",
       "      <td>43.656591</td>\n",
       "      <td>-79.379358</td>\n",
       "      <td>Fatal</td>\n",
       "    </tr>\n",
       "    <tr>\n",
       "      <th>14846</th>\n",
       "      <td>19</td>\n",
       "      <td>FEMALE</td>\n",
       "      <td>CC</td>\n",
       "      <td>Hamilton</td>\n",
       "      <td>No</td>\n",
       "      <td>43.257631</td>\n",
       "      <td>-79.871341</td>\n",
       "      <td>Not Resolved</td>\n",
       "    </tr>\n",
       "    <tr>\n",
       "      <th>14847</th>\n",
       "      <td>20</td>\n",
       "      <td>FEMALE</td>\n",
       "      <td>NO KNOWN EPI LINK</td>\n",
       "      <td>Mississauga</td>\n",
       "      <td>No</td>\n",
       "      <td>43.647471</td>\n",
       "      <td>-79.708893</td>\n",
       "      <td>Not Resolved</td>\n",
       "    </tr>\n",
       "    <tr>\n",
       "      <th>14849</th>\n",
       "      <td>50</td>\n",
       "      <td>FEMALE</td>\n",
       "      <td>CC</td>\n",
       "      <td>Newmarket</td>\n",
       "      <td>No</td>\n",
       "      <td>44.048023</td>\n",
       "      <td>-79.480239</td>\n",
       "      <td>Fatal</td>\n",
       "    </tr>\n",
       "    <tr>\n",
       "      <th>14850</th>\n",
       "      <td>90</td>\n",
       "      <td>FEMALE</td>\n",
       "      <td>MISSING INFORMATION</td>\n",
       "      <td>Toronto</td>\n",
       "      <td>No</td>\n",
       "      <td>43.656591</td>\n",
       "      <td>-79.379358</td>\n",
       "      <td>Fatal</td>\n",
       "    </tr>\n",
       "  </tbody>\n",
       "</table>\n",
       "<p>14851 rows × 8 columns</p>\n",
       "</div>"
      ],
      "text/plain": [
       "       Age_Group Client_Gender Case_AcquisitionInfo Reporting_PHU_City  \\\n",
       "0             50          MALE    NO KNOWN EPI LINK           Oakville   \n",
       "5             60          MALE                   OB          Newmarket   \n",
       "6             70          MALE    NO KNOWN EPI LINK            Thorold   \n",
       "7             50          MALE  MISSING INFORMATION            Toronto   \n",
       "10            30          MALE    NO KNOWN EPI LINK             Ottawa   \n",
       "...          ...           ...                  ...                ...   \n",
       "14845         80        FEMALE                   OB            Toronto   \n",
       "14846         19        FEMALE                   CC           Hamilton   \n",
       "14847         20        FEMALE    NO KNOWN EPI LINK        Mississauga   \n",
       "14849         50        FEMALE                   CC          Newmarket   \n",
       "14850         90        FEMALE  MISSING INFORMATION            Toronto   \n",
       "\n",
       "      Outbreak_Related  Reporting_PHU_Latitude  Reporting_PHU_Longitude  \\\n",
       "0                   No               43.413997               -79.744796   \n",
       "5                  Yes               44.048023               -79.480239   \n",
       "6                   No               43.116537               -79.241220   \n",
       "7                   No               43.656591               -79.379358   \n",
       "10                  No               45.345665               -75.763912   \n",
       "...                ...                     ...                      ...   \n",
       "14845              Yes               43.656591               -79.379358   \n",
       "14846               No               43.257631               -79.871341   \n",
       "14847               No               43.647471               -79.708893   \n",
       "14849               No               44.048023               -79.480239   \n",
       "14850               No               43.656591               -79.379358   \n",
       "\n",
       "           Outcome1  \n",
       "0          Resolved  \n",
       "5             Fatal  \n",
       "6             Fatal  \n",
       "7      Not Resolved  \n",
       "10         Resolved  \n",
       "...             ...  \n",
       "14845         Fatal  \n",
       "14846  Not Resolved  \n",
       "14847  Not Resolved  \n",
       "14849         Fatal  \n",
       "14850         Fatal  \n",
       "\n",
       "[14851 rows x 8 columns]"
      ]
     },
     "execution_count": 6,
     "metadata": {},
     "output_type": "execute_result"
    }
   ],
   "source": [
    "df_final[\"Age_Group\"].replace({\"90s\": 90, \"80s\": 80,\"70s\": 70, \"60s\": 60,\"50s\": 50, \"40s\": 40,\"30s\": 30, \"20s\": 20, \"<20\": 19 }, inplace=True)\n",
    "df_final"
   ]
  },
  {
   "cell_type": "code",
   "execution_count": 12,
   "metadata": {},
   "outputs": [
    {
     "data": {
      "text/html": [
       "<div>\n",
       "<style scoped>\n",
       "    .dataframe tbody tr th:only-of-type {\n",
       "        vertical-align: middle;\n",
       "    }\n",
       "\n",
       "    .dataframe tbody tr th {\n",
       "        vertical-align: top;\n",
       "    }\n",
       "\n",
       "    .dataframe thead th {\n",
       "        text-align: right;\n",
       "    }\n",
       "</style>\n",
       "<table border=\"1\" class=\"dataframe\">\n",
       "  <thead>\n",
       "    <tr style=\"text-align: right;\">\n",
       "      <th></th>\n",
       "      <th>Age_Group</th>\n",
       "      <th>Reporting_PHU_Latitude</th>\n",
       "      <th>Reporting_PHU_Longitude</th>\n",
       "    </tr>\n",
       "  </thead>\n",
       "  <tbody>\n",
       "    <tr>\n",
       "      <th>Age_Group</th>\n",
       "      <td>1.00</td>\n",
       "      <td>-0.03</td>\n",
       "      <td>0.03</td>\n",
       "    </tr>\n",
       "    <tr>\n",
       "      <th>Reporting_PHU_Latitude</th>\n",
       "      <td>-0.03</td>\n",
       "      <td>1.00</td>\n",
       "      <td>0.28</td>\n",
       "    </tr>\n",
       "    <tr>\n",
       "      <th>Reporting_PHU_Longitude</th>\n",
       "      <td>0.03</td>\n",
       "      <td>0.28</td>\n",
       "      <td>1.00</td>\n",
       "    </tr>\n",
       "  </tbody>\n",
       "</table>\n",
       "</div>"
      ],
      "text/plain": [
       "                         Age_Group  Reporting_PHU_Latitude  \\\n",
       "Age_Group                     1.00                   -0.03   \n",
       "Reporting_PHU_Latitude       -0.03                    1.00   \n",
       "Reporting_PHU_Longitude       0.03                    0.28   \n",
       "\n",
       "                         Reporting_PHU_Longitude  \n",
       "Age_Group                                   0.03  \n",
       "Reporting_PHU_Latitude                      0.28  \n",
       "Reporting_PHU_Longitude                     1.00  "
      ]
     },
     "execution_count": 12,
     "metadata": {},
     "output_type": "execute_result"
    }
   ],
   "source": [
    "round(df_final.corr(method='pearson'),2)"
   ]
  },
  {
   "cell_type": "markdown",
   "metadata": {},
   "source": [
    "From the above table, we see that the coulmns \"Age Group\", \"Reporting_PHU_Latitude\" and \"Reporting_PHU_Longitude\" have weak linear relationship between each other."
   ]
  },
  {
   "cell_type": "markdown",
   "metadata": {},
   "source": [
    "## 1. Analysis with feature selection"
   ]
  },
  {
   "cell_type": "markdown",
   "metadata": {},
   "source": [
    "Since columns \"Reporting_PHU_Latitude\" & \"Reporting_PHU_Longitude\" gives us the same information as of column \"Reporting_PHU_City\" we are dropping the column for the analysis"
   ]
  },
  {
   "cell_type": "markdown",
   "metadata": {},
   "source": [
    "We are performing one hot encoding on the categorical columns 'Client_Gender', 'Case_AcquisitionInfo', 'Outbreak_Related'"
   ]
  },
  {
   "cell_type": "code",
   "execution_count": 8,
   "metadata": {},
   "outputs": [
    {
     "data": {
      "text/html": [
       "<div>\n",
       "<style scoped>\n",
       "    .dataframe tbody tr th:only-of-type {\n",
       "        vertical-align: middle;\n",
       "    }\n",
       "\n",
       "    .dataframe tbody tr th {\n",
       "        vertical-align: top;\n",
       "    }\n",
       "\n",
       "    .dataframe thead th {\n",
       "        text-align: right;\n",
       "    }\n",
       "</style>\n",
       "<table border=\"1\" class=\"dataframe\">\n",
       "  <thead>\n",
       "    <tr style=\"text-align: right;\">\n",
       "      <th></th>\n",
       "      <th>Age_Group</th>\n",
       "      <th>Reporting_PHU_Latitude</th>\n",
       "      <th>Reporting_PHU_Longitude</th>\n",
       "      <th>Outcome1</th>\n",
       "      <th>Client_Gender_FEMALE</th>\n",
       "      <th>Client_Gender_GENDER DIVERSE</th>\n",
       "      <th>Client_Gender_MALE</th>\n",
       "      <th>Client_Gender_UNSPECIFIED</th>\n",
       "      <th>Case_AcquisitionInfo_CC</th>\n",
       "      <th>Case_AcquisitionInfo_MISSING INFORMATION</th>\n",
       "      <th>Case_AcquisitionInfo_NO KNOWN EPI LINK</th>\n",
       "      <th>Case_AcquisitionInfo_OB</th>\n",
       "      <th>Case_AcquisitionInfo_TRAVEL</th>\n",
       "      <th>Case_AcquisitionInfo_UNSPECIFIED EPI LINK</th>\n",
       "      <th>Outbreak_Related_No</th>\n",
       "      <th>Outbreak_Related_Yes</th>\n",
       "    </tr>\n",
       "  </thead>\n",
       "  <tbody>\n",
       "    <tr>\n",
       "      <th>0</th>\n",
       "      <td>50</td>\n",
       "      <td>43.413997</td>\n",
       "      <td>-79.744796</td>\n",
       "      <td>Resolved</td>\n",
       "      <td>0</td>\n",
       "      <td>0</td>\n",
       "      <td>1</td>\n",
       "      <td>0</td>\n",
       "      <td>0</td>\n",
       "      <td>0</td>\n",
       "      <td>1</td>\n",
       "      <td>0</td>\n",
       "      <td>0</td>\n",
       "      <td>0</td>\n",
       "      <td>1</td>\n",
       "      <td>0</td>\n",
       "    </tr>\n",
       "    <tr>\n",
       "      <th>5</th>\n",
       "      <td>60</td>\n",
       "      <td>44.048023</td>\n",
       "      <td>-79.480239</td>\n",
       "      <td>Fatal</td>\n",
       "      <td>0</td>\n",
       "      <td>0</td>\n",
       "      <td>1</td>\n",
       "      <td>0</td>\n",
       "      <td>0</td>\n",
       "      <td>0</td>\n",
       "      <td>0</td>\n",
       "      <td>1</td>\n",
       "      <td>0</td>\n",
       "      <td>0</td>\n",
       "      <td>0</td>\n",
       "      <td>1</td>\n",
       "    </tr>\n",
       "    <tr>\n",
       "      <th>6</th>\n",
       "      <td>70</td>\n",
       "      <td>43.116537</td>\n",
       "      <td>-79.241220</td>\n",
       "      <td>Fatal</td>\n",
       "      <td>0</td>\n",
       "      <td>0</td>\n",
       "      <td>1</td>\n",
       "      <td>0</td>\n",
       "      <td>0</td>\n",
       "      <td>0</td>\n",
       "      <td>1</td>\n",
       "      <td>0</td>\n",
       "      <td>0</td>\n",
       "      <td>0</td>\n",
       "      <td>1</td>\n",
       "      <td>0</td>\n",
       "    </tr>\n",
       "    <tr>\n",
       "      <th>7</th>\n",
       "      <td>50</td>\n",
       "      <td>43.656591</td>\n",
       "      <td>-79.379358</td>\n",
       "      <td>Not Resolved</td>\n",
       "      <td>0</td>\n",
       "      <td>0</td>\n",
       "      <td>1</td>\n",
       "      <td>0</td>\n",
       "      <td>0</td>\n",
       "      <td>1</td>\n",
       "      <td>0</td>\n",
       "      <td>0</td>\n",
       "      <td>0</td>\n",
       "      <td>0</td>\n",
       "      <td>1</td>\n",
       "      <td>0</td>\n",
       "    </tr>\n",
       "    <tr>\n",
       "      <th>10</th>\n",
       "      <td>30</td>\n",
       "      <td>45.345665</td>\n",
       "      <td>-75.763912</td>\n",
       "      <td>Resolved</td>\n",
       "      <td>0</td>\n",
       "      <td>0</td>\n",
       "      <td>1</td>\n",
       "      <td>0</td>\n",
       "      <td>0</td>\n",
       "      <td>0</td>\n",
       "      <td>1</td>\n",
       "      <td>0</td>\n",
       "      <td>0</td>\n",
       "      <td>0</td>\n",
       "      <td>1</td>\n",
       "      <td>0</td>\n",
       "    </tr>\n",
       "    <tr>\n",
       "      <th>...</th>\n",
       "      <td>...</td>\n",
       "      <td>...</td>\n",
       "      <td>...</td>\n",
       "      <td>...</td>\n",
       "      <td>...</td>\n",
       "      <td>...</td>\n",
       "      <td>...</td>\n",
       "      <td>...</td>\n",
       "      <td>...</td>\n",
       "      <td>...</td>\n",
       "      <td>...</td>\n",
       "      <td>...</td>\n",
       "      <td>...</td>\n",
       "      <td>...</td>\n",
       "      <td>...</td>\n",
       "      <td>...</td>\n",
       "    </tr>\n",
       "    <tr>\n",
       "      <th>14845</th>\n",
       "      <td>80</td>\n",
       "      <td>43.656591</td>\n",
       "      <td>-79.379358</td>\n",
       "      <td>Fatal</td>\n",
       "      <td>1</td>\n",
       "      <td>0</td>\n",
       "      <td>0</td>\n",
       "      <td>0</td>\n",
       "      <td>0</td>\n",
       "      <td>0</td>\n",
       "      <td>0</td>\n",
       "      <td>1</td>\n",
       "      <td>0</td>\n",
       "      <td>0</td>\n",
       "      <td>0</td>\n",
       "      <td>1</td>\n",
       "    </tr>\n",
       "    <tr>\n",
       "      <th>14846</th>\n",
       "      <td>19</td>\n",
       "      <td>43.257631</td>\n",
       "      <td>-79.871341</td>\n",
       "      <td>Not Resolved</td>\n",
       "      <td>1</td>\n",
       "      <td>0</td>\n",
       "      <td>0</td>\n",
       "      <td>0</td>\n",
       "      <td>1</td>\n",
       "      <td>0</td>\n",
       "      <td>0</td>\n",
       "      <td>0</td>\n",
       "      <td>0</td>\n",
       "      <td>0</td>\n",
       "      <td>1</td>\n",
       "      <td>0</td>\n",
       "    </tr>\n",
       "    <tr>\n",
       "      <th>14847</th>\n",
       "      <td>20</td>\n",
       "      <td>43.647471</td>\n",
       "      <td>-79.708893</td>\n",
       "      <td>Not Resolved</td>\n",
       "      <td>1</td>\n",
       "      <td>0</td>\n",
       "      <td>0</td>\n",
       "      <td>0</td>\n",
       "      <td>0</td>\n",
       "      <td>0</td>\n",
       "      <td>1</td>\n",
       "      <td>0</td>\n",
       "      <td>0</td>\n",
       "      <td>0</td>\n",
       "      <td>1</td>\n",
       "      <td>0</td>\n",
       "    </tr>\n",
       "    <tr>\n",
       "      <th>14849</th>\n",
       "      <td>50</td>\n",
       "      <td>44.048023</td>\n",
       "      <td>-79.480239</td>\n",
       "      <td>Fatal</td>\n",
       "      <td>1</td>\n",
       "      <td>0</td>\n",
       "      <td>0</td>\n",
       "      <td>0</td>\n",
       "      <td>1</td>\n",
       "      <td>0</td>\n",
       "      <td>0</td>\n",
       "      <td>0</td>\n",
       "      <td>0</td>\n",
       "      <td>0</td>\n",
       "      <td>1</td>\n",
       "      <td>0</td>\n",
       "    </tr>\n",
       "    <tr>\n",
       "      <th>14850</th>\n",
       "      <td>90</td>\n",
       "      <td>43.656591</td>\n",
       "      <td>-79.379358</td>\n",
       "      <td>Fatal</td>\n",
       "      <td>1</td>\n",
       "      <td>0</td>\n",
       "      <td>0</td>\n",
       "      <td>0</td>\n",
       "      <td>0</td>\n",
       "      <td>1</td>\n",
       "      <td>0</td>\n",
       "      <td>0</td>\n",
       "      <td>0</td>\n",
       "      <td>0</td>\n",
       "      <td>1</td>\n",
       "      <td>0</td>\n",
       "    </tr>\n",
       "  </tbody>\n",
       "</table>\n",
       "<p>14851 rows × 16 columns</p>\n",
       "</div>"
      ],
      "text/plain": [
       "       Age_Group  Reporting_PHU_Latitude  Reporting_PHU_Longitude  \\\n",
       "0             50               43.413997               -79.744796   \n",
       "5             60               44.048023               -79.480239   \n",
       "6             70               43.116537               -79.241220   \n",
       "7             50               43.656591               -79.379358   \n",
       "10            30               45.345665               -75.763912   \n",
       "...          ...                     ...                      ...   \n",
       "14845         80               43.656591               -79.379358   \n",
       "14846         19               43.257631               -79.871341   \n",
       "14847         20               43.647471               -79.708893   \n",
       "14849         50               44.048023               -79.480239   \n",
       "14850         90               43.656591               -79.379358   \n",
       "\n",
       "           Outcome1  Client_Gender_FEMALE  Client_Gender_GENDER DIVERSE  \\\n",
       "0          Resolved                     0                             0   \n",
       "5             Fatal                     0                             0   \n",
       "6             Fatal                     0                             0   \n",
       "7      Not Resolved                     0                             0   \n",
       "10         Resolved                     0                             0   \n",
       "...             ...                   ...                           ...   \n",
       "14845         Fatal                     1                             0   \n",
       "14846  Not Resolved                     1                             0   \n",
       "14847  Not Resolved                     1                             0   \n",
       "14849         Fatal                     1                             0   \n",
       "14850         Fatal                     1                             0   \n",
       "\n",
       "       Client_Gender_MALE  Client_Gender_UNSPECIFIED  Case_AcquisitionInfo_CC  \\\n",
       "0                       1                          0                        0   \n",
       "5                       1                          0                        0   \n",
       "6                       1                          0                        0   \n",
       "7                       1                          0                        0   \n",
       "10                      1                          0                        0   \n",
       "...                   ...                        ...                      ...   \n",
       "14845                   0                          0                        0   \n",
       "14846                   0                          0                        1   \n",
       "14847                   0                          0                        0   \n",
       "14849                   0                          0                        1   \n",
       "14850                   0                          0                        0   \n",
       "\n",
       "       Case_AcquisitionInfo_MISSING INFORMATION  \\\n",
       "0                                             0   \n",
       "5                                             0   \n",
       "6                                             0   \n",
       "7                                             1   \n",
       "10                                            0   \n",
       "...                                         ...   \n",
       "14845                                         0   \n",
       "14846                                         0   \n",
       "14847                                         0   \n",
       "14849                                         0   \n",
       "14850                                         1   \n",
       "\n",
       "       Case_AcquisitionInfo_NO KNOWN EPI LINK  Case_AcquisitionInfo_OB  \\\n",
       "0                                           1                        0   \n",
       "5                                           0                        1   \n",
       "6                                           1                        0   \n",
       "7                                           0                        0   \n",
       "10                                          1                        0   \n",
       "...                                       ...                      ...   \n",
       "14845                                       0                        1   \n",
       "14846                                       0                        0   \n",
       "14847                                       1                        0   \n",
       "14849                                       0                        0   \n",
       "14850                                       0                        0   \n",
       "\n",
       "       Case_AcquisitionInfo_TRAVEL  Case_AcquisitionInfo_UNSPECIFIED EPI LINK  \\\n",
       "0                                0                                          0   \n",
       "5                                0                                          0   \n",
       "6                                0                                          0   \n",
       "7                                0                                          0   \n",
       "10                               0                                          0   \n",
       "...                            ...                                        ...   \n",
       "14845                            0                                          0   \n",
       "14846                            0                                          0   \n",
       "14847                            0                                          0   \n",
       "14849                            0                                          0   \n",
       "14850                            0                                          0   \n",
       "\n",
       "       Outbreak_Related_No  Outbreak_Related_Yes  \n",
       "0                        1                     0  \n",
       "5                        0                     1  \n",
       "6                        1                     0  \n",
       "7                        1                     0  \n",
       "10                       1                     0  \n",
       "...                    ...                   ...  \n",
       "14845                    0                     1  \n",
       "14846                    1                     0  \n",
       "14847                    1                     0  \n",
       "14849                    1                     0  \n",
       "14850                    1                     0  \n",
       "\n",
       "[14851 rows x 16 columns]"
      ]
     },
     "execution_count": 8,
     "metadata": {},
     "output_type": "execute_result"
    }
   ],
   "source": [
    "df_final_feature = df_final.drop(['Reporting_PHU_City'], axis=1)\n",
    "dataset_feature = pd.get_dummies(df_final_feature, columns = ['Client_Gender', 'Case_AcquisitionInfo', 'Outbreak_Related'])\n",
    "dataset_feature"
   ]
  },
  {
   "cell_type": "code",
   "execution_count": 9,
   "metadata": {},
   "outputs": [],
   "source": [
    "target=[\"Outcome1\"]\n",
    "cols_f=[cols_f for cols_f in dataset_feature.columns if cols_f not in target]\n",
    "\n",
    "x_f=dataset_feature[cols_f]\n",
    "y_f=dataset_feature[target]\n",
    "\n",
    "#splitting the dataset into train, test and using train for cross validation\n",
    "x_train_f, x_test_f, y_train_f, y_test_f = train_test_split(x_f, y_f, test_size = 0.2, random_state = 275)"
   ]
  },
  {
   "cell_type": "code",
   "execution_count": 42,
   "metadata": {},
   "outputs": [
    {
     "name": "stdout",
     "output_type": "stream",
     "text": [
      "  Max_depth  Mean Accuracy\n",
      "0         3         0.6441\n",
      "1         5         0.6545\n",
      "2        10         0.6546\n",
      "3      None         0.6440\n"
     ]
    },
    {
     "data": {
      "image/png": "[encoded data removed]",
      "text/plain": [
       "<Figure size 432x288 with 1 Axes>"
      ]
     },
     "metadata": {
      "needs_background": "light"
     },
     "output_type": "display_data"
    }
   ],
   "source": [
    "def dt_classifier(depth=None,min_leaf=1):\n",
    "    DTclassifier = DecisionTreeClassifier(random_state = 0,max_depth=depth,min_samples_leaf=min_leaf)\n",
    "    scores = cross_val_score(DTclassifier, x_train_f, y_train_f, cv=10)\n",
    "    acc=round(scores.mean(),4)\n",
    "    return acc\n",
    "\n",
    "depth=[]\n",
    "res=[]\n",
    "res.append(dt_classifier(depth=3))\n",
    "depth.append(3)\n",
    "res.append(dt_classifier(depth=5))\n",
    "depth.append(5)\n",
    "res.append(dt_classifier(depth=10))\n",
    "depth.append(10)\n",
    "res.append(dt_classifier())\n",
    "depth.append('None')\n",
    "a=list(zip(depth,res))\n",
    "df_dt_acc = pd.DataFrame(a, columns = ['Max_depth', 'Mean Accuracy'])\n",
    "print(df_dt_acc)\n",
    "\n",
    "#Plot graph for different maximum depth values and corresponding accuracy scores\n",
    "df_dt_acc.plot(x='Max_depth', y='Mean Accuracy', color='red');\n",
    "plt.grid();\n",
    "plt.title('Mean Accuracy vs Maximum depth');\n",
    "plt.xlabel('Maximum depth');\n",
    "plt.ylabel('Accuracy');"
   ]
  },
  {
   "cell_type": "code",
   "execution_count": 43,
   "metadata": {},
   "outputs": [
    {
     "name": "stdout",
     "output_type": "stream",
     "text": [
      "    Trees Max_depth  Mean Accuracy\n",
      "0       5         3         0.6051\n",
      "1       5         5         0.6472\n",
      "2       5        10         0.6592\n",
      "3       5      None         0.6428\n",
      "4      10         3         0.6095\n",
      "5      10         5         0.6481\n",
      "6      10        10         0.6587\n",
      "7      10      None         0.6442\n",
      "8      50         3         0.6159\n",
      "9      50         5         0.6570\n",
      "10     50        10         0.6601\n",
      "11     50      None         0.6441\n",
      "12    150         3         0.6268\n",
      "13    150         5         0.6636\n",
      "14    150        10         0.6597\n",
      "15    150      None         0.6478\n",
      "16    200         3         0.6258\n",
      "17    200         5         0.6634\n",
      "18    200        10         0.6594\n",
      "19    200      None         0.6453\n"
     ]
    },
    {
     "data": {
      "image/png": "[encoded data removed]",
      "text/plain": [
       "<Figure size 1080x576 with 2 Axes>"
      ]
     },
     "metadata": {
      "needs_background": "light"
     },
     "output_type": "display_data"
    }
   ],
   "source": [
    "def rf_classifier(estimators,max_depth=None):\n",
    "    RFclassifier = RandomForestClassifier(n_estimators=estimators,random_state = 0,max_depth=max_depth)\n",
    "    scores = cross_val_score(RFclassifier, x_train_f, y_train_f.values.ravel(), cv=10)\n",
    "    acc=round(scores.mean(),4)\n",
    "    return acc\n",
    "\n",
    "trees = [5, 10, 50, 150, 200]\n",
    "depth = [3, 5, 10, None]\n",
    "tree_depth_acc=[]\n",
    "for i in trees:\n",
    "    for j in depth:\n",
    "        tree_depth_acc.append([i,j,rf_classifier(estimators=i,max_depth=j)])\n",
    "df_rf_acc = pd.DataFrame(tree_depth_acc, columns = ['Trees', 'Max_depth','Mean Accuracy'])\n",
    "df_rf_acc.replace(np.nan,'None',inplace=True)\n",
    "print(df_rf_acc)\n",
    "\n",
    "df_rf_acc=df_rf_acc.pivot(index='Trees',columns='Max_depth',values='Mean Accuracy')\n",
    "#Plotting the graph\n",
    "plt.figure(figsize=(15,8))\n",
    "sns.heatmap(data=df_rf_acc,annot=True,cmap=\"YlGnBu\")\n",
    "plt.title(\"Mean Accuracy plot for Train data\")\n",
    "plt.show()"
   ]
  },
  {
   "cell_type": "code",
   "execution_count": 44,
   "metadata": {},
   "outputs": [
    {
     "name": "stdout",
     "output_type": "stream",
     "text": [
      "   Estimators  Mean Accuracy\n",
      "0           5         0.6549\n",
      "1          10         0.6575\n",
      "2          50         0.6598\n",
      "3         150         0.6600\n",
      "4         200         0.6613\n"
     ]
    },
    {
     "data": {
      "image/png": "[encoded data removed]",
      "text/plain": [
       "<Figure size 432x288 with 1 Axes>"
      ]
     },
     "metadata": {
      "needs_background": "light"
     },
     "output_type": "display_data"
    }
   ],
   "source": [
    "def gb_classifier(estimators):\n",
    "    gbclassifier = GradientBoostingClassifier(n_estimators=estimators,random_state = 0)\n",
    "    scores = cross_val_score(gbclassifier, x_train_f, y_train_f.values.ravel(), cv=10)\n",
    "    acc=round(scores.mean(),4)\n",
    "    return acc\n",
    "\n",
    "bstages = [5, 10, 50, 150, 200]\n",
    "bstages_acc=[]\n",
    "for i in bstages:\n",
    "    bstages_acc.append([i,gb_classifier(estimators=i)])\n",
    "df_gb_acc = pd.DataFrame(bstages_acc, columns = ['Estimators','Mean Accuracy'])\n",
    "print(df_gb_acc)\n",
    "\n",
    "#Plot graph for different number of estimators and corresponding accuracy scores\n",
    "df_gb_acc.plot(x='Estimators', y='Mean Accuracy', color='red');\n",
    "plt.grid();\n",
    "plt.title('Mean Accuracy vs Number of Estimators');\n",
    "plt.xlabel('Number of Estimators');\n",
    "plt.ylabel('Mean Accuracy');"
   ]
  },
  {
   "cell_type": "markdown",
   "metadata": {},
   "source": [
    "We are performing one hot encoding on the categorical columns 'Client_Gender', 'Case_AcquisitionInfo', 'Reporting_PHU_City', 'Outbreak_Related'"
   ]
  },
  {
   "cell_type": "code",
   "execution_count": 10,
   "metadata": {},
   "outputs": [
    {
     "data": {
      "text/html": [
       "<div>\n",
       "<style scoped>\n",
       "    .dataframe tbody tr th:only-of-type {\n",
       "        vertical-align: middle;\n",
       "    }\n",
       "\n",
       "    .dataframe tbody tr th {\n",
       "        vertical-align: top;\n",
       "    }\n",
       "\n",
       "    .dataframe thead th {\n",
       "        text-align: right;\n",
       "    }\n",
       "</style>\n",
       "<table border=\"1\" class=\"dataframe\">\n",
       "  <thead>\n",
       "    <tr style=\"text-align: right;\">\n",
       "      <th></th>\n",
       "      <th>Age_Group</th>\n",
       "      <th>Reporting_PHU_Latitude</th>\n",
       "      <th>Reporting_PHU_Longitude</th>\n",
       "      <th>Outcome1</th>\n",
       "      <th>Client_Gender_FEMALE</th>\n",
       "      <th>Client_Gender_GENDER DIVERSE</th>\n",
       "      <th>Client_Gender_MALE</th>\n",
       "      <th>Client_Gender_UNSPECIFIED</th>\n",
       "      <th>Case_AcquisitionInfo_CC</th>\n",
       "      <th>Case_AcquisitionInfo_MISSING INFORMATION</th>\n",
       "      <th>...</th>\n",
       "      <th>Reporting_PHU_City_Sudbury</th>\n",
       "      <th>Reporting_PHU_City_Thorold</th>\n",
       "      <th>Reporting_PHU_City_Thunder Bay</th>\n",
       "      <th>Reporting_PHU_City_Timmins</th>\n",
       "      <th>Reporting_PHU_City_Toronto</th>\n",
       "      <th>Reporting_PHU_City_Waterloo</th>\n",
       "      <th>Reporting_PHU_City_Whitby</th>\n",
       "      <th>Reporting_PHU_City_Windsor</th>\n",
       "      <th>Outbreak_Related_No</th>\n",
       "      <th>Outbreak_Related_Yes</th>\n",
       "    </tr>\n",
       "  </thead>\n",
       "  <tbody>\n",
       "    <tr>\n",
       "      <th>0</th>\n",
       "      <td>50</td>\n",
       "      <td>43.413997</td>\n",
       "      <td>-79.744796</td>\n",
       "      <td>Resolved</td>\n",
       "      <td>0</td>\n",
       "      <td>0</td>\n",
       "      <td>1</td>\n",
       "      <td>0</td>\n",
       "      <td>0</td>\n",
       "      <td>0</td>\n",
       "      <td>...</td>\n",
       "      <td>0</td>\n",
       "      <td>0</td>\n",
       "      <td>0</td>\n",
       "      <td>0</td>\n",
       "      <td>0</td>\n",
       "      <td>0</td>\n",
       "      <td>0</td>\n",
       "      <td>0</td>\n",
       "      <td>1</td>\n",
       "      <td>0</td>\n",
       "    </tr>\n",
       "    <tr>\n",
       "      <th>5</th>\n",
       "      <td>60</td>\n",
       "      <td>44.048023</td>\n",
       "      <td>-79.480239</td>\n",
       "      <td>Fatal</td>\n",
       "      <td>0</td>\n",
       "      <td>0</td>\n",
       "      <td>1</td>\n",
       "      <td>0</td>\n",
       "      <td>0</td>\n",
       "      <td>0</td>\n",
       "      <td>...</td>\n",
       "      <td>0</td>\n",
       "      <td>0</td>\n",
       "      <td>0</td>\n",
       "      <td>0</td>\n",
       "      <td>0</td>\n",
       "      <td>0</td>\n",
       "      <td>0</td>\n",
       "      <td>0</td>\n",
       "      <td>0</td>\n",
       "      <td>1</td>\n",
       "    </tr>\n",
       "    <tr>\n",
       "      <th>6</th>\n",
       "      <td>70</td>\n",
       "      <td>43.116537</td>\n",
       "      <td>-79.241220</td>\n",
       "      <td>Fatal</td>\n",
       "      <td>0</td>\n",
       "      <td>0</td>\n",
       "      <td>1</td>\n",
       "      <td>0</td>\n",
       "      <td>0</td>\n",
       "      <td>0</td>\n",
       "      <td>...</td>\n",
       "      <td>0</td>\n",
       "      <td>1</td>\n",
       "      <td>0</td>\n",
       "      <td>0</td>\n",
       "      <td>0</td>\n",
       "      <td>0</td>\n",
       "      <td>0</td>\n",
       "      <td>0</td>\n",
       "      <td>1</td>\n",
       "      <td>0</td>\n",
       "    </tr>\n",
       "    <tr>\n",
       "      <th>7</th>\n",
       "      <td>50</td>\n",
       "      <td>43.656591</td>\n",
       "      <td>-79.379358</td>\n",
       "      <td>Not Resolved</td>\n",
       "      <td>0</td>\n",
       "      <td>0</td>\n",
       "      <td>1</td>\n",
       "      <td>0</td>\n",
       "      <td>0</td>\n",
       "      <td>1</td>\n",
       "      <td>...</td>\n",
       "      <td>0</td>\n",
       "      <td>0</td>\n",
       "      <td>0</td>\n",
       "      <td>0</td>\n",
       "      <td>1</td>\n",
       "      <td>0</td>\n",
       "      <td>0</td>\n",
       "      <td>0</td>\n",
       "      <td>1</td>\n",
       "      <td>0</td>\n",
       "    </tr>\n",
       "    <tr>\n",
       "      <th>10</th>\n",
       "      <td>30</td>\n",
       "      <td>45.345665</td>\n",
       "      <td>-75.763912</td>\n",
       "      <td>Resolved</td>\n",
       "      <td>0</td>\n",
       "      <td>0</td>\n",
       "      <td>1</td>\n",
       "      <td>0</td>\n",
       "      <td>0</td>\n",
       "      <td>0</td>\n",
       "      <td>...</td>\n",
       "      <td>0</td>\n",
       "      <td>0</td>\n",
       "      <td>0</td>\n",
       "      <td>0</td>\n",
       "      <td>0</td>\n",
       "      <td>0</td>\n",
       "      <td>0</td>\n",
       "      <td>0</td>\n",
       "      <td>1</td>\n",
       "      <td>0</td>\n",
       "    </tr>\n",
       "    <tr>\n",
       "      <th>...</th>\n",
       "      <td>...</td>\n",
       "      <td>...</td>\n",
       "      <td>...</td>\n",
       "      <td>...</td>\n",
       "      <td>...</td>\n",
       "      <td>...</td>\n",
       "      <td>...</td>\n",
       "      <td>...</td>\n",
       "      <td>...</td>\n",
       "      <td>...</td>\n",
       "      <td>...</td>\n",
       "      <td>...</td>\n",
       "      <td>...</td>\n",
       "      <td>...</td>\n",
       "      <td>...</td>\n",
       "      <td>...</td>\n",
       "      <td>...</td>\n",
       "      <td>...</td>\n",
       "      <td>...</td>\n",
       "      <td>...</td>\n",
       "      <td>...</td>\n",
       "    </tr>\n",
       "    <tr>\n",
       "      <th>14845</th>\n",
       "      <td>80</td>\n",
       "      <td>43.656591</td>\n",
       "      <td>-79.379358</td>\n",
       "      <td>Fatal</td>\n",
       "      <td>1</td>\n",
       "      <td>0</td>\n",
       "      <td>0</td>\n",
       "      <td>0</td>\n",
       "      <td>0</td>\n",
       "      <td>0</td>\n",
       "      <td>...</td>\n",
       "      <td>0</td>\n",
       "      <td>0</td>\n",
       "      <td>0</td>\n",
       "      <td>0</td>\n",
       "      <td>1</td>\n",
       "      <td>0</td>\n",
       "      <td>0</td>\n",
       "      <td>0</td>\n",
       "      <td>0</td>\n",
       "      <td>1</td>\n",
       "    </tr>\n",
       "    <tr>\n",
       "      <th>14846</th>\n",
       "      <td>19</td>\n",
       "      <td>43.257631</td>\n",
       "      <td>-79.871341</td>\n",
       "      <td>Not Resolved</td>\n",
       "      <td>1</td>\n",
       "      <td>0</td>\n",
       "      <td>0</td>\n",
       "      <td>0</td>\n",
       "      <td>1</td>\n",
       "      <td>0</td>\n",
       "      <td>...</td>\n",
       "      <td>0</td>\n",
       "      <td>0</td>\n",
       "      <td>0</td>\n",
       "      <td>0</td>\n",
       "      <td>0</td>\n",
       "      <td>0</td>\n",
       "      <td>0</td>\n",
       "      <td>0</td>\n",
       "      <td>1</td>\n",
       "      <td>0</td>\n",
       "    </tr>\n",
       "    <tr>\n",
       "      <th>14847</th>\n",
       "      <td>20</td>\n",
       "      <td>43.647471</td>\n",
       "      <td>-79.708893</td>\n",
       "      <td>Not Resolved</td>\n",
       "      <td>1</td>\n",
       "      <td>0</td>\n",
       "      <td>0</td>\n",
       "      <td>0</td>\n",
       "      <td>0</td>\n",
       "      <td>0</td>\n",
       "      <td>...</td>\n",
       "      <td>0</td>\n",
       "      <td>0</td>\n",
       "      <td>0</td>\n",
       "      <td>0</td>\n",
       "      <td>0</td>\n",
       "      <td>0</td>\n",
       "      <td>0</td>\n",
       "      <td>0</td>\n",
       "      <td>1</td>\n",
       "      <td>0</td>\n",
       "    </tr>\n",
       "    <tr>\n",
       "      <th>14849</th>\n",
       "      <td>50</td>\n",
       "      <td>44.048023</td>\n",
       "      <td>-79.480239</td>\n",
       "      <td>Fatal</td>\n",
       "      <td>1</td>\n",
       "      <td>0</td>\n",
       "      <td>0</td>\n",
       "      <td>0</td>\n",
       "      <td>1</td>\n",
       "      <td>0</td>\n",
       "      <td>...</td>\n",
       "      <td>0</td>\n",
       "      <td>0</td>\n",
       "      <td>0</td>\n",
       "      <td>0</td>\n",
       "      <td>0</td>\n",
       "      <td>0</td>\n",
       "      <td>0</td>\n",
       "      <td>0</td>\n",
       "      <td>1</td>\n",
       "      <td>0</td>\n",
       "    </tr>\n",
       "    <tr>\n",
       "      <th>14850</th>\n",
       "      <td>90</td>\n",
       "      <td>43.656591</td>\n",
       "      <td>-79.379358</td>\n",
       "      <td>Fatal</td>\n",
       "      <td>1</td>\n",
       "      <td>0</td>\n",
       "      <td>0</td>\n",
       "      <td>0</td>\n",
       "      <td>0</td>\n",
       "      <td>1</td>\n",
       "      <td>...</td>\n",
       "      <td>0</td>\n",
       "      <td>0</td>\n",
       "      <td>0</td>\n",
       "      <td>0</td>\n",
       "      <td>1</td>\n",
       "      <td>0</td>\n",
       "      <td>0</td>\n",
       "      <td>0</td>\n",
       "      <td>1</td>\n",
       "      <td>0</td>\n",
       "    </tr>\n",
       "  </tbody>\n",
       "</table>\n",
       "<p>14851 rows × 50 columns</p>\n",
       "</div>"
      ],
      "text/plain": [
       "       Age_Group  Reporting_PHU_Latitude  Reporting_PHU_Longitude  \\\n",
       "0             50               43.413997               -79.744796   \n",
       "5             60               44.048023               -79.480239   \n",
       "6             70               43.116537               -79.241220   \n",
       "7             50               43.656591               -79.379358   \n",
       "10            30               45.345665               -75.763912   \n",
       "...          ...                     ...                      ...   \n",
       "14845         80               43.656591               -79.379358   \n",
       "14846         19               43.257631               -79.871341   \n",
       "14847         20               43.647471               -79.708893   \n",
       "14849         50               44.048023               -79.480239   \n",
       "14850         90               43.656591               -79.379358   \n",
       "\n",
       "           Outcome1  Client_Gender_FEMALE  Client_Gender_GENDER DIVERSE  \\\n",
       "0          Resolved                     0                             0   \n",
       "5             Fatal                     0                             0   \n",
       "6             Fatal                     0                             0   \n",
       "7      Not Resolved                     0                             0   \n",
       "10         Resolved                     0                             0   \n",
       "...             ...                   ...                           ...   \n",
       "14845         Fatal                     1                             0   \n",
       "14846  Not Resolved                     1                             0   \n",
       "14847  Not Resolved                     1                             0   \n",
       "14849         Fatal                     1                             0   \n",
       "14850         Fatal                     1                             0   \n",
       "\n",
       "       Client_Gender_MALE  Client_Gender_UNSPECIFIED  Case_AcquisitionInfo_CC  \\\n",
       "0                       1                          0                        0   \n",
       "5                       1                          0                        0   \n",
       "6                       1                          0                        0   \n",
       "7                       1                          0                        0   \n",
       "10                      1                          0                        0   \n",
       "...                   ...                        ...                      ...   \n",
       "14845                   0                          0                        0   \n",
       "14846                   0                          0                        1   \n",
       "14847                   0                          0                        0   \n",
       "14849                   0                          0                        1   \n",
       "14850                   0                          0                        0   \n",
       "\n",
       "       Case_AcquisitionInfo_MISSING INFORMATION  ...  \\\n",
       "0                                             0  ...   \n",
       "5                                             0  ...   \n",
       "6                                             0  ...   \n",
       "7                                             1  ...   \n",
       "10                                            0  ...   \n",
       "...                                         ...  ...   \n",
       "14845                                         0  ...   \n",
       "14846                                         0  ...   \n",
       "14847                                         0  ...   \n",
       "14849                                         0  ...   \n",
       "14850                                         1  ...   \n",
       "\n",
       "       Reporting_PHU_City_Sudbury  Reporting_PHU_City_Thorold  \\\n",
       "0                               0                           0   \n",
       "5                               0                           0   \n",
       "6                               0                           1   \n",
       "7                               0                           0   \n",
       "10                              0                           0   \n",
       "...                           ...                         ...   \n",
       "14845                           0                           0   \n",
       "14846                           0                           0   \n",
       "14847                           0                           0   \n",
       "14849                           0                           0   \n",
       "14850                           0                           0   \n",
       "\n",
       "       Reporting_PHU_City_Thunder Bay  Reporting_PHU_City_Timmins  \\\n",
       "0                                   0                           0   \n",
       "5                                   0                           0   \n",
       "6                                   0                           0   \n",
       "7                                   0                           0   \n",
       "10                                  0                           0   \n",
       "...                               ...                         ...   \n",
       "14845                               0                           0   \n",
       "14846                               0                           0   \n",
       "14847                               0                           0   \n",
       "14849                               0                           0   \n",
       "14850                               0                           0   \n",
       "\n",
       "       Reporting_PHU_City_Toronto  Reporting_PHU_City_Waterloo  \\\n",
       "0                               0                            0   \n",
       "5                               0                            0   \n",
       "6                               0                            0   \n",
       "7                               1                            0   \n",
       "10                              0                            0   \n",
       "...                           ...                          ...   \n",
       "14845                           1                            0   \n",
       "14846                           0                            0   \n",
       "14847                           0                            0   \n",
       "14849                           0                            0   \n",
       "14850                           1                            0   \n",
       "\n",
       "       Reporting_PHU_City_Whitby  Reporting_PHU_City_Windsor  \\\n",
       "0                              0                           0   \n",
       "5                              0                           0   \n",
       "6                              0                           0   \n",
       "7                              0                           0   \n",
       "10                             0                           0   \n",
       "...                          ...                         ...   \n",
       "14845                          0                           0   \n",
       "14846                          0                           0   \n",
       "14847                          0                           0   \n",
       "14849                          0                           0   \n",
       "14850                          0                           0   \n",
       "\n",
       "       Outbreak_Related_No  Outbreak_Related_Yes  \n",
       "0                        1                     0  \n",
       "5                        0                     1  \n",
       "6                        1                     0  \n",
       "7                        1                     0  \n",
       "10                       1                     0  \n",
       "...                    ...                   ...  \n",
       "14845                    0                     1  \n",
       "14846                    1                     0  \n",
       "14847                    1                     0  \n",
       "14849                    1                     0  \n",
       "14850                    1                     0  \n",
       "\n",
       "[14851 rows x 50 columns]"
      ]
     },
     "execution_count": 10,
     "metadata": {},
     "output_type": "execute_result"
    }
   ],
   "source": [
    "dataset = pd.get_dummies(df_final, columns = ['Client_Gender', 'Case_AcquisitionInfo', 'Reporting_PHU_City', 'Outbreak_Related'])\n",
    "dataset"
   ]
  },
  {
   "cell_type": "markdown",
   "metadata": {},
   "source": [
    "## 2. Analysis with all features without scaling"
   ]
  },
  {
   "cell_type": "code",
   "execution_count": 11,
   "metadata": {},
   "outputs": [],
   "source": [
    "#Dividiing each dataset into features(X) and target(Y)\n",
    "target=[\"Outcome1\"]\n",
    "cols=[col for col in dataset.columns if col not in target]\n",
    "\n",
    "x=dataset[cols]\n",
    "y=dataset[target]\n",
    "\n",
    "#splitting the dataset into train, test and using train for cross validation\n",
    "\n",
    "x_train, x_test, y_train, y_test = train_test_split(x, y, test_size = 0.2, random_state = 275)"
   ]
  },
  {
   "cell_type": "code",
   "execution_count": 15,
   "metadata": {},
   "outputs": [
    {
     "name": "stdout",
     "output_type": "stream",
     "text": [
      "  Max_depth  Mean Accuracy\n",
      "0         3         0.6447\n",
      "1         5         0.6538\n",
      "2        10         0.6557\n",
      "3      None         0.6455\n"
     ]
    },
    {
     "data": {
      "image/png": "[encoded data removed]",
      "text/plain": [
       "<Figure size 432x288 with 1 Axes>"
      ]
     },
     "metadata": {
      "needs_background": "light"
     },
     "output_type": "display_data"
    }
   ],
   "source": [
    "def dt_classifier(depth=None,min_leaf=1):\n",
    "    DTclassifier = DecisionTreeClassifier(random_state = 0,max_depth=depth,min_samples_leaf=min_leaf)\n",
    "    scores = cross_val_score(DTclassifier, x_train, y_train, cv=10)\n",
    "    acc=round(scores.mean(),4)\n",
    "    return acc\n",
    "\n",
    "depth=[]\n",
    "res=[]\n",
    "res.append(dt_classifier(depth=3))\n",
    "depth.append(3)\n",
    "res.append(dt_classifier(depth=5))\n",
    "depth.append(5)\n",
    "res.append(dt_classifier(depth=10))\n",
    "depth.append(10)\n",
    "res.append(dt_classifier())\n",
    "depth.append('None')\n",
    "a=list(zip(depth,res))\n",
    "df_dt_acc = pd.DataFrame(a, columns = ['Max_depth', 'Mean Accuracy'])\n",
    "print(df_dt_acc)\n",
    "\n",
    "#Plot graph for different maximum depth values and corresponding accuracy scores\n",
    "df_dt_acc.plot(x='Max_depth', y='Mean Accuracy', color='red');\n",
    "plt.grid();\n",
    "plt.title('Mean Accuracy vs Maximum depth');\n",
    "plt.xlabel('Maximum depth');\n",
    "plt.ylabel('Accuracy');"
   ]
  },
  {
   "cell_type": "markdown",
   "metadata": {},
   "source": [
    "Mean accuracies of Decision Tree for differnt values of max_depth has been plotted and it is observed that mean accuracy increased with increase in max_depth, reached maximum and then started decreasing."
   ]
  },
  {
   "cell_type": "code",
   "execution_count": 16,
   "metadata": {},
   "outputs": [
    {
     "data": {
      "image/png": "[encoded data removed]",
      "text/plain": [
       "<Figure size 1080x576 with 2 Axes>"
      ]
     },
     "metadata": {
      "needs_background": "light"
     },
     "output_type": "display_data"
    }
   ],
   "source": [
    "def rf_classifier(estimators,max_depth=None):\n",
    "    RFclassifier = RandomForestClassifier(n_estimators=estimators,random_state = 0,max_depth=max_depth)\n",
    "    scores = cross_val_score(RFclassifier, x_train, y_train.values.ravel(), cv=10)\n",
    "    acc=round(scores.mean(),4)\n",
    "    return acc\n",
    "\n",
    "trees = [5, 10, 50, 150, 200]\n",
    "depth = [3, 5, 10, None]\n",
    "tree_depth_acc=[]\n",
    "for i in trees:\n",
    "    for j in depth:\n",
    "        tree_depth_acc.append([i,j,rf_classifier(estimators=i,max_depth=j)])\n",
    "df_rf_acc = pd.DataFrame(tree_depth_acc, columns = ['Trees', 'Max_depth','Mean Accuracy'])\n",
    "df_rf_acc.replace(np.nan,'None',inplace=True)\n",
    "\n",
    "df_rf_acc=df_rf_acc.pivot(index='Trees',columns='Max_depth',values='Mean Accuracy')\n",
    "#Plotting the graph\n",
    "plt.figure(figsize=(15,8))\n",
    "sns.heatmap(data=df_rf_acc,annot=True,cmap=\"YlGnBu\")\n",
    "plt.title(\"Mean Accuracy plot for Train data\")\n",
    "plt.show()"
   ]
  },
  {
   "cell_type": "markdown",
   "metadata": {},
   "source": [
    "Mean accuracies of Random Forest classifier for different values of max_depth and no of trees has been plotted as heat map and it is observed that mean accuracy increased with increase in no of trees and max_depth, reached the highest value and then decreased further."
   ]
  },
  {
   "cell_type": "code",
   "execution_count": 17,
   "metadata": {},
   "outputs": [
    {
     "name": "stdout",
     "output_type": "stream",
     "text": [
      "   Estimators  Mean Accuracy\n",
      "0           5         0.6551\n",
      "1          10         0.6571\n",
      "2          50         0.6643\n",
      "3         150         0.6652\n",
      "4         200         0.6650\n"
     ]
    },
    {
     "data": {
      "image/png": "[encoded data removed]",
      "text/plain": [
       "<Figure size 432x288 with 1 Axes>"
      ]
     },
     "metadata": {
      "needs_background": "light"
     },
     "output_type": "display_data"
    }
   ],
   "source": [
    "def gb_classifier(estimators):\n",
    "    gbclassifier = GradientBoostingClassifier(n_estimators=estimators,random_state = 0)\n",
    "    scores = cross_val_score(gbclassifier, x_train, y_train.values.ravel(), cv=10)\n",
    "    acc=round(scores.mean(),4)\n",
    "    return acc\n",
    "\n",
    "bstages = [5, 10, 50, 150, 200]\n",
    "bstages_acc=[]\n",
    "for i in bstages:\n",
    "    bstages_acc.append([i,gb_classifier(estimators=i)])\n",
    "df_gb_acc = pd.DataFrame(bstages_acc, columns = ['Estimators','Mean Accuracy'])\n",
    "print(df_gb_acc)\n",
    "\n",
    "#Plot graph for different number of estimators and corresponding accuracy scores\n",
    "df_gb_acc.plot(x='Estimators', y='Mean Accuracy', color='red');\n",
    "plt.grid();\n",
    "plt.title('Mean Accuracy vs Number of Estimators');\n",
    "plt.xlabel('Number of Estimators');\n",
    "plt.ylabel('Mean Accuracy');"
   ]
  },
  {
   "cell_type": "markdown",
   "metadata": {},
   "source": [
    "Mean accuracies of GB classifier for different values of estimators has been plotted and it is observed that mean accuracy increased as estimators increased."
   ]
  },
  {
   "cell_type": "markdown",
   "metadata": {},
   "source": [
    "## 3. Analysis with all features and  scaling"
   ]
  },
  {
   "cell_type": "code",
   "execution_count": 18,
   "metadata": {
    "scrolled": true
   },
   "outputs": [],
   "source": [
    "dataset1=x_train.copy()\n",
    "scale = StandardScaler()\n",
    "columns_to_scale = ['Age_Group', 'Reporting_PHU_Latitude', 'Reporting_PHU_Longitude']\n",
    "dataset1[columns_to_scale] = scale.fit_transform(dataset1[columns_to_scale])"
   ]
  },
  {
   "cell_type": "code",
   "execution_count": 19,
   "metadata": {},
   "outputs": [
    {
     "name": "stdout",
     "output_type": "stream",
     "text": [
      "  Max_depth  Mean Accuracy\n",
      "0         3         0.6447\n",
      "1         5         0.6538\n",
      "2        10         0.6557\n",
      "3      None         0.6455\n"
     ]
    },
    {
     "data": {
      "image/png": "[encoded data removed]",
      "text/plain": [
       "<Figure size 432x288 with 1 Axes>"
      ]
     },
     "metadata": {
      "needs_background": "light"
     },
     "output_type": "display_data"
    }
   ],
   "source": [
    "def dt_classifier(depth=None,min_leaf=1):\n",
    "    DTclassifier = DecisionTreeClassifier(random_state = 0,max_depth=depth,min_samples_leaf=min_leaf)\n",
    "    scores = cross_val_score(DTclassifier, dataset1, y_train, cv=10)\n",
    "    acc=round(scores.mean(),4)\n",
    "    return acc\n",
    "\n",
    "depth=[]\n",
    "res=[]\n",
    "res.append(dt_classifier(depth=3))\n",
    "depth.append(3)\n",
    "res.append(dt_classifier(depth=5))\n",
    "depth.append(5)\n",
    "res.append(dt_classifier(depth=10))\n",
    "depth.append(10)\n",
    "res.append(dt_classifier())\n",
    "depth.append('None')\n",
    "a=list(zip(depth,res))\n",
    "df_dt_acc = pd.DataFrame(a, columns = ['Max_depth', 'Mean Accuracy'])\n",
    "print(df_dt_acc)\n",
    "\n",
    "#Plot graph for different maximum depth values and corresponding accuracy scores\n",
    "df_dt_acc.plot(x='Max_depth', y='Mean Accuracy', color='red');\n",
    "plt.grid();\n",
    "plt.title('Mean Accuracy vs Maximum depth');\n",
    "plt.xlabel('Maximum depth');\n",
    "plt.ylabel('Accuracy');"
   ]
  },
  {
   "cell_type": "code",
   "execution_count": 20,
   "metadata": {},
   "outputs": [
    {
     "data": {
      "image/png": "[encoded data removed]",
      "text/plain": [
       "<Figure size 1080x576 with 2 Axes>"
      ]
     },
     "metadata": {
      "needs_background": "light"
     },
     "output_type": "display_data"
    }
   ],
   "source": [
    "def rf_classifier(estimators,max_depth=None):\n",
    "    RFclassifier = RandomForestClassifier(n_estimators=estimators,random_state = 0,max_depth=max_depth)\n",
    "    scores = cross_val_score(RFclassifier, dataset1, y_train.values.ravel(), cv=10)\n",
    "    acc=round(scores.mean(),4)\n",
    "    return acc\n",
    "\n",
    "trees = [5, 10, 50, 150, 200]\n",
    "depth = [3, 5, 10, None]\n",
    "tree_depth_acc=[]\n",
    "for i in trees:\n",
    "    for j in depth:\n",
    "        tree_depth_acc.append([i,j,rf_classifier(estimators=i,max_depth=j)])\n",
    "df_rf_acc = pd.DataFrame(tree_depth_acc, columns = ['Trees', 'Max_depth','Mean Accuracy'])\n",
    "df_rf_acc.replace(np.nan,'None',inplace=True)\n",
    "\n",
    "df_rf_acc=df_rf_acc.pivot(index='Trees',columns='Max_depth',values='Mean Accuracy')\n",
    "#Plotting the graph\n",
    "plt.figure(figsize=(15,8))\n",
    "sns.heatmap(data=df_rf_acc,annot=True,cmap=\"YlGnBu\")\n",
    "plt.title(\"Mean Accuracy plot for Train data\")\n",
    "plt.show()"
   ]
  },
  {
   "cell_type": "code",
   "execution_count": 21,
   "metadata": {},
   "outputs": [
    {
     "name": "stdout",
     "output_type": "stream",
     "text": [
      "   Estimators  Mean Accuracy\n",
      "0           5         0.6551\n",
      "1          10         0.6571\n",
      "2          50         0.6643\n",
      "3         150         0.6652\n",
      "4         200         0.6650\n"
     ]
    },
    {
     "data": {
      "image/png": "[encoded data removed]",
      "text/plain": [
       "<Figure size 432x288 with 1 Axes>"
      ]
     },
     "metadata": {
      "needs_background": "light"
     },
     "output_type": "display_data"
    }
   ],
   "source": [
    "def gb_classifier(estimators):\n",
    "    gbclassifier = GradientBoostingClassifier(n_estimators=estimators,random_state = 0)\n",
    "    scores = cross_val_score(gbclassifier, dataset1, y_train.values.ravel(), cv=10)\n",
    "    acc=round(scores.mean(),4)\n",
    "    return acc\n",
    "\n",
    "bstages = [5, 10, 50, 150, 200]\n",
    "bstages_acc=[]\n",
    "for i in bstages:\n",
    "    bstages_acc.append([i,gb_classifier(estimators=i)])\n",
    "df_gb_acc = pd.DataFrame(bstages_acc, columns = ['Estimators','Mean Accuracy'])\n",
    "print(df_gb_acc)\n",
    "\n",
    "#Plot graph for different number of estimators and corresponding accuracy scores\n",
    "df_gb_acc.plot(x='Estimators', y='Mean Accuracy', color='red');\n",
    "plt.grid();\n",
    "plt.title('Mean Accuracy vs Number of Estimators');\n",
    "plt.xlabel('Number of Estimators');\n",
    "plt.ylabel('Mean Accuracy');"
   ]
  },
  {
   "cell_type": "markdown",
   "metadata": {},
   "source": [
    "## Analysis and Discussion "
   ]
  },
  {
   "cell_type": "markdown",
   "metadata": {},
   "source": [
    "### Decision Tree"
   ]
  },
  {
   "cell_type": "markdown",
   "metadata": {},
   "source": [
    "From the analyis above, we noticed that the Decision tree classifier gave maximum mean accuracy with all features at max_depth 10. Hence, we are considering the best value for maximum depth as 10.\n",
    "\n",
    "We noticed that normalization of the data did not have any effect on the mean accuracy of the DT Classifier. This is because in Descision Tree, the features are selected and splits are made based on gini impurity or entropy and hence scaling does not effect DT classifier as it is an information based algorithm. Scaling is primarily used in similarity based algorithms."
   ]
  },
  {
   "cell_type": "markdown",
   "metadata": {},
   "source": [
    "### Perfomance of DT on test data"
   ]
  },
  {
   "cell_type": "code",
   "execution_count": 17,
   "metadata": {},
   "outputs": [
    {
     "data": {
      "text/plain": [
       "0.6678"
      ]
     },
     "execution_count": 17,
     "metadata": {},
     "output_type": "execute_result"
    }
   ],
   "source": [
    "DTclassifier = DecisionTreeClassifier(random_state = 0,max_depth=10)\n",
    "DTclassifier.fit(x_train,y_train)\n",
    "y_predicted=DTclassifier.predict(x_test)\n",
    "res = round(accuracy_score(y_test,y_predicted),4)\n",
    "res"
   ]
  },
  {
   "cell_type": "markdown",
   "metadata": {},
   "source": [
    "### Analyzing the splitting rules the tree learnt"
   ]
  },
  {
   "cell_type": "code",
   "execution_count": 23,
   "metadata": {},
   "outputs": [
    {
     "name": "stdout",
     "output_type": "stream",
     "text": [
      "A sample from x_test has been taken whose target is known (Fatal) and its decision path has been printed\n",
      "\n",
      "node#0: Age_Group <= 65.0 [90.]\n",
      "node#394: Outbreak_Related_No <= 0.5 [1.]\n",
      "node#502: Case_AcquisitionInfo_MISSING INFORMATION <= 0.5 [0.]\n",
      "node#503: Reporting_PHU_City_Mississauga <= 0.5 [0.]\n",
      "node#504: Age_Group <= 75.0 [90.]\n",
      "node#536: Reporting_PHU_City_Toronto <= 0.5 [1.]\n",
      "node#564: Case_AcquisitionInfo_CC <= 0.5 [0.]\n",
      "node#565: Client_Gender_MALE <= 0.5 [0.]\n",
      "node#566: Age_Group <= 85.0 [90.]\n"
     ]
    }
   ],
   "source": [
    "selected_input=x_test.iloc[0]\n",
    "a=pd.DataFrame([selected_input], columns=cols)\n",
    "decision_path = DTclassifier.decision_path(a)\n",
    "level_length = len(decision_path.indices)\n",
    "i = 1\n",
    "print(\"A sample from x_test has been taken whose target is known (Fatal) and its decision path has been printed\\n\")\n",
    "for node_id in decision_path.indices:\n",
    "    if i < level_length:\n",
    "        col_name = cols[DTclassifier.tree_.feature[node_id]]\n",
    "        threshold_value  = DTclassifier.tree_.threshold[node_id]\n",
    "        rule = \"{} <= {}\".format(col_name, threshold_value)\n",
    "        print(\"node#{}:\".format(node_id), rule, a[col_name].values)\n",
    "    i = i + 1"
   ]
  },
  {
   "cell_type": "code",
   "execution_count": 24,
   "metadata": {},
   "outputs": [
    {
     "data": {
      "text/plain": [
       "Fatal           3978\n",
       "Not Resolved    3972\n",
       "Resolved        3930\n",
       "Name: Outcome1, dtype: int64"
      ]
     },
     "execution_count": 24,
     "metadata": {},
     "output_type": "execute_result"
    }
   ],
   "source": [
    "y_train['Outcome1'].value_counts()"
   ]
  },
  {
   "cell_type": "code",
   "execution_count": 25,
   "metadata": {},
   "outputs": [
    {
     "name": "stdout",
     "output_type": "stream",
     "text": [
      "0 : Age_Group\n",
      "1 : Reporting_PHU_Latitude\n",
      "2 : Reporting_PHU_Longitude\n",
      "3 : Client_Gender_FEMALE\n",
      "4 : Client_Gender_GENDER DIVERSE\n",
      "5 : Client_Gender_MALE\n",
      "6 : Client_Gender_UNSPECIFIED\n",
      "7 : Case_AcquisitionInfo_CC\n",
      "8 : Case_AcquisitionInfo_MISSING INFORMATION\n",
      "9 : Case_AcquisitionInfo_NO KNOWN EPI LINK\n",
      "10 : Case_AcquisitionInfo_OB\n",
      "11 : Case_AcquisitionInfo_TRAVEL\n",
      "12 : Case_AcquisitionInfo_UNSPECIFIED EPI LINK\n",
      "13 : Reporting_PHU_City_Barrie\n",
      "14 : Reporting_PHU_City_Belleville\n",
      "15 : Reporting_PHU_City_Brantford\n",
      "16 : Reporting_PHU_City_Brockville\n",
      "17 : Reporting_PHU_City_Chatham\n",
      "18 : Reporting_PHU_City_Cornwall\n",
      "19 : Reporting_PHU_City_Guelph\n",
      "20 : Reporting_PHU_City_Hamilton\n",
      "21 : Reporting_PHU_City_Kenora\n",
      "22 : Reporting_PHU_City_Kingston\n",
      "23 : Reporting_PHU_City_London\n",
      "24 : Reporting_PHU_City_Mississauga\n",
      "25 : Reporting_PHU_City_New Liskeard\n",
      "26 : Reporting_PHU_City_Newmarket\n",
      "27 : Reporting_PHU_City_North Bay\n",
      "28 : Reporting_PHU_City_Oakville\n",
      "29 : Reporting_PHU_City_Ottawa\n",
      "30 : Reporting_PHU_City_Owen Sound\n",
      "31 : Reporting_PHU_City_Pembroke\n",
      "32 : Reporting_PHU_City_Peterborough\n",
      "33 : Reporting_PHU_City_Point Edward\n",
      "34 : Reporting_PHU_City_Port Hope\n",
      "35 : Reporting_PHU_City_Sault Ste. Marie\n",
      "36 : Reporting_PHU_City_Simcoe\n",
      "37 : Reporting_PHU_City_St. Thomas\n",
      "38 : Reporting_PHU_City_Stratford\n",
      "39 : Reporting_PHU_City_Sudbury\n",
      "40 : Reporting_PHU_City_Thorold\n",
      "41 : Reporting_PHU_City_Thunder Bay\n",
      "42 : Reporting_PHU_City_Timmins\n",
      "43 : Reporting_PHU_City_Toronto\n",
      "44 : Reporting_PHU_City_Waterloo\n",
      "45 : Reporting_PHU_City_Whitby\n",
      "46 : Reporting_PHU_City_Windsor\n",
      "47 : Outbreak_Related_No\n",
      "48 : Outbreak_Related_Yes\n"
     ]
    }
   ],
   "source": [
    "for x in range(0,len(x_train.columns)):\n",
    "    print(\"{} : {}\".format(x,x_train.columns[x]))    "
   ]
  },
  {
   "cell_type": "markdown",
   "metadata": {},
   "source": [
    "### Split rules at max_depth 3"
   ]
  },
  {
   "cell_type": "code",
   "execution_count": 26,
   "metadata": {},
   "outputs": [
    {
     "data": {
      "image/png": "[encoded data removed]",
      "text/plain": [
       "<Figure size 1080x1080 with 1 Axes>"
      ]
     },
     "metadata": {
      "needs_background": "light"
     },
     "output_type": "display_data"
    }
   ],
   "source": [
    "DTclassifier = DecisionTreeClassifier(random_state = 0,max_depth=3)\n",
    "DTclassifier.fit(x_train,y_train)\n",
    "plt.figure(figsize=(15,15))\n",
    "tree.plot_tree(DTclassifier,filled=True);"
   ]
  },
  {
   "cell_type": "markdown",
   "metadata": {},
   "source": [
    "From the above decision tree, examining the final resulting splitting rules used for the trees, below are the patterns observed:\n",
    "1. Column \"Age Group\" has been choosen as the root node and the split has been made at \"65\" based on gini impurity.\n",
    "2. if \"Age Group\" > 65, \"Outbreak_Related\" is Yes and if the person belongs to Reporting_PHU_City \"Chatham\" then the outcome is \"Not Resolved\"\n",
    "3.  if \"Age Group\" <= 65, \"Case_AcquisitionInfo\" is MISSING INFORMATION and if the person does not belongs to Reporting_PHU_City \"Toronto\" then there is less probability of the outcome to be \"Fatal\"\n"
   ]
  },
  {
   "cell_type": "markdown",
   "metadata": {},
   "source": [
    "### Random Forest"
   ]
  },
  {
   "cell_type": "markdown",
   "metadata": {},
   "source": [
    "From the analyis above, we noticed that the Random Forest classifier gives maximum mean accuracy with all features at maximum depth 10 and number of trees 50. Hence, we are considering the best value for maximum depth as 10 and number of trees as 50. \n",
    "\n",
    "We noticed that normalization of the data did not have any effect on the mean accuracy of the RF Classifier. This is because Random Forest classifier is an information gain based algorithm and scaling is primarily used in similarity based algorithms"
   ]
  },
  {
   "cell_type": "markdown",
   "metadata": {},
   "source": [
    "### Perfomance of RF on test data"
   ]
  },
  {
   "cell_type": "code",
   "execution_count": 27,
   "metadata": {},
   "outputs": [
    {
     "data": {
      "text/plain": [
       "0.6755"
      ]
     },
     "execution_count": 27,
     "metadata": {},
     "output_type": "execute_result"
    }
   ],
   "source": [
    "RFclassifier = RandomForestClassifier(n_estimators=50,random_state = 0,max_depth=10)\n",
    "RFclassifier.fit(x_train,y_train.values.ravel())\n",
    "y_predicted=RFclassifier.predict(x_test)\n",
    "res = round(accuracy_score(y_test,y_predicted),4)\n",
    "res"
   ]
  },
  {
   "cell_type": "markdown",
   "metadata": {},
   "source": [
    "### Gradient Tree Boosting"
   ]
  },
  {
   "cell_type": "markdown",
   "metadata": {},
   "source": [
    "From the analyis above, we noticed that the GB classifier gives maximum mean accuracy with all features at number of estimators as 150. Hence, we are considering the best value for number of estimators as 150\n",
    "\n",
    "As GB classifer is also one of the ensemble methods, scaling the data did not have any effect on the mean accuracy."
   ]
  },
  {
   "cell_type": "markdown",
   "metadata": {},
   "source": [
    "### Perfomance of GB on test data"
   ]
  },
  {
   "cell_type": "code",
   "execution_count": 28,
   "metadata": {},
   "outputs": [
    {
     "data": {
      "text/plain": [
       "0.6688"
      ]
     },
     "execution_count": 28,
     "metadata": {},
     "output_type": "execute_result"
    }
   ],
   "source": [
    "gbclassifier = GradientBoostingClassifier(n_estimators=150,random_state = 0)\n",
    "gbclassifier.fit(x_train,y_train.values.ravel())\n",
    "y_predicted=gbclassifier.predict(x_test)\n",
    "res = round(accuracy_score(y_test,y_predicted),4)\n",
    "res"
   ]
  },
  {
   "cell_type": "markdown",
   "metadata": {},
   "source": [
    "## Part 2 CM3 Analysis"
   ]
  },
  {
   "cell_type": "markdown",
   "metadata": {},
   "source": [
    "##### For the three classifiers DT, RF and GB. Below is our analysis on train and test datasets.\n",
    "\n",
    "1. Using cross validation - Decision Tree (DT) classifier, Random Forest (RF) classifier and Gradient Boosting (GB) classifier gave maximum mean accuracies of 65.57, 67.23 and 66.52 respectively. \n",
    "2. As expected, RF and GB classifier outperformed DT. However, GB did not perform well when compared to RF."
   ]
  },
  {
   "cell_type": "code",
   "execution_count": 29,
   "metadata": {},
   "outputs": [
    {
     "data": {
      "image/png": "[encoded data removed]",
      "text/plain": [
       "<Figure size 360x360 with 1 Axes>"
      ]
     },
     "metadata": {
      "needs_background": "light"
     },
     "output_type": "display_data"
    }
   ],
   "source": [
    "all_fea_meanacc = [[\"Decision Tree\",65.57],[\"Random Forest\",67.23],[\"Gradient Tree Boosting\",66.52]]\n",
    "all_fea_meanacc1 = pd.DataFrame(all_fea_meanacc, columns = ['Classifier','Maximum Mean Accuracy'])\n",
    "all_fea_meanacc1.plot(x='Classifier', y='Maximum Mean Accuracy', color='blue',figsize=(5,5));\n",
    "plt.grid();\n",
    "plt.title('Classifier and Maximum Mean Accuracy');\n",
    "plt.ylabel('Mean Accuracy');"
   ]
  },
  {
   "cell_type": "markdown",
   "metadata": {},
   "source": [
    "### Performance of classifiers on Test data"
   ]
  },
  {
   "cell_type": "markdown",
   "metadata": {},
   "source": [
    "1. On test data DT Classifier, RF Classifier and GB Classifier gave accuracies of 66.78, 67.55 and 66.88 on the test data.\n",
    "2. The mean accuracies of the classifiers using CV on the train data was not as per our expectations. Same is the case with the perfomance on test data. RF outperformed DT and GB classifiers.\n",
    "3. RF performed well when compared to DT as RF is a collection of many DTs reducing variance and increasing accuracy.\n",
    "4. When compared to RF, GB has many more parameters to be tuned like learning rate, subsample, max depth etc to get better perfomance. Since, we are tuning only one of the parameters (n_estimators) that could be a reason why GB has a little less accuracy when compared to RF."
   ]
  },
  {
   "cell_type": "code",
   "execution_count": 30,
   "metadata": {},
   "outputs": [
    {
     "data": {
      "image/png": "[encoded data removed]",
      "text/plain": [
       "<Figure size 360x360 with 1 Axes>"
      ]
     },
     "metadata": {
      "needs_background": "light"
     },
     "output_type": "display_data"
    }
   ],
   "source": [
    "all_fea_meanacc = [[\"Decision Tree\",66.78],[\"Random Forest\",67.55],[\"Gradient Tree Boosting\",66.88]]\n",
    "all_fea_meanacc1 = pd.DataFrame(all_fea_meanacc, columns = ['Classifier','Maximum Mean Accuracy'])\n",
    "all_fea_meanacc1.plot(x='Classifier', y='Maximum Mean Accuracy', color='blue',figsize=(5,5));\n",
    "plt.grid();\n",
    "plt.title('Accuracy on Test Dataset');\n",
    "plt.ylabel('Mean Accuracy');"
   ]
  },
  {
   "cell_type": "markdown",
   "metadata": {},
   "source": [
    "## Question 2: Naive Bayes Classifier "
   ]
  },
  {
   "cell_type": "markdown",
   "metadata": {},
   "source": [
    "## Part 1 CM5"
   ]
  },
  {
   "cell_type": "markdown",
   "metadata": {},
   "source": [
    "## 1. Analysis without scaling - Naive Bayes"
   ]
  },
  {
   "cell_type": "code",
   "execution_count": 31,
   "metadata": {},
   "outputs": [
    {
     "data": {
      "text/html": [
       "<div>\n",
       "<style scoped>\n",
       "    .dataframe tbody tr th:only-of-type {\n",
       "        vertical-align: middle;\n",
       "    }\n",
       "\n",
       "    .dataframe tbody tr th {\n",
       "        vertical-align: top;\n",
       "    }\n",
       "\n",
       "    .dataframe thead th {\n",
       "        text-align: right;\n",
       "    }\n",
       "</style>\n",
       "<table border=\"1\" class=\"dataframe\">\n",
       "  <thead>\n",
       "    <tr style=\"text-align: right;\">\n",
       "      <th></th>\n",
       "      <th>Smoothing_Value</th>\n",
       "      <th>Mean Accuracy</th>\n",
       "    </tr>\n",
       "  </thead>\n",
       "  <tbody>\n",
       "    <tr>\n",
       "      <th>0</th>\n",
       "      <td>1.000000e-10</td>\n",
       "      <td>0.384596</td>\n",
       "    </tr>\n",
       "    <tr>\n",
       "      <th>1</th>\n",
       "      <td>1.000000e-09</td>\n",
       "      <td>0.439226</td>\n",
       "    </tr>\n",
       "    <tr>\n",
       "      <th>2</th>\n",
       "      <td>1.000000e-05</td>\n",
       "      <td>0.607071</td>\n",
       "    </tr>\n",
       "    <tr>\n",
       "      <th>3</th>\n",
       "      <td>1.000000e-03</td>\n",
       "      <td>0.652357</td>\n",
       "    </tr>\n",
       "    <tr>\n",
       "      <th>4</th>\n",
       "      <td>1.000000e-01</td>\n",
       "      <td>0.600168</td>\n",
       "    </tr>\n",
       "  </tbody>\n",
       "</table>\n",
       "</div>"
      ],
      "text/plain": [
       "   Smoothing_Value  Mean Accuracy\n",
       "0     1.000000e-10       0.384596\n",
       "1     1.000000e-09       0.439226\n",
       "2     1.000000e-05       0.607071\n",
       "3     1.000000e-03       0.652357\n",
       "4     1.000000e-01       0.600168"
      ]
     },
     "execution_count": 31,
     "metadata": {},
     "output_type": "execute_result"
    }
   ],
   "source": [
    "def nb_classifier(var_smooth):\n",
    "    nbclassifier = GaussianNB(var_smoothing=var_smooth)\n",
    "    nbclassifier.fit(x_train,y_train.values.ravel())\n",
    "    scores = cross_val_score(nbclassifier, x_train, y_train.values.ravel(), cv=10)\n",
    "    acc_mean=scores.mean()\n",
    "    n=nbclassifier.predict(x_test)\n",
    "    acc = round(accuracy_score(y_test,n),2)\n",
    "    fscore=round(f1_score(y_test, n, average='macro'),2)\n",
    "    return acc_mean,fscore,acc\n",
    "\n",
    "smooth = [1e-10, 1e-9, 1e-5, 1e-3, 1e-1]\n",
    "smooth_acc=[]\n",
    "for i in smooth:\n",
    "    x,y,z=nb_classifier(var_smooth=i)\n",
    "    smooth_acc.append([i,x])\n",
    "df_nb_acc = pd.DataFrame(smooth_acc, columns = ['Smoothing_Value','Mean Accuracy'])\n",
    "df_nb_acc"
   ]
  },
  {
   "cell_type": "markdown",
   "metadata": {},
   "source": [
    "## 2. Analysis with Standardization - Naive Bayes"
   ]
  },
  {
   "cell_type": "code",
   "execution_count": 32,
   "metadata": {},
   "outputs": [
    {
     "data": {
      "text/html": [
       "<div>\n",
       "<style scoped>\n",
       "    .dataframe tbody tr th:only-of-type {\n",
       "        vertical-align: middle;\n",
       "    }\n",
       "\n",
       "    .dataframe tbody tr th {\n",
       "        vertical-align: top;\n",
       "    }\n",
       "\n",
       "    .dataframe thead th {\n",
       "        text-align: right;\n",
       "    }\n",
       "</style>\n",
       "<table border=\"1\" class=\"dataframe\">\n",
       "  <thead>\n",
       "    <tr style=\"text-align: right;\">\n",
       "      <th></th>\n",
       "      <th>Smoothing_Value</th>\n",
       "      <th>Mean Accuracy</th>\n",
       "    </tr>\n",
       "  </thead>\n",
       "  <tbody>\n",
       "    <tr>\n",
       "      <th>0</th>\n",
       "      <td>1.000000e-10</td>\n",
       "      <td>0.349411</td>\n",
       "    </tr>\n",
       "    <tr>\n",
       "      <th>1</th>\n",
       "      <td>1.000000e-09</td>\n",
       "      <td>0.353283</td>\n",
       "    </tr>\n",
       "    <tr>\n",
       "      <th>2</th>\n",
       "      <td>1.000000e-05</td>\n",
       "      <td>0.520791</td>\n",
       "    </tr>\n",
       "    <tr>\n",
       "      <th>3</th>\n",
       "      <td>1.000000e-03</td>\n",
       "      <td>0.598485</td>\n",
       "    </tr>\n",
       "    <tr>\n",
       "      <th>4</th>\n",
       "      <td>1.000000e-01</td>\n",
       "      <td>0.613384</td>\n",
       "    </tr>\n",
       "  </tbody>\n",
       "</table>\n",
       "</div>"
      ],
      "text/plain": [
       "   Smoothing_Value  Mean Accuracy\n",
       "0     1.000000e-10       0.349411\n",
       "1     1.000000e-09       0.353283\n",
       "2     1.000000e-05       0.520791\n",
       "3     1.000000e-03       0.598485\n",
       "4     1.000000e-01       0.613384"
      ]
     },
     "execution_count": 32,
     "metadata": {},
     "output_type": "execute_result"
    }
   ],
   "source": [
    "dataset1=x_train.copy()\n",
    "scale = StandardScaler()\n",
    "columns_to_scale = ['Age_Group', 'Reporting_PHU_Latitude', 'Reporting_PHU_Longitude']\n",
    "dataset1[columns_to_scale] = scale.fit_transform(dataset1[columns_to_scale])\n",
    "def nb_classifier(var_smooth):\n",
    "    nbclassifier = GaussianNB(var_smoothing=var_smooth)\n",
    "    nbclassifier.fit(x_train,y_train.values.ravel())\n",
    "    scores = cross_val_score(nbclassifier, dataset1, y_train.values.ravel(), cv=10)\n",
    "    acc_mean=scores.mean()\n",
    "    n=nbclassifier.predict(x_test)\n",
    "    acc = round(accuracy_score(y_test,n),2)\n",
    "    fscore=round(f1_score(y_test, n, average='macro'),2)\n",
    "    return acc_mean,fscore,acc\n",
    "\n",
    "smooth = [1e-10, 1e-9, 1e-5, 1e-3, 1e-1]\n",
    "smooth_acc=[]\n",
    "for i in smooth:\n",
    "    x,y,z=nb_classifier(var_smooth=i)\n",
    "    smooth_acc.append([i,x])\n",
    "df_nb_acc = pd.DataFrame(smooth_acc, columns = ['Smoothing_Value','Mean Accuracy'])\n",
    "df_nb_acc"
   ]
  },
  {
   "cell_type": "markdown",
   "metadata": {},
   "source": [
    "## 3. Analysis with Normalization - Naive Bayes"
   ]
  },
  {
   "cell_type": "code",
   "execution_count": 33,
   "metadata": {
    "scrolled": true
   },
   "outputs": [
    {
     "data": {
      "text/html": [
       "<div>\n",
       "<style scoped>\n",
       "    .dataframe tbody tr th:only-of-type {\n",
       "        vertical-align: middle;\n",
       "    }\n",
       "\n",
       "    .dataframe tbody tr th {\n",
       "        vertical-align: top;\n",
       "    }\n",
       "\n",
       "    .dataframe thead th {\n",
       "        text-align: right;\n",
       "    }\n",
       "</style>\n",
       "<table border=\"1\" class=\"dataframe\">\n",
       "  <thead>\n",
       "    <tr style=\"text-align: right;\">\n",
       "      <th></th>\n",
       "      <th>Smoothing_Value</th>\n",
       "      <th>Mean Accuracy</th>\n",
       "    </tr>\n",
       "  </thead>\n",
       "  <tbody>\n",
       "    <tr>\n",
       "      <th>0</th>\n",
       "      <td>1.000000e-10</td>\n",
       "      <td>0.348906</td>\n",
       "    </tr>\n",
       "    <tr>\n",
       "      <th>1</th>\n",
       "      <td>1.000000e-09</td>\n",
       "      <td>0.350337</td>\n",
       "    </tr>\n",
       "    <tr>\n",
       "      <th>2</th>\n",
       "      <td>1.000000e-05</td>\n",
       "      <td>0.482071</td>\n",
       "    </tr>\n",
       "    <tr>\n",
       "      <th>3</th>\n",
       "      <td>1.000000e-03</td>\n",
       "      <td>0.581229</td>\n",
       "    </tr>\n",
       "    <tr>\n",
       "      <th>4</th>\n",
       "      <td>1.000000e-01</td>\n",
       "      <td>0.596633</td>\n",
       "    </tr>\n",
       "  </tbody>\n",
       "</table>\n",
       "</div>"
      ],
      "text/plain": [
       "   Smoothing_Value  Mean Accuracy\n",
       "0     1.000000e-10       0.348906\n",
       "1     1.000000e-09       0.350337\n",
       "2     1.000000e-05       0.482071\n",
       "3     1.000000e-03       0.581229\n",
       "4     1.000000e-01       0.596633"
      ]
     },
     "execution_count": 33,
     "metadata": {},
     "output_type": "execute_result"
    }
   ],
   "source": [
    "dataset1=x_train.copy()\n",
    "scale = MinMaxScaler()\n",
    "columns_to_scale = ['Age_Group', 'Reporting_PHU_Latitude', 'Reporting_PHU_Longitude']\n",
    "dataset1[columns_to_scale] = scale.fit_transform(dataset1[columns_to_scale])\n",
    "def nb_classifier(var_smooth):\n",
    "    nbclassifier = GaussianNB(var_smoothing=var_smooth)\n",
    "    nbclassifier.fit(x_train,y_train.values.ravel())\n",
    "    scores = cross_val_score(nbclassifier, dataset1, y_train.values.ravel(), cv=10)\n",
    "    acc_mean=scores.mean()\n",
    "    n=nbclassifier.predict(x_test)\n",
    "    acc = round(accuracy_score(y_test,n),2)\n",
    "    fscore=round(f1_score(y_test, n, average='macro'),2)\n",
    "    return acc_mean,fscore,acc\n",
    "\n",
    "smooth = [1e-10, 1e-9, 1e-5, 1e-3, 1e-1]\n",
    "smooth_acc=[]\n",
    "for i in smooth:\n",
    "    x,y,z=nb_classifier(var_smooth=i)\n",
    "    smooth_acc.append([i,x])\n",
    "df_nb_acc = pd.DataFrame(smooth_acc, columns = ['Smoothing_Value','Mean Accuracy'])\n",
    "df_nb_acc"
   ]
  },
  {
   "cell_type": "markdown",
   "metadata": {},
   "source": [
    "From the above analysis, we notice that Naive Bayes classifier gave better mean accuracy score without scaling at smoothing value as 1.000000e-03. Considering the same value for test dataset below."
   ]
  },
  {
   "cell_type": "markdown",
   "metadata": {},
   "source": [
    "### Performance of GNB on test data"
   ]
  },
  {
   "cell_type": "code",
   "execution_count": 34,
   "metadata": {},
   "outputs": [
    {
     "name": "stdout",
     "output_type": "stream",
     "text": [
      "The Accuracy and F1 score of the classifier are 0.6708 and 0.6536 respectively\n"
     ]
    }
   ],
   "source": [
    "nbclassifier = GaussianNB(var_smoothing=1.000000e-03)\n",
    "nbclassifier.fit(x_train,y_train.values.ravel())\n",
    "n=nbclassifier.predict(x_test)\n",
    "acc = round(accuracy_score(y_test,n),4)\n",
    "fscore=round(f1_score(y_test, n, average='macro'),4)\n",
    "print(\"The Accuracy and F1 score of the classifier are {} and {} respectively\".format(acc,fscore))"
   ]
  },
  {
   "cell_type": "markdown",
   "metadata": {},
   "source": [
    "## Impact of smoothing parameter"
   ]
  },
  {
   "cell_type": "markdown",
   "metadata": {},
   "source": [
    "From the analysis, Gaussian NB classifier gave maximum mean accuracy with reduced features at smoothing value \"1e-3\".\n",
    "\n",
    "With the increase in the smoothing value, the mean accuracy of the classifier increased, reached the maximum at smoothing value \"1e-3\" and then decreased.\n",
    " \n",
    "In the wheat seed data which had continuous features, the smoothing parameter did not have much impact on the mean accuracy. Whereas the COVID data having categorical features, we do see the impact of smoothing parameter on mean accuracy."
   ]
  },
  {
   "cell_type": "markdown",
   "metadata": {},
   "source": [
    "## Part 2 CM6"
   ]
  },
  {
   "cell_type": "markdown",
   "metadata": {},
   "source": [
    "Since we used a Gaussin Naive Bayes here, the learning parameters of it are mean and variance. Finding these values for the best smoothing value"
   ]
  },
  {
   "cell_type": "code",
   "execution_count": 13,
   "metadata": {},
   "outputs": [
    {
     "name": "stdout",
     "output_type": "stream",
     "text": [
      "[[ 7.81518351e+01  4.37296593e+01 -7.94837191e+01  5.14077426e-01\n",
      "   0.00000000e+00  4.78381096e-01  7.54147813e-03  7.69230769e-02\n",
      "   8.01910508e-02  1.06083459e-01  7.23730518e-01  1.30718954e-02\n",
      "   0.00000000e+00  2.16189040e-02  7.54147813e-04  1.25691302e-03\n",
      "   7.54147813e-03  5.02765209e-04  1.03066868e-02  1.20663650e-02\n",
      "   3.67018602e-02  0.00000000e+00  0.00000000e+00  2.91603821e-02\n",
      "   8.99949723e-02  2.51382604e-04  7.99396682e-02  2.51382604e-04\n",
      "   2.53896430e-02  6.68677728e-02  0.00000000e+00  5.02765209e-04\n",
      "   1.25691302e-03  5.02765209e-03  7.29009553e-03  2.51382604e-04\n",
      "   6.53594771e-03  1.00553042e-02  6.28456511e-03  1.25691302e-03\n",
      "   5.15334339e-02  4.77626948e-03  2.26244344e-03  3.87883358e-01\n",
      "   3.14228255e-02  5.07792861e-02  5.02765209e-02  2.48617396e-01\n",
      "   7.51382604e-01]\n",
      " [ 4.03451662e+01  4.37730017e+01 -7.96273957e+01  4.96223565e-01\n",
      "   2.51762336e-04  4.94964753e-01  8.55991944e-03  3.12940584e-01\n",
      "   3.55488419e-01  1.34944612e-01  1.86052367e-01  1.05740181e-02\n",
      "   0.00000000e+00  2.51762336e-02  2.51762336e-04  5.53877140e-03\n",
      "   1.51057402e-03  7.80463243e-03  1.03222558e-02  2.41691843e-02\n",
      "   3.62537764e-02  1.25881168e-03  5.03524673e-04  2.36656596e-02\n",
      "   2.02668681e-01  2.51762336e-04  7.25075529e-02  7.55287009e-04\n",
      "   3.39879154e-02  4.43101712e-02  2.26586103e-03  2.51762336e-04\n",
      "   2.76938570e-03  4.02819738e-03  4.27995972e-03  1.00704935e-03\n",
      "   4.02819738e-03  7.30110775e-03  4.53172205e-03  7.55287009e-03\n",
      "   3.37361531e-02  8.55991944e-03  3.27291037e-03  3.49697885e-01\n",
      "   2.76938570e-02  2.49244713e-02  2.31621349e-02  7.83232628e-01\n",
      "   2.16767372e-01]\n",
      " [ 3.86162850e+01  4.37228301e+01 -7.96130592e+01  4.95928753e-01\n",
      "   2.54452926e-04  4.97964377e-01  5.85241730e-03  4.41730280e-01\n",
      "   1.62849873e-01  2.01272265e-01  1.77353690e-01  1.60305344e-02\n",
      "   7.63358779e-04  1.85750636e-02  2.54452926e-03  7.37913486e-03\n",
      "   2.54452926e-03  5.34351145e-03  1.09414758e-02  1.70483461e-02\n",
      "   2.84987277e-02  1.52671756e-03  1.78117048e-03  1.85750636e-02\n",
      "   2.12977099e-01  1.01781170e-03  8.95674300e-02  5.08905852e-04\n",
      "   3.05343511e-02  4.70737913e-02  3.30788804e-03  1.01781170e-03\n",
      "   2.03562341e-03  6.10687023e-03  3.05343511e-03  2.54452926e-04\n",
      "   6.36132316e-03  6.87022901e-03  3.30788804e-03  3.05343511e-03\n",
      "   2.69720102e-02  3.81679389e-03  7.63358779e-04  3.11959288e-01\n",
      "   3.20610687e-02  4.55470738e-02  4.70737913e-02  7.91857506e-01\n",
      "   2.08142494e-01]]\n"
     ]
    }
   ],
   "source": [
    "nbclassifier = GaussianNB(var_smoothing=1.000000e-03)\n",
    "nbclassifier.fit(x_train,y_train.values.ravel())\n",
    "n=nbclassifier.predict(x_test)\n",
    "print(nbclassifier.theta_)"
   ]
  },
  {
   "cell_type": "code",
   "execution_count": 14,
   "metadata": {},
   "outputs": [
    {
     "name": "stdout",
     "output_type": "stream",
     "text": [
      "[[132.13989168   1.19284317   3.27924332   0.87780522   0.62800339\n",
      "    0.87753601   0.63548799   0.69900931   0.70176384   0.72283315\n",
      "    0.82794804   0.64090441   0.62800339   0.64915492   0.62875697\n",
      "    0.62925872   0.63548799   0.6285059    0.63820385   0.63992416\n",
      "    0.66335822   0.62800339   0.62800339   0.65631344   0.70989927\n",
      "    0.62825471   0.70155271   0.62825471   0.6527484    0.69039986\n",
      "    0.62800339   0.6285059    0.62925872   0.63300576   0.63524034\n",
      "    0.62825471   0.63449662   0.63795758   0.63424846   0.62925872\n",
      "    0.67688113   0.63275685   0.63026071   0.86543325   0.65843882\n",
      "    0.67620414   0.67575218   0.81481018   0.81481018]\n",
      " [392.67880329   1.28213727   3.22054571   0.87798913   0.62825509\n",
      "    0.87797804   0.63649004   0.84301216   0.85711979   0.74473795\n",
      "    0.77944027   0.6384656    0.62800339   0.65254578   0.62825509\n",
      "    0.63351148   0.62951168   0.63574711   0.6382191    0.65158842\n",
      "    0.66294283   0.62926062   0.62850666   0.65110899   0.78959748\n",
      "    0.62825509   0.6952536    0.62875811   0.66083613   0.67035017\n",
      "    0.63026412   0.62825509   0.63076511   0.63201536   0.63226503\n",
      "    0.62900942   0.63201536   0.63525119   0.63251457   0.63549921\n",
      "    0.66060141   0.63649004   0.63126559   0.85541266   0.6549303\n",
      "    0.65230663   0.65062904   0.79778267   0.79778267]\n",
      " [361.54488832   1.15573996   3.17547326   0.87798681   0.62825778\n",
      "    0.87799925   0.63382156   0.87460803   0.76433318   0.78876513\n",
      "    0.77390275   0.64377695   0.62876617   0.64623342   0.63054144\n",
      "    0.63532807   0.63054144   0.63331835   0.63882515   0.64476109\n",
      "    0.65568994   0.62952778   0.62978139   0.64623342   0.79562124\n",
      "    0.62902016   0.70954849   0.62851204   0.65760539   0.67286124\n",
      "    0.63130034   0.62902016   0.63003487   0.63407297   0.6310475\n",
      "    0.62825778   0.63432425   0.63482642   0.63130034   0.6310475\n",
      "    0.65424791   0.63180562   0.62876617   0.84264408   0.65903655\n",
      "    0.67147593   0.67286124   0.79282259   0.79282259]]\n"
     ]
    }
   ],
   "source": [
    "nbclassifier = GaussianNB(var_smoothing=1.000000e-03)\n",
    "nbclassifier.fit(x_train,y_train.values.ravel())\n",
    "n=nbclassifier.predict(x_test)\n",
    "print(nbclassifier.sigma_)"
   ]
  },
  {
   "cell_type": "markdown",
   "metadata": {},
   "source": [
    "Each row in the above arrays corresponds to each target and each value in a particular row corresponds to a column. The features are one hot encoded and hence there are multiple columns.\n",
    "\n",
    "Single Decision Tree model gave accuracy of 65.57% on test data whereas Gaussian NB gave an accuracy of 67.22%"
   ]
  },
  {
   "cell_type": "markdown",
   "metadata": {},
   "source": [
    "Analyzing the results with confusioin matrix"
   ]
  },
  {
   "cell_type": "code",
   "execution_count": 15,
   "metadata": {},
   "outputs": [
    {
     "name": "stdout",
     "output_type": "stream",
     "text": [
      "Confusion matrix - Gaussian Naive Bayes\n",
      "\n",
      "[[902  25  46]\n",
      " [147 371 460]\n",
      " [121 179 720]]\n"
     ]
    }
   ],
   "source": [
    "print(\"Confusion matrix - Gaussian Naive Bayes\\n\")\n",
    "print(confusion_matrix(y_test,n))"
   ]
  },
  {
   "cell_type": "code",
   "execution_count": 19,
   "metadata": {},
   "outputs": [
    {
     "name": "stdout",
     "output_type": "stream",
     "text": [
      "Confusion matrix - Decision tree\n",
      "\n",
      "[[895  37  41]\n",
      " [133 447 398]\n",
      " [129 249 642]]\n"
     ]
    }
   ],
   "source": [
    "print(\"Confusion matrix - Decision tree\\n\")\n",
    "print(confusion_matrix(y_test,y_predicted))"
   ]
  },
  {
   "cell_type": "markdown",
   "metadata": {},
   "source": [
    "The accuracies of both the classifiers slightly differ and the same can be seen with the confusion matrices.\n",
    "Fatalities are identified almost equally by both the classifiers(902 by GNB and 895 by DT). But yet they were not able to completely identify all the fatalities.\n",
    "Decision tree was able to classify Not Resolved targets better than Naive Bayes whereas Naive Bayes was able to classify Resolved targets better than DT."
   ]
  }
 ],
 "metadata": {
  "kernelspec": {
   "display_name": "Python 3",
   "language": "python",
   "name": "python3"
  },
  "language_info": {
   "codemirror_mode": {
    "name": "ipython",
    "version": 3
   },
   "file_extension": ".py",
   "mimetype": "text/x-python",
   "name": "python",
   "nbconvert_exporter": "python",
   "pygments_lexer": "ipython3",
   "version": "3.8.5"
  }
 },
 "nbformat": 4,
 "nbformat_minor": 4
}
