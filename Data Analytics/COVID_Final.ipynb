{
 "cells": [
  {
   "cell_type": "markdown",
   "metadata": {},
   "source": [
    "## Assignment 4 - Group 4"
   ]
  },
  {
   "cell_type": "markdown",
   "metadata": {},
   "source": [
    "#### Question 1: Classification : Fully-connected and Recurrent networks (LSTM)\n"
   ]
  },
  {
   "cell_type": "markdown",
   "metadata": {},
   "source": [
    "##### Importing the libraries"
   ]
  },
  {
   "cell_type": "code",
   "execution_count": 41,
   "metadata": {},
   "outputs": [],
   "source": [
    "import numpy as np\n",
    "import pandas as pd\n",
    "import matplotlib.pyplot as plt\n",
    "import seaborn as sns\n",
    "from sklearn.preprocessing import StandardScaler, MinMaxScaler\n",
    "import warnings\n",
    "warnings.filterwarnings('ignore') \n",
    "from sklearn.model_selection import train_test_split,cross_val_score"
   ]
  },
  {
   "cell_type": "code",
   "execution_count": 42,
   "metadata": {},
   "outputs": [],
   "source": [
    "from keras.models import Sequential\n",
    "from keras.layers import Dense, Dropout, BatchNormalization, Activation\n",
    "from keras.optimizers import Adam\n",
    "from keras.callbacks import EarlyStopping\n",
    "import tensorflow as tf\n",
    "from tensorflow import keras\n",
    "from tensorflow.keras import layers, models\n",
    "from tensorflow.keras.models import load_model\n",
    "import time"
   ]
  },
  {
   "cell_type": "code",
   "execution_count": 43,
   "metadata": {},
   "outputs": [],
   "source": [
    "#Setting the random seeds to control the randomness each time the model is run\n",
    "from numpy.random import seed\n",
    "seed(1)\n",
    "tf.random.set_seed(2)"
   ]
  },
  {
   "cell_type": "markdown",
   "metadata": {},
   "source": [
    "### 1.1 [CM1]: Design and Implementation"
   ]
  },
  {
   "cell_type": "markdown",
   "metadata": {},
   "source": [
    "### Data Loading, Preprocessing  and Analysis"
   ]
  },
  {
   "cell_type": "code",
   "execution_count": 44,
   "metadata": {},
   "outputs": [
    {
     "data": {
      "text/html": [
       "<div>\n",
       "<style scoped>\n",
       "    .dataframe tbody tr th:only-of-type {\n",
       "        vertical-align: middle;\n",
       "    }\n",
       "\n",
       "    .dataframe tbody tr th {\n",
       "        vertical-align: top;\n",
       "    }\n",
       "\n",
       "    .dataframe thead th {\n",
       "        text-align: right;\n",
       "    }\n",
       "</style>\n",
       "<table border=\"1\" class=\"dataframe\">\n",
       "  <thead>\n",
       "    <tr style=\"text-align: right;\">\n",
       "      <th></th>\n",
       "      <th>Accurate_Episode_Date</th>\n",
       "      <th>Case_Reported_Date</th>\n",
       "      <th>Test_Reported_Date</th>\n",
       "      <th>Specimen_Date</th>\n",
       "      <th>Age_Group</th>\n",
       "      <th>Client_Gender</th>\n",
       "      <th>Case_AcquisitionInfo</th>\n",
       "      <th>Reporting_PHU_City</th>\n",
       "      <th>Outbreak_Related</th>\n",
       "      <th>Reporting_PHU_Latitude</th>\n",
       "      <th>Reporting_PHU_Longitude</th>\n",
       "      <th>Outcome1</th>\n",
       "    </tr>\n",
       "  </thead>\n",
       "  <tbody>\n",
       "    <tr>\n",
       "      <th>0</th>\n",
       "      <td>2020-03-30</td>\n",
       "      <td>2020-03-31</td>\n",
       "      <td>2020-03-31</td>\n",
       "      <td>2020-03-30</td>\n",
       "      <td>70s</td>\n",
       "      <td>MALE</td>\n",
       "      <td>OB</td>\n",
       "      <td>Stratford</td>\n",
       "      <td>Yes</td>\n",
       "      <td>43.368662</td>\n",
       "      <td>-81.001913</td>\n",
       "      <td>Fatal</td>\n",
       "    </tr>\n",
       "    <tr>\n",
       "      <th>1</th>\n",
       "      <td>2021-01-22</td>\n",
       "      <td>2021-01-24</td>\n",
       "      <td>2021-01-24</td>\n",
       "      <td>2021-01-23</td>\n",
       "      <td>50s</td>\n",
       "      <td>FEMALE</td>\n",
       "      <td>NO KNOWN EPI LINK</td>\n",
       "      <td>Newmarket</td>\n",
       "      <td>NaN</td>\n",
       "      <td>44.048023</td>\n",
       "      <td>-79.480239</td>\n",
       "      <td>Not Resolved</td>\n",
       "    </tr>\n",
       "    <tr>\n",
       "      <th>2</th>\n",
       "      <td>2020-03-24</td>\n",
       "      <td>2020-04-14</td>\n",
       "      <td>2020-04-14</td>\n",
       "      <td>2020-04-13</td>\n",
       "      <td>70s</td>\n",
       "      <td>FEMALE</td>\n",
       "      <td>OB</td>\n",
       "      <td>Toronto</td>\n",
       "      <td>Yes</td>\n",
       "      <td>43.656591</td>\n",
       "      <td>-79.379358</td>\n",
       "      <td>Resolved</td>\n",
       "    </tr>\n",
       "    <tr>\n",
       "      <th>3</th>\n",
       "      <td>2021-01-18</td>\n",
       "      <td>2021-01-21</td>\n",
       "      <td>2021-01-21</td>\n",
       "      <td>2021-01-18</td>\n",
       "      <td>&lt;20</td>\n",
       "      <td>MALE</td>\n",
       "      <td>CC</td>\n",
       "      <td>Mississauga</td>\n",
       "      <td>NaN</td>\n",
       "      <td>43.647471</td>\n",
       "      <td>-79.708893</td>\n",
       "      <td>Not Resolved</td>\n",
       "    </tr>\n",
       "    <tr>\n",
       "      <th>4</th>\n",
       "      <td>2020-12-26</td>\n",
       "      <td>2020-12-28</td>\n",
       "      <td>2020-12-28</td>\n",
       "      <td>2020-12-26</td>\n",
       "      <td>60s</td>\n",
       "      <td>MALE</td>\n",
       "      <td>OB</td>\n",
       "      <td>Windsor</td>\n",
       "      <td>Yes</td>\n",
       "      <td>42.308796</td>\n",
       "      <td>-83.033670</td>\n",
       "      <td>Resolved</td>\n",
       "    </tr>\n",
       "    <tr>\n",
       "      <th>...</th>\n",
       "      <td>...</td>\n",
       "      <td>...</td>\n",
       "      <td>...</td>\n",
       "      <td>...</td>\n",
       "      <td>...</td>\n",
       "      <td>...</td>\n",
       "      <td>...</td>\n",
       "      <td>...</td>\n",
       "      <td>...</td>\n",
       "      <td>...</td>\n",
       "      <td>...</td>\n",
       "      <td>...</td>\n",
       "    </tr>\n",
       "    <tr>\n",
       "      <th>14855</th>\n",
       "      <td>2020-04-02</td>\n",
       "      <td>2020-04-03</td>\n",
       "      <td>2020-04-04</td>\n",
       "      <td>2020-04-02</td>\n",
       "      <td>90s</td>\n",
       "      <td>FEMALE</td>\n",
       "      <td>NO KNOWN EPI LINK</td>\n",
       "      <td>Whitby</td>\n",
       "      <td>NaN</td>\n",
       "      <td>43.898605</td>\n",
       "      <td>-78.940341</td>\n",
       "      <td>Fatal</td>\n",
       "    </tr>\n",
       "    <tr>\n",
       "      <th>14856</th>\n",
       "      <td>2021-01-25</td>\n",
       "      <td>2021-01-26</td>\n",
       "      <td>2021-01-26</td>\n",
       "      <td>2021-01-25</td>\n",
       "      <td>&lt;20</td>\n",
       "      <td>MALE</td>\n",
       "      <td>CC</td>\n",
       "      <td>Thorold</td>\n",
       "      <td>NaN</td>\n",
       "      <td>43.116537</td>\n",
       "      <td>-79.241220</td>\n",
       "      <td>Not Resolved</td>\n",
       "    </tr>\n",
       "    <tr>\n",
       "      <th>14857</th>\n",
       "      <td>2020-12-07</td>\n",
       "      <td>2020-12-08</td>\n",
       "      <td>2020-12-08</td>\n",
       "      <td>2020-12-07</td>\n",
       "      <td>40s</td>\n",
       "      <td>FEMALE</td>\n",
       "      <td>CC</td>\n",
       "      <td>Mississauga</td>\n",
       "      <td>NaN</td>\n",
       "      <td>43.647471</td>\n",
       "      <td>-79.708893</td>\n",
       "      <td>Resolved</td>\n",
       "    </tr>\n",
       "    <tr>\n",
       "      <th>14858</th>\n",
       "      <td>2020-11-22</td>\n",
       "      <td>2020-11-24</td>\n",
       "      <td>2020-11-24</td>\n",
       "      <td>2020-11-22</td>\n",
       "      <td>20s</td>\n",
       "      <td>UNSPECIFIED</td>\n",
       "      <td>CC</td>\n",
       "      <td>Newmarket</td>\n",
       "      <td>NaN</td>\n",
       "      <td>44.048023</td>\n",
       "      <td>-79.480239</td>\n",
       "      <td>Resolved</td>\n",
       "    </tr>\n",
       "    <tr>\n",
       "      <th>14859</th>\n",
       "      <td>2021-01-20</td>\n",
       "      <td>2021-01-27</td>\n",
       "      <td>2021-01-27</td>\n",
       "      <td>2021-01-26</td>\n",
       "      <td>&lt;20</td>\n",
       "      <td>MALE</td>\n",
       "      <td>CC</td>\n",
       "      <td>Mississauga</td>\n",
       "      <td>NaN</td>\n",
       "      <td>43.647471</td>\n",
       "      <td>-79.708893</td>\n",
       "      <td>Not Resolved</td>\n",
       "    </tr>\n",
       "  </tbody>\n",
       "</table>\n",
       "<p>14860 rows × 12 columns</p>\n",
       "</div>"
      ],
      "text/plain": [
       "      Accurate_Episode_Date Case_Reported_Date Test_Reported_Date  \\\n",
       "0                2020-03-30         2020-03-31         2020-03-31   \n",
       "1                2021-01-22         2021-01-24         2021-01-24   \n",
       "2                2020-03-24         2020-04-14         2020-04-14   \n",
       "3                2021-01-18         2021-01-21         2021-01-21   \n",
       "4                2020-12-26         2020-12-28         2020-12-28   \n",
       "...                     ...                ...                ...   \n",
       "14855            2020-04-02         2020-04-03         2020-04-04   \n",
       "14856            2021-01-25         2021-01-26         2021-01-26   \n",
       "14857            2020-12-07         2020-12-08         2020-12-08   \n",
       "14858            2020-11-22         2020-11-24         2020-11-24   \n",
       "14859            2021-01-20         2021-01-27         2021-01-27   \n",
       "\n",
       "      Specimen_Date Age_Group Client_Gender Case_AcquisitionInfo  \\\n",
       "0        2020-03-30       70s          MALE                   OB   \n",
       "1        2021-01-23       50s        FEMALE    NO KNOWN EPI LINK   \n",
       "2        2020-04-13       70s        FEMALE                   OB   \n",
       "3        2021-01-18       <20          MALE                   CC   \n",
       "4        2020-12-26       60s          MALE                   OB   \n",
       "...             ...       ...           ...                  ...   \n",
       "14855    2020-04-02       90s        FEMALE    NO KNOWN EPI LINK   \n",
       "14856    2021-01-25       <20          MALE                   CC   \n",
       "14857    2020-12-07       40s        FEMALE                   CC   \n",
       "14858    2020-11-22       20s   UNSPECIFIED                   CC   \n",
       "14859    2021-01-26       <20          MALE                   CC   \n",
       "\n",
       "      Reporting_PHU_City Outbreak_Related  Reporting_PHU_Latitude  \\\n",
       "0              Stratford              Yes               43.368662   \n",
       "1              Newmarket              NaN               44.048023   \n",
       "2                Toronto              Yes               43.656591   \n",
       "3            Mississauga              NaN               43.647471   \n",
       "4                Windsor              Yes               42.308796   \n",
       "...                  ...              ...                     ...   \n",
       "14855             Whitby              NaN               43.898605   \n",
       "14856            Thorold              NaN               43.116537   \n",
       "14857        Mississauga              NaN               43.647471   \n",
       "14858          Newmarket              NaN               44.048023   \n",
       "14859        Mississauga              NaN               43.647471   \n",
       "\n",
       "       Reporting_PHU_Longitude      Outcome1  \n",
       "0                   -81.001913         Fatal  \n",
       "1                   -79.480239  Not Resolved  \n",
       "2                   -79.379358      Resolved  \n",
       "3                   -79.708893  Not Resolved  \n",
       "4                   -83.033670      Resolved  \n",
       "...                        ...           ...  \n",
       "14855               -78.940341         Fatal  \n",
       "14856               -79.241220  Not Resolved  \n",
       "14857               -79.708893      Resolved  \n",
       "14858               -79.480239      Resolved  \n",
       "14859               -79.708893  Not Resolved  \n",
       "\n",
       "[14860 rows x 12 columns]"
      ]
     },
     "execution_count": 44,
     "metadata": {},
     "output_type": "execute_result"
    }
   ],
   "source": [
    "df = pd.read_csv('COVID_dataset.csv',delimiter=',', error_bad_lines=False, warn_bad_lines=True)\n",
    "df"
   ]
  },
  {
   "cell_type": "code",
   "execution_count": 45,
   "metadata": {},
   "outputs": [
    {
     "data": {
      "text/plain": [
       "Accurate_Episode_Date      332\n",
       "Case_Reported_Date         323\n",
       "Test_Reported_Date         320\n",
       "Specimen_Date              324\n",
       "Age_Group                    9\n",
       "Client_Gender                4\n",
       "Case_AcquisitionInfo         6\n",
       "Reporting_PHU_City          34\n",
       "Outbreak_Related             1\n",
       "Reporting_PHU_Latitude      34\n",
       "Reporting_PHU_Longitude     34\n",
       "Outcome1                     3\n",
       "dtype: int64"
      ]
     },
     "execution_count": 45,
     "metadata": {},
     "output_type": "execute_result"
    }
   ],
   "source": [
    "df.nunique()"
   ]
  },
  {
   "cell_type": "code",
   "execution_count": 46,
   "metadata": {},
   "outputs": [
    {
     "data": {
      "text/plain": [
       "FEMALE            7562\n",
       "MALE              7192\n",
       "UNSPECIFIED        105\n",
       "GENDER DIVERSE       1\n",
       "Name: Client_Gender, dtype: int64"
      ]
     },
     "execution_count": 46,
     "metadata": {},
     "output_type": "execute_result"
    }
   ],
   "source": [
    "df['Client_Gender'].value_counts()"
   ]
  },
  {
   "cell_type": "code",
   "execution_count": 47,
   "metadata": {},
   "outputs": [
    {
     "data": {
      "text/plain": [
       "Accurate_Episode_Date         0\n",
       "Case_Reported_Date            0\n",
       "Test_Reported_Date          203\n",
       "Specimen_Date               122\n",
       "Age_Group                     5\n",
       "Client_Gender                 0\n",
       "Case_AcquisitionInfo          0\n",
       "Reporting_PHU_City            0\n",
       "Outbreak_Related           9082\n",
       "Reporting_PHU_Latitude        0\n",
       "Reporting_PHU_Longitude       0\n",
       "Outcome1                      0\n",
       "dtype: int64"
      ]
     },
     "execution_count": 47,
     "metadata": {},
     "output_type": "execute_result"
    }
   ],
   "source": [
    "df.isnull().sum()"
   ]
  },
  {
   "cell_type": "markdown",
   "metadata": {},
   "source": [
    "We see there are missing values in the columns \"Test_Reported_Date\", \"Specimen_Date\", \"Age_Group\" and \"Outbreak_Related\".\n",
    "\n",
    "We are replacing those missing values in the colum \"Outbreak_Related\" with \"No\"."
   ]
  },
  {
   "cell_type": "code",
   "execution_count": 48,
   "metadata": {},
   "outputs": [
    {
     "data": {
      "text/html": [
       "<div>\n",
       "<style scoped>\n",
       "    .dataframe tbody tr th:only-of-type {\n",
       "        vertical-align: middle;\n",
       "    }\n",
       "\n",
       "    .dataframe tbody tr th {\n",
       "        vertical-align: top;\n",
       "    }\n",
       "\n",
       "    .dataframe thead th {\n",
       "        text-align: right;\n",
       "    }\n",
       "</style>\n",
       "<table border=\"1\" class=\"dataframe\">\n",
       "  <thead>\n",
       "    <tr style=\"text-align: right;\">\n",
       "      <th></th>\n",
       "      <th>Accurate_Episode_Date</th>\n",
       "      <th>Case_Reported_Date</th>\n",
       "      <th>Test_Reported_Date</th>\n",
       "      <th>Specimen_Date</th>\n",
       "      <th>Age_Group</th>\n",
       "      <th>Client_Gender</th>\n",
       "      <th>Case_AcquisitionInfo</th>\n",
       "      <th>Reporting_PHU_City</th>\n",
       "      <th>Outbreak_Related</th>\n",
       "      <th>Reporting_PHU_Latitude</th>\n",
       "      <th>Reporting_PHU_Longitude</th>\n",
       "      <th>Outcome1</th>\n",
       "    </tr>\n",
       "  </thead>\n",
       "  <tbody>\n",
       "    <tr>\n",
       "      <th>5659</th>\n",
       "      <td>2021-01-21</td>\n",
       "      <td>2021-01-21</td>\n",
       "      <td>NaN</td>\n",
       "      <td>NaN</td>\n",
       "      <td>NaN</td>\n",
       "      <td>FEMALE</td>\n",
       "      <td>OB</td>\n",
       "      <td>Sudbury</td>\n",
       "      <td>No</td>\n",
       "      <td>46.466092</td>\n",
       "      <td>-80.998059</td>\n",
       "      <td>Not Resolved</td>\n",
       "    </tr>\n",
       "    <tr>\n",
       "      <th>6709</th>\n",
       "      <td>2020-12-21</td>\n",
       "      <td>2020-12-21</td>\n",
       "      <td>NaN</td>\n",
       "      <td>NaN</td>\n",
       "      <td>NaN</td>\n",
       "      <td>UNSPECIFIED</td>\n",
       "      <td>NO KNOWN EPI LINK</td>\n",
       "      <td>Windsor</td>\n",
       "      <td>No</td>\n",
       "      <td>42.308796</td>\n",
       "      <td>-83.033670</td>\n",
       "      <td>Fatal</td>\n",
       "    </tr>\n",
       "    <tr>\n",
       "      <th>9721</th>\n",
       "      <td>2020-12-27</td>\n",
       "      <td>2020-12-31</td>\n",
       "      <td>2020-12-31</td>\n",
       "      <td>2020-12-27</td>\n",
       "      <td>NaN</td>\n",
       "      <td>FEMALE</td>\n",
       "      <td>OB</td>\n",
       "      <td>Kenora</td>\n",
       "      <td>Yes</td>\n",
       "      <td>49.769615</td>\n",
       "      <td>-94.488254</td>\n",
       "      <td>Resolved</td>\n",
       "    </tr>\n",
       "    <tr>\n",
       "      <th>10658</th>\n",
       "      <td>2021-01-24</td>\n",
       "      <td>2021-01-24</td>\n",
       "      <td>NaN</td>\n",
       "      <td>NaN</td>\n",
       "      <td>NaN</td>\n",
       "      <td>UNSPECIFIED</td>\n",
       "      <td>NO KNOWN EPI LINK</td>\n",
       "      <td>Simcoe</td>\n",
       "      <td>No</td>\n",
       "      <td>42.847825</td>\n",
       "      <td>-80.303815</td>\n",
       "      <td>Not Resolved</td>\n",
       "    </tr>\n",
       "    <tr>\n",
       "      <th>12316</th>\n",
       "      <td>2021-01-30</td>\n",
       "      <td>2021-01-30</td>\n",
       "      <td>NaN</td>\n",
       "      <td>NaN</td>\n",
       "      <td>NaN</td>\n",
       "      <td>FEMALE</td>\n",
       "      <td>MISSING INFORMATION</td>\n",
       "      <td>Peterborough</td>\n",
       "      <td>No</td>\n",
       "      <td>44.301632</td>\n",
       "      <td>-78.321347</td>\n",
       "      <td>Not Resolved</td>\n",
       "    </tr>\n",
       "  </tbody>\n",
       "</table>\n",
       "</div>"
      ],
      "text/plain": [
       "      Accurate_Episode_Date Case_Reported_Date Test_Reported_Date  \\\n",
       "5659             2021-01-21         2021-01-21                NaN   \n",
       "6709             2020-12-21         2020-12-21                NaN   \n",
       "9721             2020-12-27         2020-12-31         2020-12-31   \n",
       "10658            2021-01-24         2021-01-24                NaN   \n",
       "12316            2021-01-30         2021-01-30                NaN   \n",
       "\n",
       "      Specimen_Date Age_Group Client_Gender Case_AcquisitionInfo  \\\n",
       "5659            NaN       NaN        FEMALE                   OB   \n",
       "6709            NaN       NaN   UNSPECIFIED    NO KNOWN EPI LINK   \n",
       "9721     2020-12-27       NaN        FEMALE                   OB   \n",
       "10658           NaN       NaN   UNSPECIFIED    NO KNOWN EPI LINK   \n",
       "12316           NaN       NaN        FEMALE  MISSING INFORMATION   \n",
       "\n",
       "      Reporting_PHU_City Outbreak_Related  Reporting_PHU_Latitude  \\\n",
       "5659             Sudbury               No               46.466092   \n",
       "6709             Windsor               No               42.308796   \n",
       "9721              Kenora              Yes               49.769615   \n",
       "10658             Simcoe               No               42.847825   \n",
       "12316       Peterborough               No               44.301632   \n",
       "\n",
       "       Reporting_PHU_Longitude      Outcome1  \n",
       "5659                -80.998059  Not Resolved  \n",
       "6709                -83.033670         Fatal  \n",
       "9721                -94.488254      Resolved  \n",
       "10658               -80.303815  Not Resolved  \n",
       "12316               -78.321347  Not Resolved  "
      ]
     },
     "execution_count": 48,
     "metadata": {},
     "output_type": "execute_result"
    }
   ],
   "source": [
    "df['Outbreak_Related'].replace(np.nan, 'No',inplace=True)\n",
    "df[df['Age_Group'].isnull()]"
   ]
  },
  {
   "cell_type": "markdown",
   "metadata": {},
   "source": [
    "Above are rows in the data where column \"Age_Group\" is missing. We are replacing the missing value with the mode of the same column corresponding to a particular \"Client_Gender\"."
   ]
  },
  {
   "cell_type": "code",
   "execution_count": 49,
   "metadata": {},
   "outputs": [
    {
     "data": {
      "text/plain": [
       "(14860, 12)"
      ]
     },
     "execution_count": 49,
     "metadata": {},
     "output_type": "execute_result"
    }
   ],
   "source": [
    "df[['Client_Gender','Age_Group']].value_counts()\n",
    "df_female = df[df.Client_Gender=='FEMALE']\n",
    "df_female['Age_Group'].fillna('90s',inplace = True)\n",
    "df_unsp = df[df.Client_Gender=='UNSPECIFIED']\n",
    "df_unsp['Age_Group'].fillna('80s',inplace = True)\n",
    "df_gd = df[df.Client_Gender=='GENDER DIVERSE']\n",
    "df_male = df[df.Client_Gender=='MALE']\n",
    "df_final = df_male.append([df_gd,df_unsp,df_female])\n",
    "df_final.shape"
   ]
  },
  {
   "cell_type": "code",
   "execution_count": 50,
   "metadata": {},
   "outputs": [
    {
     "data": {
      "text/html": [
       "<div>\n",
       "<style scoped>\n",
       "    .dataframe tbody tr th:only-of-type {\n",
       "        vertical-align: middle;\n",
       "    }\n",
       "\n",
       "    .dataframe tbody tr th {\n",
       "        vertical-align: top;\n",
       "    }\n",
       "\n",
       "    .dataframe thead th {\n",
       "        text-align: right;\n",
       "    }\n",
       "</style>\n",
       "<table border=\"1\" class=\"dataframe\">\n",
       "  <thead>\n",
       "    <tr style=\"text-align: right;\">\n",
       "      <th></th>\n",
       "      <th>Accurate_Episode_Date</th>\n",
       "      <th>Case_Reported_Date</th>\n",
       "      <th>Test_Reported_Date</th>\n",
       "      <th>Specimen_Date</th>\n",
       "      <th>Age_Group</th>\n",
       "      <th>Client_Gender</th>\n",
       "      <th>Case_AcquisitionInfo</th>\n",
       "      <th>Reporting_PHU_City</th>\n",
       "      <th>Outbreak_Related</th>\n",
       "      <th>Reporting_PHU_Latitude</th>\n",
       "      <th>Reporting_PHU_Longitude</th>\n",
       "      <th>Outcome1</th>\n",
       "    </tr>\n",
       "  </thead>\n",
       "  <tbody>\n",
       "    <tr>\n",
       "      <th>0</th>\n",
       "      <td>2020-03-30</td>\n",
       "      <td>2020-03-31</td>\n",
       "      <td>2020-03-31</td>\n",
       "      <td>2020-03-30</td>\n",
       "      <td>70</td>\n",
       "      <td>MALE</td>\n",
       "      <td>OB</td>\n",
       "      <td>Stratford</td>\n",
       "      <td>Yes</td>\n",
       "      <td>43.368662</td>\n",
       "      <td>-81.001913</td>\n",
       "      <td>Fatal</td>\n",
       "    </tr>\n",
       "    <tr>\n",
       "      <th>3</th>\n",
       "      <td>2021-01-18</td>\n",
       "      <td>2021-01-21</td>\n",
       "      <td>2021-01-21</td>\n",
       "      <td>2021-01-18</td>\n",
       "      <td>19</td>\n",
       "      <td>MALE</td>\n",
       "      <td>CC</td>\n",
       "      <td>Mississauga</td>\n",
       "      <td>No</td>\n",
       "      <td>43.647471</td>\n",
       "      <td>-79.708893</td>\n",
       "      <td>Not Resolved</td>\n",
       "    </tr>\n",
       "    <tr>\n",
       "      <th>4</th>\n",
       "      <td>2020-12-26</td>\n",
       "      <td>2020-12-28</td>\n",
       "      <td>2020-12-28</td>\n",
       "      <td>2020-12-26</td>\n",
       "      <td>60</td>\n",
       "      <td>MALE</td>\n",
       "      <td>OB</td>\n",
       "      <td>Windsor</td>\n",
       "      <td>Yes</td>\n",
       "      <td>42.308796</td>\n",
       "      <td>-83.033670</td>\n",
       "      <td>Resolved</td>\n",
       "    </tr>\n",
       "    <tr>\n",
       "      <th>6</th>\n",
       "      <td>2021-01-23</td>\n",
       "      <td>2021-01-24</td>\n",
       "      <td>2021-01-24</td>\n",
       "      <td>2021-01-23</td>\n",
       "      <td>20</td>\n",
       "      <td>MALE</td>\n",
       "      <td>MISSING INFORMATION</td>\n",
       "      <td>Ottawa</td>\n",
       "      <td>No</td>\n",
       "      <td>45.345665</td>\n",
       "      <td>-75.763912</td>\n",
       "      <td>Not Resolved</td>\n",
       "    </tr>\n",
       "    <tr>\n",
       "      <th>8</th>\n",
       "      <td>2021-01-25</td>\n",
       "      <td>2021-01-29</td>\n",
       "      <td>2021-01-29</td>\n",
       "      <td>2021-01-28</td>\n",
       "      <td>40</td>\n",
       "      <td>MALE</td>\n",
       "      <td>CC</td>\n",
       "      <td>Newmarket</td>\n",
       "      <td>No</td>\n",
       "      <td>44.048023</td>\n",
       "      <td>-79.480239</td>\n",
       "      <td>Not Resolved</td>\n",
       "    </tr>\n",
       "    <tr>\n",
       "      <th>...</th>\n",
       "      <td>...</td>\n",
       "      <td>...</td>\n",
       "      <td>...</td>\n",
       "      <td>...</td>\n",
       "      <td>...</td>\n",
       "      <td>...</td>\n",
       "      <td>...</td>\n",
       "      <td>...</td>\n",
       "      <td>...</td>\n",
       "      <td>...</td>\n",
       "      <td>...</td>\n",
       "      <td>...</td>\n",
       "    </tr>\n",
       "    <tr>\n",
       "      <th>14849</th>\n",
       "      <td>2020-05-10</td>\n",
       "      <td>2020-05-10</td>\n",
       "      <td>2020-05-10</td>\n",
       "      <td>2020-05-08</td>\n",
       "      <td>70</td>\n",
       "      <td>FEMALE</td>\n",
       "      <td>OB</td>\n",
       "      <td>Toronto</td>\n",
       "      <td>Yes</td>\n",
       "      <td>43.656591</td>\n",
       "      <td>-79.379358</td>\n",
       "      <td>Fatal</td>\n",
       "    </tr>\n",
       "    <tr>\n",
       "      <th>14852</th>\n",
       "      <td>2021-01-20</td>\n",
       "      <td>2021-01-21</td>\n",
       "      <td>2021-01-21</td>\n",
       "      <td>2021-01-20</td>\n",
       "      <td>50</td>\n",
       "      <td>FEMALE</td>\n",
       "      <td>CC</td>\n",
       "      <td>Mississauga</td>\n",
       "      <td>No</td>\n",
       "      <td>43.647471</td>\n",
       "      <td>-79.708893</td>\n",
       "      <td>Not Resolved</td>\n",
       "    </tr>\n",
       "    <tr>\n",
       "      <th>14854</th>\n",
       "      <td>2020-04-05</td>\n",
       "      <td>2020-04-05</td>\n",
       "      <td>2020-04-06</td>\n",
       "      <td>2020-04-05</td>\n",
       "      <td>50</td>\n",
       "      <td>FEMALE</td>\n",
       "      <td>OB</td>\n",
       "      <td>St. Thomas</td>\n",
       "      <td>Yes</td>\n",
       "      <td>42.777804</td>\n",
       "      <td>-81.151156</td>\n",
       "      <td>Resolved</td>\n",
       "    </tr>\n",
       "    <tr>\n",
       "      <th>14855</th>\n",
       "      <td>2020-04-02</td>\n",
       "      <td>2020-04-03</td>\n",
       "      <td>2020-04-04</td>\n",
       "      <td>2020-04-02</td>\n",
       "      <td>90</td>\n",
       "      <td>FEMALE</td>\n",
       "      <td>NO KNOWN EPI LINK</td>\n",
       "      <td>Whitby</td>\n",
       "      <td>No</td>\n",
       "      <td>43.898605</td>\n",
       "      <td>-78.940341</td>\n",
       "      <td>Fatal</td>\n",
       "    </tr>\n",
       "    <tr>\n",
       "      <th>14857</th>\n",
       "      <td>2020-12-07</td>\n",
       "      <td>2020-12-08</td>\n",
       "      <td>2020-12-08</td>\n",
       "      <td>2020-12-07</td>\n",
       "      <td>40</td>\n",
       "      <td>FEMALE</td>\n",
       "      <td>CC</td>\n",
       "      <td>Mississauga</td>\n",
       "      <td>No</td>\n",
       "      <td>43.647471</td>\n",
       "      <td>-79.708893</td>\n",
       "      <td>Resolved</td>\n",
       "    </tr>\n",
       "  </tbody>\n",
       "</table>\n",
       "<p>14860 rows × 12 columns</p>\n",
       "</div>"
      ],
      "text/plain": [
       "      Accurate_Episode_Date Case_Reported_Date Test_Reported_Date  \\\n",
       "0                2020-03-30         2020-03-31         2020-03-31   \n",
       "3                2021-01-18         2021-01-21         2021-01-21   \n",
       "4                2020-12-26         2020-12-28         2020-12-28   \n",
       "6                2021-01-23         2021-01-24         2021-01-24   \n",
       "8                2021-01-25         2021-01-29         2021-01-29   \n",
       "...                     ...                ...                ...   \n",
       "14849            2020-05-10         2020-05-10         2020-05-10   \n",
       "14852            2021-01-20         2021-01-21         2021-01-21   \n",
       "14854            2020-04-05         2020-04-05         2020-04-06   \n",
       "14855            2020-04-02         2020-04-03         2020-04-04   \n",
       "14857            2020-12-07         2020-12-08         2020-12-08   \n",
       "\n",
       "      Specimen_Date  Age_Group Client_Gender Case_AcquisitionInfo  \\\n",
       "0        2020-03-30         70          MALE                   OB   \n",
       "3        2021-01-18         19          MALE                   CC   \n",
       "4        2020-12-26         60          MALE                   OB   \n",
       "6        2021-01-23         20          MALE  MISSING INFORMATION   \n",
       "8        2021-01-28         40          MALE                   CC   \n",
       "...             ...        ...           ...                  ...   \n",
       "14849    2020-05-08         70        FEMALE                   OB   \n",
       "14852    2021-01-20         50        FEMALE                   CC   \n",
       "14854    2020-04-05         50        FEMALE                   OB   \n",
       "14855    2020-04-02         90        FEMALE    NO KNOWN EPI LINK   \n",
       "14857    2020-12-07         40        FEMALE                   CC   \n",
       "\n",
       "      Reporting_PHU_City Outbreak_Related  Reporting_PHU_Latitude  \\\n",
       "0              Stratford              Yes               43.368662   \n",
       "3            Mississauga               No               43.647471   \n",
       "4                Windsor              Yes               42.308796   \n",
       "6                 Ottawa               No               45.345665   \n",
       "8              Newmarket               No               44.048023   \n",
       "...                  ...              ...                     ...   \n",
       "14849            Toronto              Yes               43.656591   \n",
       "14852        Mississauga               No               43.647471   \n",
       "14854         St. Thomas              Yes               42.777804   \n",
       "14855             Whitby               No               43.898605   \n",
       "14857        Mississauga               No               43.647471   \n",
       "\n",
       "       Reporting_PHU_Longitude      Outcome1  \n",
       "0                   -81.001913         Fatal  \n",
       "3                   -79.708893  Not Resolved  \n",
       "4                   -83.033670      Resolved  \n",
       "6                   -75.763912  Not Resolved  \n",
       "8                   -79.480239  Not Resolved  \n",
       "...                        ...           ...  \n",
       "14849               -79.379358         Fatal  \n",
       "14852               -79.708893  Not Resolved  \n",
       "14854               -81.151156      Resolved  \n",
       "14855               -78.940341         Fatal  \n",
       "14857               -79.708893      Resolved  \n",
       "\n",
       "[14860 rows x 12 columns]"
      ]
     },
     "execution_count": 50,
     "metadata": {},
     "output_type": "execute_result"
    }
   ],
   "source": [
    "#Formatting the values of \"Age_Group\" as appropriate.\n",
    "\n",
    "df_final[\"Age_Group\"].replace({\"90s\": 90, \"80s\": 80,\"70s\": 70, \"60s\": 60,\"50s\": 50, \"40s\": 40,\"30s\": 30, \"20s\": 20, \"<20\": 19 }, inplace=True)\n",
    "df_final"
   ]
  },
  {
   "cell_type": "markdown",
   "metadata": {},
   "source": [
    "Dropping the date columns \"Test_Reported_Date\" and \"Specimen_Date\" from the dataset since these columns have too many null values.\n",
    "\n",
    "Converting the date columns \"Accurate_Episode_Date\" and \"Case_Reported_Date\" into integers."
   ]
  },
  {
   "cell_type": "code",
   "execution_count": 51,
   "metadata": {
    "scrolled": false
   },
   "outputs": [
    {
     "data": {
      "text/html": [
       "<div>\n",
       "<style scoped>\n",
       "    .dataframe tbody tr th:only-of-type {\n",
       "        vertical-align: middle;\n",
       "    }\n",
       "\n",
       "    .dataframe tbody tr th {\n",
       "        vertical-align: top;\n",
       "    }\n",
       "\n",
       "    .dataframe thead th {\n",
       "        text-align: right;\n",
       "    }\n",
       "</style>\n",
       "<table border=\"1\" class=\"dataframe\">\n",
       "  <thead>\n",
       "    <tr style=\"text-align: right;\">\n",
       "      <th></th>\n",
       "      <th>Accurate_Episode_Date</th>\n",
       "      <th>Case_Reported_Date</th>\n",
       "      <th>Age_Group</th>\n",
       "      <th>Client_Gender</th>\n",
       "      <th>Case_AcquisitionInfo</th>\n",
       "      <th>Reporting_PHU_City</th>\n",
       "      <th>Outbreak_Related</th>\n",
       "      <th>Reporting_PHU_Latitude</th>\n",
       "      <th>Reporting_PHU_Longitude</th>\n",
       "      <th>Outcome1</th>\n",
       "    </tr>\n",
       "  </thead>\n",
       "  <tbody>\n",
       "    <tr>\n",
       "      <th>0</th>\n",
       "      <td>1585526400000000000</td>\n",
       "      <td>1585612800000000000</td>\n",
       "      <td>70</td>\n",
       "      <td>MALE</td>\n",
       "      <td>OB</td>\n",
       "      <td>Stratford</td>\n",
       "      <td>Yes</td>\n",
       "      <td>43.368662</td>\n",
       "      <td>-81.001913</td>\n",
       "      <td>Fatal</td>\n",
       "    </tr>\n",
       "    <tr>\n",
       "      <th>3</th>\n",
       "      <td>1610928000000000000</td>\n",
       "      <td>1611187200000000000</td>\n",
       "      <td>19</td>\n",
       "      <td>MALE</td>\n",
       "      <td>CC</td>\n",
       "      <td>Mississauga</td>\n",
       "      <td>No</td>\n",
       "      <td>43.647471</td>\n",
       "      <td>-79.708893</td>\n",
       "      <td>Not Resolved</td>\n",
       "    </tr>\n",
       "    <tr>\n",
       "      <th>4</th>\n",
       "      <td>1608940800000000000</td>\n",
       "      <td>1609113600000000000</td>\n",
       "      <td>60</td>\n",
       "      <td>MALE</td>\n",
       "      <td>OB</td>\n",
       "      <td>Windsor</td>\n",
       "      <td>Yes</td>\n",
       "      <td>42.308796</td>\n",
       "      <td>-83.033670</td>\n",
       "      <td>Resolved</td>\n",
       "    </tr>\n",
       "    <tr>\n",
       "      <th>6</th>\n",
       "      <td>1611360000000000000</td>\n",
       "      <td>1611446400000000000</td>\n",
       "      <td>20</td>\n",
       "      <td>MALE</td>\n",
       "      <td>MISSING INFORMATION</td>\n",
       "      <td>Ottawa</td>\n",
       "      <td>No</td>\n",
       "      <td>45.345665</td>\n",
       "      <td>-75.763912</td>\n",
       "      <td>Not Resolved</td>\n",
       "    </tr>\n",
       "    <tr>\n",
       "      <th>8</th>\n",
       "      <td>1611532800000000000</td>\n",
       "      <td>1611878400000000000</td>\n",
       "      <td>40</td>\n",
       "      <td>MALE</td>\n",
       "      <td>CC</td>\n",
       "      <td>Newmarket</td>\n",
       "      <td>No</td>\n",
       "      <td>44.048023</td>\n",
       "      <td>-79.480239</td>\n",
       "      <td>Not Resolved</td>\n",
       "    </tr>\n",
       "    <tr>\n",
       "      <th>...</th>\n",
       "      <td>...</td>\n",
       "      <td>...</td>\n",
       "      <td>...</td>\n",
       "      <td>...</td>\n",
       "      <td>...</td>\n",
       "      <td>...</td>\n",
       "      <td>...</td>\n",
       "      <td>...</td>\n",
       "      <td>...</td>\n",
       "      <td>...</td>\n",
       "    </tr>\n",
       "    <tr>\n",
       "      <th>14849</th>\n",
       "      <td>1589068800000000000</td>\n",
       "      <td>1589068800000000000</td>\n",
       "      <td>70</td>\n",
       "      <td>FEMALE</td>\n",
       "      <td>OB</td>\n",
       "      <td>Toronto</td>\n",
       "      <td>Yes</td>\n",
       "      <td>43.656591</td>\n",
       "      <td>-79.379358</td>\n",
       "      <td>Fatal</td>\n",
       "    </tr>\n",
       "    <tr>\n",
       "      <th>14852</th>\n",
       "      <td>1611100800000000000</td>\n",
       "      <td>1611187200000000000</td>\n",
       "      <td>50</td>\n",
       "      <td>FEMALE</td>\n",
       "      <td>CC</td>\n",
       "      <td>Mississauga</td>\n",
       "      <td>No</td>\n",
       "      <td>43.647471</td>\n",
       "      <td>-79.708893</td>\n",
       "      <td>Not Resolved</td>\n",
       "    </tr>\n",
       "    <tr>\n",
       "      <th>14854</th>\n",
       "      <td>1586044800000000000</td>\n",
       "      <td>1586044800000000000</td>\n",
       "      <td>50</td>\n",
       "      <td>FEMALE</td>\n",
       "      <td>OB</td>\n",
       "      <td>St. Thomas</td>\n",
       "      <td>Yes</td>\n",
       "      <td>42.777804</td>\n",
       "      <td>-81.151156</td>\n",
       "      <td>Resolved</td>\n",
       "    </tr>\n",
       "    <tr>\n",
       "      <th>14855</th>\n",
       "      <td>1585785600000000000</td>\n",
       "      <td>1585872000000000000</td>\n",
       "      <td>90</td>\n",
       "      <td>FEMALE</td>\n",
       "      <td>NO KNOWN EPI LINK</td>\n",
       "      <td>Whitby</td>\n",
       "      <td>No</td>\n",
       "      <td>43.898605</td>\n",
       "      <td>-78.940341</td>\n",
       "      <td>Fatal</td>\n",
       "    </tr>\n",
       "    <tr>\n",
       "      <th>14857</th>\n",
       "      <td>1607299200000000000</td>\n",
       "      <td>1607385600000000000</td>\n",
       "      <td>40</td>\n",
       "      <td>FEMALE</td>\n",
       "      <td>CC</td>\n",
       "      <td>Mississauga</td>\n",
       "      <td>No</td>\n",
       "      <td>43.647471</td>\n",
       "      <td>-79.708893</td>\n",
       "      <td>Resolved</td>\n",
       "    </tr>\n",
       "  </tbody>\n",
       "</table>\n",
       "<p>14860 rows × 10 columns</p>\n",
       "</div>"
      ],
      "text/plain": [
       "       Accurate_Episode_Date   Case_Reported_Date  Age_Group Client_Gender  \\\n",
       "0        1585526400000000000  1585612800000000000         70          MALE   \n",
       "3        1610928000000000000  1611187200000000000         19          MALE   \n",
       "4        1608940800000000000  1609113600000000000         60          MALE   \n",
       "6        1611360000000000000  1611446400000000000         20          MALE   \n",
       "8        1611532800000000000  1611878400000000000         40          MALE   \n",
       "...                      ...                  ...        ...           ...   \n",
       "14849    1589068800000000000  1589068800000000000         70        FEMALE   \n",
       "14852    1611100800000000000  1611187200000000000         50        FEMALE   \n",
       "14854    1586044800000000000  1586044800000000000         50        FEMALE   \n",
       "14855    1585785600000000000  1585872000000000000         90        FEMALE   \n",
       "14857    1607299200000000000  1607385600000000000         40        FEMALE   \n",
       "\n",
       "      Case_AcquisitionInfo Reporting_PHU_City Outbreak_Related  \\\n",
       "0                       OB          Stratford              Yes   \n",
       "3                       CC        Mississauga               No   \n",
       "4                       OB            Windsor              Yes   \n",
       "6      MISSING INFORMATION             Ottawa               No   \n",
       "8                       CC          Newmarket               No   \n",
       "...                    ...                ...              ...   \n",
       "14849                   OB            Toronto              Yes   \n",
       "14852                   CC        Mississauga               No   \n",
       "14854                   OB         St. Thomas              Yes   \n",
       "14855    NO KNOWN EPI LINK             Whitby               No   \n",
       "14857                   CC        Mississauga               No   \n",
       "\n",
       "       Reporting_PHU_Latitude  Reporting_PHU_Longitude      Outcome1  \n",
       "0                   43.368662               -81.001913         Fatal  \n",
       "3                   43.647471               -79.708893  Not Resolved  \n",
       "4                   42.308796               -83.033670      Resolved  \n",
       "6                   45.345665               -75.763912  Not Resolved  \n",
       "8                   44.048023               -79.480239  Not Resolved  \n",
       "...                       ...                      ...           ...  \n",
       "14849               43.656591               -79.379358         Fatal  \n",
       "14852               43.647471               -79.708893  Not Resolved  \n",
       "14854               42.777804               -81.151156      Resolved  \n",
       "14855               43.898605               -78.940341         Fatal  \n",
       "14857               43.647471               -79.708893      Resolved  \n",
       "\n",
       "[14860 rows x 10 columns]"
      ]
     },
     "execution_count": 51,
     "metadata": {},
     "output_type": "execute_result"
    }
   ],
   "source": [
    "dataset_wo_dates=df_final.copy()\n",
    "dataset_wo_dates.drop(dataset_wo_dates.columns[[2,3]], axis = 1, inplace = True)\n",
    "dataset_wo_dates['Case_Reported_Date'] = pd.to_datetime(df['Case_Reported_Date'])\n",
    "dataset_wo_dates['Accurate_Episode_Date'] = pd.to_datetime(df['Accurate_Episode_Date'])\n",
    "dataset_wo_dates['Accurate_Episode_Date'] = dataset_wo_dates['Accurate_Episode_Date'].astype(np.int64)\n",
    "dataset_wo_dates['Case_Reported_Date'] = dataset_wo_dates['Case_Reported_Date'].astype(np.int64)\n",
    "dataset_wo_dates"
   ]
  },
  {
   "cell_type": "markdown",
   "metadata": {},
   "source": [
    "Performing one hot encoding for the columns 'Client_Gender', 'Reporting_PHU_City','Case_AcquisitionInfo', 'Outbreak_Related'"
   ]
  },
  {
   "cell_type": "code",
   "execution_count": 52,
   "metadata": {},
   "outputs": [
    {
     "data": {
      "text/html": [
       "<div>\n",
       "<style scoped>\n",
       "    .dataframe tbody tr th:only-of-type {\n",
       "        vertical-align: middle;\n",
       "    }\n",
       "\n",
       "    .dataframe tbody tr th {\n",
       "        vertical-align: top;\n",
       "    }\n",
       "\n",
       "    .dataframe thead th {\n",
       "        text-align: right;\n",
       "    }\n",
       "</style>\n",
       "<table border=\"1\" class=\"dataframe\">\n",
       "  <thead>\n",
       "    <tr style=\"text-align: right;\">\n",
       "      <th></th>\n",
       "      <th>Accurate_Episode_Date</th>\n",
       "      <th>Case_Reported_Date</th>\n",
       "      <th>Age_Group</th>\n",
       "      <th>Reporting_PHU_Latitude</th>\n",
       "      <th>Reporting_PHU_Longitude</th>\n",
       "      <th>Outcome1</th>\n",
       "      <th>Client_Gender_FEMALE</th>\n",
       "      <th>Client_Gender_GENDER DIVERSE</th>\n",
       "      <th>Client_Gender_MALE</th>\n",
       "      <th>Client_Gender_UNSPECIFIED</th>\n",
       "      <th>...</th>\n",
       "      <th>Reporting_PHU_City_Whitby</th>\n",
       "      <th>Reporting_PHU_City_Windsor</th>\n",
       "      <th>Case_AcquisitionInfo_CC</th>\n",
       "      <th>Case_AcquisitionInfo_MISSING INFORMATION</th>\n",
       "      <th>Case_AcquisitionInfo_NO KNOWN EPI LINK</th>\n",
       "      <th>Case_AcquisitionInfo_OB</th>\n",
       "      <th>Case_AcquisitionInfo_TRAVEL</th>\n",
       "      <th>Case_AcquisitionInfo_UNSPECIFIED EPI LINK</th>\n",
       "      <th>Outbreak_Related_No</th>\n",
       "      <th>Outbreak_Related_Yes</th>\n",
       "    </tr>\n",
       "  </thead>\n",
       "  <tbody>\n",
       "    <tr>\n",
       "      <th>0</th>\n",
       "      <td>1585526400000000000</td>\n",
       "      <td>1585612800000000000</td>\n",
       "      <td>70</td>\n",
       "      <td>43.368662</td>\n",
       "      <td>-81.001913</td>\n",
       "      <td>Fatal</td>\n",
       "      <td>0</td>\n",
       "      <td>0</td>\n",
       "      <td>1</td>\n",
       "      <td>0</td>\n",
       "      <td>...</td>\n",
       "      <td>0</td>\n",
       "      <td>0</td>\n",
       "      <td>0</td>\n",
       "      <td>0</td>\n",
       "      <td>0</td>\n",
       "      <td>1</td>\n",
       "      <td>0</td>\n",
       "      <td>0</td>\n",
       "      <td>0</td>\n",
       "      <td>1</td>\n",
       "    </tr>\n",
       "    <tr>\n",
       "      <th>3</th>\n",
       "      <td>1610928000000000000</td>\n",
       "      <td>1611187200000000000</td>\n",
       "      <td>19</td>\n",
       "      <td>43.647471</td>\n",
       "      <td>-79.708893</td>\n",
       "      <td>Not Resolved</td>\n",
       "      <td>0</td>\n",
       "      <td>0</td>\n",
       "      <td>1</td>\n",
       "      <td>0</td>\n",
       "      <td>...</td>\n",
       "      <td>0</td>\n",
       "      <td>0</td>\n",
       "      <td>1</td>\n",
       "      <td>0</td>\n",
       "      <td>0</td>\n",
       "      <td>0</td>\n",
       "      <td>0</td>\n",
       "      <td>0</td>\n",
       "      <td>1</td>\n",
       "      <td>0</td>\n",
       "    </tr>\n",
       "    <tr>\n",
       "      <th>4</th>\n",
       "      <td>1608940800000000000</td>\n",
       "      <td>1609113600000000000</td>\n",
       "      <td>60</td>\n",
       "      <td>42.308796</td>\n",
       "      <td>-83.033670</td>\n",
       "      <td>Resolved</td>\n",
       "      <td>0</td>\n",
       "      <td>0</td>\n",
       "      <td>1</td>\n",
       "      <td>0</td>\n",
       "      <td>...</td>\n",
       "      <td>0</td>\n",
       "      <td>1</td>\n",
       "      <td>0</td>\n",
       "      <td>0</td>\n",
       "      <td>0</td>\n",
       "      <td>1</td>\n",
       "      <td>0</td>\n",
       "      <td>0</td>\n",
       "      <td>0</td>\n",
       "      <td>1</td>\n",
       "    </tr>\n",
       "    <tr>\n",
       "      <th>6</th>\n",
       "      <td>1611360000000000000</td>\n",
       "      <td>1611446400000000000</td>\n",
       "      <td>20</td>\n",
       "      <td>45.345665</td>\n",
       "      <td>-75.763912</td>\n",
       "      <td>Not Resolved</td>\n",
       "      <td>0</td>\n",
       "      <td>0</td>\n",
       "      <td>1</td>\n",
       "      <td>0</td>\n",
       "      <td>...</td>\n",
       "      <td>0</td>\n",
       "      <td>0</td>\n",
       "      <td>0</td>\n",
       "      <td>1</td>\n",
       "      <td>0</td>\n",
       "      <td>0</td>\n",
       "      <td>0</td>\n",
       "      <td>0</td>\n",
       "      <td>1</td>\n",
       "      <td>0</td>\n",
       "    </tr>\n",
       "    <tr>\n",
       "      <th>8</th>\n",
       "      <td>1611532800000000000</td>\n",
       "      <td>1611878400000000000</td>\n",
       "      <td>40</td>\n",
       "      <td>44.048023</td>\n",
       "      <td>-79.480239</td>\n",
       "      <td>Not Resolved</td>\n",
       "      <td>0</td>\n",
       "      <td>0</td>\n",
       "      <td>1</td>\n",
       "      <td>0</td>\n",
       "      <td>...</td>\n",
       "      <td>0</td>\n",
       "      <td>0</td>\n",
       "      <td>1</td>\n",
       "      <td>0</td>\n",
       "      <td>0</td>\n",
       "      <td>0</td>\n",
       "      <td>0</td>\n",
       "      <td>0</td>\n",
       "      <td>1</td>\n",
       "      <td>0</td>\n",
       "    </tr>\n",
       "    <tr>\n",
       "      <th>...</th>\n",
       "      <td>...</td>\n",
       "      <td>...</td>\n",
       "      <td>...</td>\n",
       "      <td>...</td>\n",
       "      <td>...</td>\n",
       "      <td>...</td>\n",
       "      <td>...</td>\n",
       "      <td>...</td>\n",
       "      <td>...</td>\n",
       "      <td>...</td>\n",
       "      <td>...</td>\n",
       "      <td>...</td>\n",
       "      <td>...</td>\n",
       "      <td>...</td>\n",
       "      <td>...</td>\n",
       "      <td>...</td>\n",
       "      <td>...</td>\n",
       "      <td>...</td>\n",
       "      <td>...</td>\n",
       "      <td>...</td>\n",
       "      <td>...</td>\n",
       "    </tr>\n",
       "    <tr>\n",
       "      <th>14849</th>\n",
       "      <td>1589068800000000000</td>\n",
       "      <td>1589068800000000000</td>\n",
       "      <td>70</td>\n",
       "      <td>43.656591</td>\n",
       "      <td>-79.379358</td>\n",
       "      <td>Fatal</td>\n",
       "      <td>1</td>\n",
       "      <td>0</td>\n",
       "      <td>0</td>\n",
       "      <td>0</td>\n",
       "      <td>...</td>\n",
       "      <td>0</td>\n",
       "      <td>0</td>\n",
       "      <td>0</td>\n",
       "      <td>0</td>\n",
       "      <td>0</td>\n",
       "      <td>1</td>\n",
       "      <td>0</td>\n",
       "      <td>0</td>\n",
       "      <td>0</td>\n",
       "      <td>1</td>\n",
       "    </tr>\n",
       "    <tr>\n",
       "      <th>14852</th>\n",
       "      <td>1611100800000000000</td>\n",
       "      <td>1611187200000000000</td>\n",
       "      <td>50</td>\n",
       "      <td>43.647471</td>\n",
       "      <td>-79.708893</td>\n",
       "      <td>Not Resolved</td>\n",
       "      <td>1</td>\n",
       "      <td>0</td>\n",
       "      <td>0</td>\n",
       "      <td>0</td>\n",
       "      <td>...</td>\n",
       "      <td>0</td>\n",
       "      <td>0</td>\n",
       "      <td>1</td>\n",
       "      <td>0</td>\n",
       "      <td>0</td>\n",
       "      <td>0</td>\n",
       "      <td>0</td>\n",
       "      <td>0</td>\n",
       "      <td>1</td>\n",
       "      <td>0</td>\n",
       "    </tr>\n",
       "    <tr>\n",
       "      <th>14854</th>\n",
       "      <td>1586044800000000000</td>\n",
       "      <td>1586044800000000000</td>\n",
       "      <td>50</td>\n",
       "      <td>42.777804</td>\n",
       "      <td>-81.151156</td>\n",
       "      <td>Resolved</td>\n",
       "      <td>1</td>\n",
       "      <td>0</td>\n",
       "      <td>0</td>\n",
       "      <td>0</td>\n",
       "      <td>...</td>\n",
       "      <td>0</td>\n",
       "      <td>0</td>\n",
       "      <td>0</td>\n",
       "      <td>0</td>\n",
       "      <td>0</td>\n",
       "      <td>1</td>\n",
       "      <td>0</td>\n",
       "      <td>0</td>\n",
       "      <td>0</td>\n",
       "      <td>1</td>\n",
       "    </tr>\n",
       "    <tr>\n",
       "      <th>14855</th>\n",
       "      <td>1585785600000000000</td>\n",
       "      <td>1585872000000000000</td>\n",
       "      <td>90</td>\n",
       "      <td>43.898605</td>\n",
       "      <td>-78.940341</td>\n",
       "      <td>Fatal</td>\n",
       "      <td>1</td>\n",
       "      <td>0</td>\n",
       "      <td>0</td>\n",
       "      <td>0</td>\n",
       "      <td>...</td>\n",
       "      <td>1</td>\n",
       "      <td>0</td>\n",
       "      <td>0</td>\n",
       "      <td>0</td>\n",
       "      <td>1</td>\n",
       "      <td>0</td>\n",
       "      <td>0</td>\n",
       "      <td>0</td>\n",
       "      <td>1</td>\n",
       "      <td>0</td>\n",
       "    </tr>\n",
       "    <tr>\n",
       "      <th>14857</th>\n",
       "      <td>1607299200000000000</td>\n",
       "      <td>1607385600000000000</td>\n",
       "      <td>40</td>\n",
       "      <td>43.647471</td>\n",
       "      <td>-79.708893</td>\n",
       "      <td>Resolved</td>\n",
       "      <td>1</td>\n",
       "      <td>0</td>\n",
       "      <td>0</td>\n",
       "      <td>0</td>\n",
       "      <td>...</td>\n",
       "      <td>0</td>\n",
       "      <td>0</td>\n",
       "      <td>1</td>\n",
       "      <td>0</td>\n",
       "      <td>0</td>\n",
       "      <td>0</td>\n",
       "      <td>0</td>\n",
       "      <td>0</td>\n",
       "      <td>1</td>\n",
       "      <td>0</td>\n",
       "    </tr>\n",
       "  </tbody>\n",
       "</table>\n",
       "<p>14860 rows × 52 columns</p>\n",
       "</div>"
      ],
      "text/plain": [
       "       Accurate_Episode_Date   Case_Reported_Date  Age_Group  \\\n",
       "0        1585526400000000000  1585612800000000000         70   \n",
       "3        1610928000000000000  1611187200000000000         19   \n",
       "4        1608940800000000000  1609113600000000000         60   \n",
       "6        1611360000000000000  1611446400000000000         20   \n",
       "8        1611532800000000000  1611878400000000000         40   \n",
       "...                      ...                  ...        ...   \n",
       "14849    1589068800000000000  1589068800000000000         70   \n",
       "14852    1611100800000000000  1611187200000000000         50   \n",
       "14854    1586044800000000000  1586044800000000000         50   \n",
       "14855    1585785600000000000  1585872000000000000         90   \n",
       "14857    1607299200000000000  1607385600000000000         40   \n",
       "\n",
       "       Reporting_PHU_Latitude  Reporting_PHU_Longitude      Outcome1  \\\n",
       "0                   43.368662               -81.001913         Fatal   \n",
       "3                   43.647471               -79.708893  Not Resolved   \n",
       "4                   42.308796               -83.033670      Resolved   \n",
       "6                   45.345665               -75.763912  Not Resolved   \n",
       "8                   44.048023               -79.480239  Not Resolved   \n",
       "...                       ...                      ...           ...   \n",
       "14849               43.656591               -79.379358         Fatal   \n",
       "14852               43.647471               -79.708893  Not Resolved   \n",
       "14854               42.777804               -81.151156      Resolved   \n",
       "14855               43.898605               -78.940341         Fatal   \n",
       "14857               43.647471               -79.708893      Resolved   \n",
       "\n",
       "       Client_Gender_FEMALE  Client_Gender_GENDER DIVERSE  Client_Gender_MALE  \\\n",
       "0                         0                             0                   1   \n",
       "3                         0                             0                   1   \n",
       "4                         0                             0                   1   \n",
       "6                         0                             0                   1   \n",
       "8                         0                             0                   1   \n",
       "...                     ...                           ...                 ...   \n",
       "14849                     1                             0                   0   \n",
       "14852                     1                             0                   0   \n",
       "14854                     1                             0                   0   \n",
       "14855                     1                             0                   0   \n",
       "14857                     1                             0                   0   \n",
       "\n",
       "       Client_Gender_UNSPECIFIED  ...  Reporting_PHU_City_Whitby  \\\n",
       "0                              0  ...                          0   \n",
       "3                              0  ...                          0   \n",
       "4                              0  ...                          0   \n",
       "6                              0  ...                          0   \n",
       "8                              0  ...                          0   \n",
       "...                          ...  ...                        ...   \n",
       "14849                          0  ...                          0   \n",
       "14852                          0  ...                          0   \n",
       "14854                          0  ...                          0   \n",
       "14855                          0  ...                          1   \n",
       "14857                          0  ...                          0   \n",
       "\n",
       "       Reporting_PHU_City_Windsor  Case_AcquisitionInfo_CC  \\\n",
       "0                               0                        0   \n",
       "3                               0                        1   \n",
       "4                               1                        0   \n",
       "6                               0                        0   \n",
       "8                               0                        1   \n",
       "...                           ...                      ...   \n",
       "14849                           0                        0   \n",
       "14852                           0                        1   \n",
       "14854                           0                        0   \n",
       "14855                           0                        0   \n",
       "14857                           0                        1   \n",
       "\n",
       "       Case_AcquisitionInfo_MISSING INFORMATION  \\\n",
       "0                                             0   \n",
       "3                                             0   \n",
       "4                                             0   \n",
       "6                                             1   \n",
       "8                                             0   \n",
       "...                                         ...   \n",
       "14849                                         0   \n",
       "14852                                         0   \n",
       "14854                                         0   \n",
       "14855                                         0   \n",
       "14857                                         0   \n",
       "\n",
       "       Case_AcquisitionInfo_NO KNOWN EPI LINK  Case_AcquisitionInfo_OB  \\\n",
       "0                                           0                        1   \n",
       "3                                           0                        0   \n",
       "4                                           0                        1   \n",
       "6                                           0                        0   \n",
       "8                                           0                        0   \n",
       "...                                       ...                      ...   \n",
       "14849                                       0                        1   \n",
       "14852                                       0                        0   \n",
       "14854                                       0                        1   \n",
       "14855                                       1                        0   \n",
       "14857                                       0                        0   \n",
       "\n",
       "       Case_AcquisitionInfo_TRAVEL  Case_AcquisitionInfo_UNSPECIFIED EPI LINK  \\\n",
       "0                                0                                          0   \n",
       "3                                0                                          0   \n",
       "4                                0                                          0   \n",
       "6                                0                                          0   \n",
       "8                                0                                          0   \n",
       "...                            ...                                        ...   \n",
       "14849                            0                                          0   \n",
       "14852                            0                                          0   \n",
       "14854                            0                                          0   \n",
       "14855                            0                                          0   \n",
       "14857                            0                                          0   \n",
       "\n",
       "       Outbreak_Related_No  Outbreak_Related_Yes  \n",
       "0                        0                     1  \n",
       "3                        1                     0  \n",
       "4                        0                     1  \n",
       "6                        1                     0  \n",
       "8                        1                     0  \n",
       "...                    ...                   ...  \n",
       "14849                    0                     1  \n",
       "14852                    1                     0  \n",
       "14854                    0                     1  \n",
       "14855                    1                     0  \n",
       "14857                    1                     0  \n",
       "\n",
       "[14860 rows x 52 columns]"
      ]
     },
     "execution_count": 52,
     "metadata": {},
     "output_type": "execute_result"
    }
   ],
   "source": [
    "dataset = pd.get_dummies(dataset_wo_dates, columns = ['Client_Gender', 'Reporting_PHU_City','Case_AcquisitionInfo', 'Outbreak_Related'])\n",
    "dataset"
   ]
  },
  {
   "cell_type": "code",
   "execution_count": 53,
   "metadata": {
    "scrolled": true
   },
   "outputs": [
    {
     "name": "stdout",
     "output_type": "stream",
     "text": [
      "(14860, 51) (14860, 3)\n"
     ]
    }
   ],
   "source": [
    "target=[\"Outcome1\"]\n",
    "cols=[col for col in dataset.columns if col not in target]\n",
    "\n",
    "x=dataset[cols]\n",
    "y2=dataset[target]\n",
    "\n",
    "# Normalizing all the columns using StandardScaler()\n",
    "ss = StandardScaler()\n",
    "X = ss.fit_transform(x)\n",
    "y = pd.get_dummies(dataset['Outcome1']).values\n",
    "print(X.shape, y.shape)"
   ]
  },
  {
   "cell_type": "code",
   "execution_count": 54,
   "metadata": {},
   "outputs": [
    {
     "data": {
      "text/plain": [
       "((11888, 51), (1486, 51), (1486, 51), (11888, 3), (1486, 3), (1486, 3))"
      ]
     },
     "execution_count": 54,
     "metadata": {},
     "output_type": "execute_result"
    }
   ],
   "source": [
    "#Splitting the data into train, validation, and test sets (80%, 10%, 10%)\n",
    "\n",
    "train_valid_x, test_x, train_valid_y, test_y = train_test_split(X, y, test_size=0.1, random_state=275)\n",
    "train_x,valid_x,train_y,valid_y=train_test_split(train_valid_x, train_valid_y, test_size=0.1111, random_state=275)\n",
    "train_x.shape,valid_x.shape,test_x.shape,train_y.shape,valid_y.shape, test_y.shape"
   ]
  },
  {
   "cell_type": "markdown",
   "metadata": {},
   "source": [
    "### Implementing Fully Connected Neural Network"
   ]
  },
  {
   "cell_type": "markdown",
   "metadata": {},
   "source": [
    "### Implementation 1"
   ]
  },
  {
   "cell_type": "code",
   "execution_count": 55,
   "metadata": {},
   "outputs": [],
   "source": [
    "model=Sequential()\n",
    "model.add(Dense(1000,input_dim=51,activation='sigmoid'))\n",
    "model.add(Dense(500,activation='sigmoid'))\n",
    "model.add(Dense(300,activation='sigmoid'))\n",
    "model.add(Dense(3,activation='softmax'))\n",
    "model.compile(loss='categorical_crossentropy',optimizer='SGD',metrics=['accuracy'])"
   ]
  },
  {
   "cell_type": "code",
   "execution_count": 56,
   "metadata": {},
   "outputs": [
    {
     "name": "stdout",
     "output_type": "stream",
     "text": [
      "Epoch 1/20\n",
      "372/372 [==============================] - 2s 4ms/step - loss: 1.1093 - accuracy: 0.3355 - val_loss: 1.1090 - val_accuracy: 0.3452\n",
      "Epoch 2/20\n",
      "372/372 [==============================] - 2s 4ms/step - loss: 1.0993 - accuracy: 0.3427 - val_loss: 1.0902 - val_accuracy: 0.5639\n",
      "Epoch 3/20\n",
      "372/372 [==============================] - 1s 3ms/step - loss: 1.0880 - accuracy: 0.3909 - val_loss: 1.0780 - val_accuracy: 0.3452\n",
      "Epoch 4/20\n",
      "372/372 [==============================] - 1s 3ms/step - loss: 1.0794 - accuracy: 0.4112 - val_loss: 1.0655 - val_accuracy: 0.3459\n",
      "Epoch 5/20\n",
      "372/372 [==============================] - 1s 3ms/step - loss: 1.0646 - accuracy: 0.4621 - val_loss: 1.0687 - val_accuracy: 0.5141\n",
      "Epoch 6/20\n",
      "372/372 [==============================] - 1s 4ms/step - loss: 1.0431 - accuracy: 0.5078 - val_loss: 1.0244 - val_accuracy: 0.5606\n",
      "Epoch 7/20\n",
      "372/372 [==============================] - 1s 4ms/step - loss: 1.0121 - accuracy: 0.5401 - val_loss: 0.9699 - val_accuracy: 0.6642\n",
      "Epoch 8/20\n",
      "372/372 [==============================] - 1s 4ms/step - loss: 0.9611 - accuracy: 0.5851 - val_loss: 0.9123 - val_accuracy: 0.6810\n",
      "Epoch 9/20\n",
      "372/372 [==============================] - 1s 4ms/step - loss: 0.8970 - accuracy: 0.5949 - val_loss: 0.8467 - val_accuracy: 0.6326\n",
      "Epoch 10/20\n",
      "372/372 [==============================] - 2s 4ms/step - loss: 0.8299 - accuracy: 0.6068 - val_loss: 0.8283 - val_accuracy: 0.5882\n",
      "Epoch 11/20\n",
      "372/372 [==============================] - 2s 5ms/step - loss: 0.7949 - accuracy: 0.6166 - val_loss: 0.7780 - val_accuracy: 0.6689\n",
      "Epoch 12/20\n",
      "372/372 [==============================] - 2s 4ms/step - loss: 0.7679 - accuracy: 0.6365 - val_loss: 0.7600 - val_accuracy: 0.6083\n",
      "Epoch 13/20\n",
      "372/372 [==============================] - 2s 4ms/step - loss: 0.7493 - accuracy: 0.6375 - val_loss: 0.7460 - val_accuracy: 0.6602\n",
      "Epoch 14/20\n",
      "372/372 [==============================] - 2s 4ms/step - loss: 0.7339 - accuracy: 0.6505 - val_loss: 0.7264 - val_accuracy: 0.6507\n",
      "Epoch 15/20\n",
      "372/372 [==============================] - 2s 5ms/step - loss: 0.7192 - accuracy: 0.6540 - val_loss: 0.7192 - val_accuracy: 0.6460\n",
      "Epoch 16/20\n",
      "372/372 [==============================] - 2s 4ms/step - loss: 0.7123 - accuracy: 0.6564 - val_loss: 0.7097 - val_accuracy: 0.6797\n",
      "Epoch 17/20\n",
      "372/372 [==============================] - 2s 4ms/step - loss: 0.6922 - accuracy: 0.6644 - val_loss: 0.6932 - val_accuracy: 0.6689\n",
      "Epoch 18/20\n",
      "372/372 [==============================] - 2s 4ms/step - loss: 0.6853 - accuracy: 0.6744 - val_loss: 0.6898 - val_accuracy: 0.6750\n",
      "Epoch 19/20\n",
      "372/372 [==============================] - 2s 4ms/step - loss: 0.6770 - accuracy: 0.6891 - val_loss: 0.6812 - val_accuracy: 0.6844\n",
      "Epoch 20/20\n",
      "372/372 [==============================] - 2s 4ms/step - loss: 0.6684 - accuracy: 0.6889 - val_loss: 0.6638 - val_accuracy: 0.7005\n"
     ]
    }
   ],
   "source": [
    "start_time = time.time()\n",
    "new_model_1_obj=model.fit(train_valid_x, train_valid_y, epochs=20, shuffle=True, validation_split=0.1111)\n",
    "elapsed_time = time.time() - start_time"
   ]
  },
  {
   "cell_type": "code",
   "execution_count": 57,
   "metadata": {},
   "outputs": [
    {
     "name": "stdout",
     "output_type": "stream",
     "text": [
      "Time taken for the training (in seconds): 30.190842866897583\n"
     ]
    }
   ],
   "source": [
    "print(\"Time taken for the training (in seconds): {}\".format(elapsed_time))"
   ]
  },
  {
   "cell_type": "code",
   "execution_count": 58,
   "metadata": {},
   "outputs": [
    {
     "name": "stdout",
     "output_type": "stream",
     "text": [
      "47/47 [==============================] - 0s 1ms/step - loss: 0.6451 - accuracy: 0.7032\n"
     ]
    }
   ],
   "source": [
    "start_time = time.time()\n",
    "test_loss, test_accuracy = model.evaluate(test_x, test_y)\n",
    "elapsed_time = time.time() - start_time"
   ]
  },
  {
   "cell_type": "code",
   "execution_count": 59,
   "metadata": {},
   "outputs": [
    {
     "name": "stdout",
     "output_type": "stream",
     "text": [
      "Time taken for the testing (in seconds): 0.11095118522644043\n"
     ]
    }
   ],
   "source": [
    "print(\"Time taken for the testing (in seconds): {}\".format(elapsed_time))"
   ]
  },
  {
   "cell_type": "code",
   "execution_count": 60,
   "metadata": {},
   "outputs": [
    {
     "data": {
      "image/png": "[encoded data removed]",
      "text/plain": [
       "<Figure size 432x288 with 1 Axes>"
      ]
     },
     "metadata": {
      "needs_background": "light"
     },
     "output_type": "display_data"
    }
   ],
   "source": [
    "from matplotlib import pyplot\n",
    "pyplot.plot(new_model_1_obj.history['loss'])\n",
    "pyplot.plot(new_model_1_obj.history['val_loss'])\n",
    "pyplot.title(\"Loss\")\n",
    "pyplot.ylabel(\"loss\")\n",
    "pyplot.xlabel(\"epoch\")\n",
    "pyplot.legend(['train', 'val'], loc='upper right')\n",
    "pyplot.show()"
   ]
  },
  {
   "cell_type": "markdown",
   "metadata": {},
   "source": [
    "* From the above loss graph, validation loss didn't reduce throughout and is increased at some points whereas training loss reduced till 20 epochs. \n",
    "* That is, the model performed well on train set but not on test set(validation dataset here) and hence the model has overfit the training data.\n",
    "* Making further modifications in the architecture and/or parameters."
   ]
  },
  {
   "cell_type": "code",
   "execution_count": 61,
   "metadata": {},
   "outputs": [],
   "source": [
    "from sklearn.metrics import confusion_matrix, classification_report, mean_squared_error, mean_absolute_error, r2_score\n",
    "def plot_confusion_matrix(model, X, y):\n",
    "    y_pred = model.predict_classes(X, verbose=0)\n",
    "    plt.figure(figsize=(8, 6))\n",
    "    sns.heatmap(pd.DataFrame(confusion_matrix(y, y_pred)), annot=True, fmt='d', cmap='YlGnBu', alpha=0.8, vmin=0)\n",
    "\n",
    "#y_pred_class = model.predict_classes(test_x, verbose=0)\n",
    "#y_test_class = np.argmax(test_y, axis=1)\n",
    "#print(classification_report(y_test_class, y_pred_class))"
   ]
  },
  {
   "cell_type": "markdown",
   "metadata": {},
   "source": [
    "### Implementation 2 "
   ]
  },
  {
   "cell_type": "code",
   "execution_count": 62,
   "metadata": {},
   "outputs": [],
   "source": [
    "model_2=Sequential()\n",
    "model_2.add(Dense(1000,input_dim=51,activation='relu'))\n",
    "model_2.add(Dense(500,activation='relu'))\n",
    "model_2.add(Dense(300,activation='relu'))\n",
    "model_2.add(Dense(3,activation='softmax'))\n",
    "model_2.compile(loss='categorical_crossentropy',optimizer='SGD',metrics=['accuracy'])"
   ]
  },
  {
   "cell_type": "code",
   "execution_count": 63,
   "metadata": {},
   "outputs": [
    {
     "name": "stdout",
     "output_type": "stream",
     "text": [
      "Epoch 1/20\n",
      "372/372 [==============================] - 2s 4ms/step - loss: 0.9256 - accuracy: 0.6001 - val_loss: 0.6292 - val_accuracy: 0.7685\n",
      "Epoch 2/20\n",
      "372/372 [==============================] - 1s 4ms/step - loss: 0.5711 - accuracy: 0.7904 - val_loss: 0.4587 - val_accuracy: 0.8291\n",
      "Epoch 3/20\n",
      "372/372 [==============================] - 1s 4ms/step - loss: 0.4294 - accuracy: 0.8435 - val_loss: 0.3821 - val_accuracy: 0.8668\n",
      "Epoch 4/20\n",
      "372/372 [==============================] - 1s 4ms/step - loss: 0.3641 - accuracy: 0.8728 - val_loss: 0.3464 - val_accuracy: 0.8627\n",
      "Epoch 5/20\n",
      "372/372 [==============================] - 2s 4ms/step - loss: 0.3278 - accuracy: 0.8840 - val_loss: 0.3483 - val_accuracy: 0.8647\n",
      "Epoch 6/20\n",
      "372/372 [==============================] - 1s 4ms/step - loss: 0.3190 - accuracy: 0.8904 - val_loss: 0.3190 - val_accuracy: 0.8910\n",
      "Epoch 7/20\n",
      "372/372 [==============================] - 1s 4ms/step - loss: 0.3231 - accuracy: 0.8907 - val_loss: 0.3007 - val_accuracy: 0.8910\n",
      "Epoch 8/20\n",
      "372/372 [==============================] - 2s 4ms/step - loss: 0.3105 - accuracy: 0.8935 - val_loss: 0.3168 - val_accuracy: 0.8917\n",
      "Epoch 9/20\n",
      "372/372 [==============================] - 2s 4ms/step - loss: 0.2987 - accuracy: 0.8948 - val_loss: 0.2849 - val_accuracy: 0.8937\n",
      "Epoch 10/20\n",
      "372/372 [==============================] - 1s 4ms/step - loss: 0.2860 - accuracy: 0.9017 - val_loss: 0.2911 - val_accuracy: 0.9011\n",
      "Epoch 11/20\n",
      "372/372 [==============================] - 1s 4ms/step - loss: 0.2679 - accuracy: 0.9067 - val_loss: 0.2907 - val_accuracy: 0.9011\n",
      "Epoch 12/20\n",
      "372/372 [==============================] - 1s 4ms/step - loss: 0.2793 - accuracy: 0.9023 - val_loss: 0.2998 - val_accuracy: 0.8984\n",
      "Epoch 13/20\n",
      "372/372 [==============================] - 2s 4ms/step - loss: 0.2618 - accuracy: 0.9080 - val_loss: 0.2986 - val_accuracy: 0.8964\n",
      "Epoch 14/20\n",
      "372/372 [==============================] - 1s 4ms/step - loss: 0.2735 - accuracy: 0.9037 - val_loss: 0.2850 - val_accuracy: 0.9031\n",
      "Epoch 15/20\n",
      "372/372 [==============================] - 2s 4ms/step - loss: 0.2763 - accuracy: 0.9067 - val_loss: 0.2853 - val_accuracy: 0.8984\n",
      "Epoch 16/20\n",
      "372/372 [==============================] - 2s 4ms/step - loss: 0.2590 - accuracy: 0.9076 - val_loss: 0.2835 - val_accuracy: 0.8984\n",
      "Epoch 17/20\n",
      "372/372 [==============================] - 2s 4ms/step - loss: 0.2636 - accuracy: 0.9088 - val_loss: 0.2988 - val_accuracy: 0.8917\n",
      "Epoch 18/20\n",
      "372/372 [==============================] - 1s 4ms/step - loss: 0.2602 - accuracy: 0.9104 - val_loss: 0.2761 - val_accuracy: 0.9044\n",
      "Epoch 19/20\n",
      "372/372 [==============================] - 1s 4ms/step - loss: 0.2602 - accuracy: 0.9094 - val_loss: 0.2701 - val_accuracy: 0.9038\n",
      "Epoch 20/20\n",
      "372/372 [==============================] - 1s 4ms/step - loss: 0.2533 - accuracy: 0.9130 - val_loss: 0.2801 - val_accuracy: 0.9038\n"
     ]
    }
   ],
   "source": [
    "start_time = time.time()\n",
    "model_2_obj=model_2.fit(train_valid_x, train_valid_y, epochs=20, shuffle=True, validation_split=0.1111)\n",
    "elapsed_time = time.time() - start_time"
   ]
  },
  {
   "cell_type": "code",
   "execution_count": 64,
   "metadata": {},
   "outputs": [
    {
     "name": "stdout",
     "output_type": "stream",
     "text": [
      "Time taken for the training (in seconds): 30.28716468811035\n"
     ]
    }
   ],
   "source": [
    "print(\"Time taken for the training (in seconds): {}\".format(elapsed_time))"
   ]
  },
  {
   "cell_type": "code",
   "execution_count": 65,
   "metadata": {},
   "outputs": [
    {
     "name": "stdout",
     "output_type": "stream",
     "text": [
      "47/47 [==============================] - 0s 1ms/step - loss: 0.2845 - accuracy: 0.8964\n"
     ]
    }
   ],
   "source": [
    "start_time = time.time()\n",
    "test_loss, test_accuracy = model_2.evaluate(test_x, test_y)\n",
    "elapsed_time = time.time() - start_time"
   ]
  },
  {
   "cell_type": "code",
   "execution_count": 66,
   "metadata": {},
   "outputs": [
    {
     "name": "stdout",
     "output_type": "stream",
     "text": [
      "Time taken for the testing (in seconds): 0.10919952392578125\n"
     ]
    }
   ],
   "source": [
    "print(\"Time taken for the testing (in seconds): {}\".format(elapsed_time))"
   ]
  },
  {
   "cell_type": "code",
   "execution_count": 67,
   "metadata": {},
   "outputs": [
    {
     "data": {
      "image/png": "[encoded data removed]",
      "text/plain": [
       "<Figure size 432x288 with 1 Axes>"
      ]
     },
     "metadata": {
      "needs_background": "light"
     },
     "output_type": "display_data"
    }
   ],
   "source": [
    "pyplot.plot(model_2_obj.history['loss'])\n",
    "pyplot.plot(model_2_obj.history['val_loss'])\n",
    "pyplot.title(\"Loss\")\n",
    "pyplot.ylabel(\"loss\")\n",
    "pyplot.xlabel(\"epoch\")\n",
    "pyplot.legend(['train', 'val'], loc='upper right')\n",
    "pyplot.show()"
   ]
  },
  {
   "cell_type": "markdown",
   "metadata": {},
   "source": [
    "* In the second implementation, activation function has been changed to see if there will be any change in the way the model performs. Yes we can see a change, compared to the previous model, this new model 2 has loss graph even more smoother. Compare the loss graphs of implementation 1 and 2 and it is evident.\n",
    "* validation loss didn't reduce throughout and is increased at some points. \n",
    "* Model is considered to be overfit if training loss is reduced but the test loss increased, that is, the model performed well on train set but not on test set. Hence regularization techniques are further implemented within the model to avoid overfitting."
   ]
  },
  {
   "cell_type": "markdown",
   "metadata": {},
   "source": [
    "### Implementation 3 (Introducing Regularization in the architecture)"
   ]
  },
  {
   "cell_type": "code",
   "execution_count": 68,
   "metadata": {},
   "outputs": [
    {
     "name": "stdout",
     "output_type": "stream",
     "text": [
      "Epoch 1/20\n",
      "372/372 [==============================] - 2s 4ms/step - loss: 4.5255 - accuracy: 0.6085 - val_loss: 3.8693 - val_accuracy: 0.7645\n",
      "Epoch 2/20\n",
      "372/372 [==============================] - 1s 4ms/step - loss: 3.6983 - accuracy: 0.7911 - val_loss: 3.2692 - val_accuracy: 0.8183\n",
      "Epoch 3/20\n",
      "372/372 [==============================] - 1s 4ms/step - loss: 3.1415 - accuracy: 0.8404 - val_loss: 2.8157 - val_accuracy: 0.8688\n",
      "Epoch 4/20\n",
      "372/372 [==============================] - 1s 4ms/step - loss: 2.7087 - accuracy: 0.8672 - val_loss: 2.4497 - val_accuracy: 0.8614\n",
      "Epoch 5/20\n",
      "372/372 [==============================] - 2s 4ms/step - loss: 2.3523 - accuracy: 0.8828 - val_loss: 2.1599 - val_accuracy: 0.8641\n",
      "Epoch 6/20\n",
      "372/372 [==============================] - 2s 4ms/step - loss: 2.0699 - accuracy: 0.8880 - val_loss: 1.8816 - val_accuracy: 0.8910\n",
      "Epoch 7/20\n",
      "372/372 [==============================] - 2s 4ms/step - loss: 1.8277 - accuracy: 0.8885 - val_loss: 1.6499 - val_accuracy: 0.8923\n",
      "Epoch 8/20\n",
      "372/372 [==============================] - 2s 4ms/step - loss: 1.6103 - accuracy: 0.8926 - val_loss: 1.4797 - val_accuracy: 0.8977\n",
      "Epoch 9/20\n",
      "372/372 [==============================] - 2s 4ms/step - loss: 1.4276 - accuracy: 0.8936 - val_loss: 1.2965 - val_accuracy: 0.8950\n",
      "Epoch 10/20\n",
      "372/372 [==============================] - 1s 4ms/step - loss: 1.2554 - accuracy: 0.9002 - val_loss: 1.1622 - val_accuracy: 0.9024\n",
      "Epoch 11/20\n",
      "372/372 [==============================] - 2s 4ms/step - loss: 1.1114 - accuracy: 0.9048 - val_loss: 1.0431 - val_accuracy: 0.9017\n",
      "Epoch 12/20\n",
      "372/372 [==============================] - 1s 4ms/step - loss: 1.0024 - accuracy: 0.9009 - val_loss: 0.9466 - val_accuracy: 0.8997\n",
      "Epoch 13/20\n",
      "372/372 [==============================] - 2s 4ms/step - loss: 0.8948 - accuracy: 0.9054 - val_loss: 0.8629 - val_accuracy: 0.8984\n",
      "Epoch 14/20\n",
      "372/372 [==============================] - 1s 4ms/step - loss: 0.8205 - accuracy: 0.9037 - val_loss: 0.7667 - val_accuracy: 0.9038\n",
      "Epoch 15/20\n",
      "372/372 [==============================] - 2s 4ms/step - loss: 0.7467 - accuracy: 0.9068 - val_loss: 0.7053 - val_accuracy: 0.9017\n",
      "Epoch 16/20\n",
      "372/372 [==============================] - 2s 4ms/step - loss: 0.6743 - accuracy: 0.9061 - val_loss: 0.6464 - val_accuracy: 0.9011\n",
      "Epoch 17/20\n",
      "372/372 [==============================] - 2s 4ms/step - loss: 0.6206 - accuracy: 0.9082 - val_loss: 0.5989 - val_accuracy: 0.8977\n",
      "Epoch 18/20\n",
      "372/372 [==============================] - 2s 4ms/step - loss: 0.5745 - accuracy: 0.9088 - val_loss: 0.5529 - val_accuracy: 0.9065\n",
      "Epoch 19/20\n",
      "372/372 [==============================] - 2s 4ms/step - loss: 0.5353 - accuracy: 0.9074 - val_loss: 0.5121 - val_accuracy: 0.9051\n",
      "Epoch 20/20\n",
      "372/372 [==============================] - 1s 4ms/step - loss: 0.4951 - accuracy: 0.9095 - val_loss: 0.4954 - val_accuracy: 0.9031\n"
     ]
    }
   ],
   "source": [
    "model_3=Sequential()\n",
    "model_3.add(Dense(1000,input_dim=51,activation='relu'))\n",
    "model_3.add(Dense(500,activation='relu'))\n",
    "model_3.add(Dense(300,activation='relu',kernel_regularizer=keras.regularizers.l1(0.01)))\n",
    "model_3.add(Dense(3,activation='softmax'))\n",
    "model_3.compile(loss='categorical_crossentropy',optimizer='SGD',metrics=['accuracy'])\n",
    "start_time = time.time()\n",
    "model_3_obj=model_3.fit(train_valid_x, train_valid_y, epochs=20, shuffle=True, validation_split=0.1111)\n",
    "elapsed_time = time.time() - start_time"
   ]
  },
  {
   "cell_type": "code",
   "execution_count": 69,
   "metadata": {},
   "outputs": [
    {
     "name": "stdout",
     "output_type": "stream",
     "text": [
      "Time taken for the training (in seconds): 30.888737201690674\n"
     ]
    }
   ],
   "source": [
    "print(\"Time taken for the training (in seconds): {}\".format(elapsed_time))"
   ]
  },
  {
   "cell_type": "code",
   "execution_count": 70,
   "metadata": {},
   "outputs": [
    {
     "name": "stdout",
     "output_type": "stream",
     "text": [
      "47/47 [==============================] - 0s 1ms/step - loss: 0.4888 - accuracy: 0.8957\n"
     ]
    }
   ],
   "source": [
    "start_time = time.time()\n",
    "test_loss, test_accuracy = model_3.evaluate(test_x, test_y)\n",
    "elapsed_time = time.time() - start_time"
   ]
  },
  {
   "cell_type": "code",
   "execution_count": 71,
   "metadata": {},
   "outputs": [
    {
     "name": "stdout",
     "output_type": "stream",
     "text": [
      "Time taken for the testing (in seconds): 0.09764480590820312\n"
     ]
    }
   ],
   "source": [
    "print(\"Time taken for the testing (in seconds): {}\".format(elapsed_time))"
   ]
  },
  {
   "cell_type": "code",
   "execution_count": 72,
   "metadata": {},
   "outputs": [
    {
     "data": {
      "image/png": "[encoded data removed]",
      "text/plain": [
       "<Figure size 432x288 with 1 Axes>"
      ]
     },
     "metadata": {
      "needs_background": "light"
     },
     "output_type": "display_data"
    }
   ],
   "source": [
    "pyplot.plot(model_3_obj.history['loss'])\n",
    "pyplot.plot(model_3_obj.history['val_loss'])\n",
    "pyplot.title(\"Loss\")\n",
    "pyplot.ylabel(\"loss\")\n",
    "pyplot.xlabel(\"epoch\")\n",
    "pyplot.legend(['train', 'val'], loc='upper right')\n",
    "pyplot.show()"
   ]
  },
  {
   "cell_type": "markdown",
   "metadata": {},
   "source": [
    "* Regularization technique - L2 was introduced here and it has performed really well in preventing the overfit.\n",
    "\n",
    "* We have used L2 regularization (Sum of the squared weights) with hyperparameter value 0.01. This adds a penalty for weight size to the loss function and reduces overfitting.\n",
    "\n",
    "* From the above plot we see that training loss decreased gradually till 20th epoch, the validation loss also decreased throughout and has a small margin with the training loss. The plot shows a good fit."
   ]
  },
  {
   "cell_type": "code",
   "execution_count": 73,
   "metadata": {},
   "outputs": [
    {
     "data": {
      "image/png": "[encoded data removed]",
      "text/plain": [
       "<Figure size 432x288 with 1 Axes>"
      ]
     },
     "metadata": {
      "needs_background": "light"
     },
     "output_type": "display_data"
    }
   ],
   "source": [
    "pyplot.plot(model_3_obj.history['accuracy'])\n",
    "pyplot.plot(model_3_obj.history['val_accuracy'])\n",
    "pyplot.title(\"Accuracy\")\n",
    "pyplot.ylabel(\"accuracy\")\n",
    "pyplot.xlabel(\"epoch\")\n",
    "pyplot.legend(['train', 'val'], loc='lower right')\n",
    "pyplot.show()"
   ]
  },
  {
   "cell_type": "markdown",
   "metadata": {},
   "source": [
    "* Above is the plot for train and Val accurcies vs Number of Epochs.\n",
    "* Accuracy has improved right from 70 till 91% and from the graph it can be inferred that the model has improved better compared to other implementations.\n",
    "* This model has been considered final at this point. LSTM is implemented after this and it is compared later to check iot's performance."
   ]
  },
  {
   "cell_type": "markdown",
   "metadata": {},
   "source": [
    "###  Implementation 4 : LSTM"
   ]
  },
  {
   "cell_type": "code",
   "execution_count": 74,
   "metadata": {},
   "outputs": [],
   "source": [
    "from keras.layers import LSTM\n",
    "import numpy as np\n",
    "from sklearn import preprocessing"
   ]
  },
  {
   "cell_type": "code",
   "execution_count": 75,
   "metadata": {},
   "outputs": [],
   "source": [
    "target=[\"Outcome1\"]\n",
    "cols=[col for col in dataset.columns if col not in target]\n",
    "\n",
    "x=dataset[cols]\n",
    "y=dataset[target]"
   ]
  },
  {
   "cell_type": "code",
   "execution_count": 76,
   "metadata": {},
   "outputs": [],
   "source": [
    "norm_x=x.copy()\n",
    "scale = StandardScaler()\n",
    "columns_to_scale = ['Age_Group','Reporting_PHU_Latitude', 'Reporting_PHU_Longitude']\n",
    "norm_x[columns_to_scale] = scale.fit_transform(norm_x[columns_to_scale])\n",
    "\n",
    "y2=dataset[target]\n",
    "label_encoder = preprocessing.LabelEncoder()\n",
    "# Encode labels in column 'species'.\n",
    "y[\"Outcome1\"]= label_encoder.fit_transform(y[\"Outcome1\"])"
   ]
  },
  {
   "cell_type": "code",
   "execution_count": 77,
   "metadata": {},
   "outputs": [],
   "source": [
    "#splitting the dataset into train, test and using train for cross validation\n",
    "\n",
    "x_train_val, x_test, y_train_val, y_test = train_test_split(norm_x, y, test_size = 0.2, random_state = 275)\n",
    "train_x,valid_x,train_y,valid_y=train_test_split(x_train_val, y_train_val, test_size=0.1111, random_state=275)\n",
    "\n",
    "train_x, train_y = np.array(train_x), np.array(train_y)\n",
    "x_test, y_test = np.array(x_test), np.array(y_test)\n",
    "valid_x, valid_y = np.array(valid_x), np.array(valid_y)\n",
    "\n",
    "train_x = np.reshape(train_x, (train_x.shape[0], train_x.shape[1], 1))\n",
    "x_test = np.reshape(x_test, (x_test.shape[0], x_test.shape[1], 1))\n",
    "valid_x = np.reshape(valid_x, (valid_x.shape[0], valid_x.shape[1], 1))"
   ]
  },
  {
   "cell_type": "code",
   "execution_count": 78,
   "metadata": {},
   "outputs": [
    {
     "data": {
      "text/plain": [
       "((10567, 51, 1), (2972, 51, 1), (1321, 51, 1))"
      ]
     },
     "execution_count": 78,
     "metadata": {},
     "output_type": "execute_result"
    }
   ],
   "source": [
    "train_x.shape,x_test.shape,valid_x.shape"
   ]
  },
  {
   "cell_type": "code",
   "execution_count": 79,
   "metadata": {
    "scrolled": true
   },
   "outputs": [
    {
     "name": "stdout",
     "output_type": "stream",
     "text": [
      "Epoch 1/100\n",
      "11/11 [==============================] - 23s 2s/step - loss: 1.0981 - accuracy: 0.3529 - val_loss: 1.0906 - val_accuracy: 0.3202\n",
      "Epoch 2/100\n",
      "11/11 [==============================] - 19s 2s/step - loss: 1.0948 - accuracy: 0.3351 - val_loss: 1.0922 - val_accuracy: 0.3588\n",
      "Epoch 3/100\n",
      "11/11 [==============================] - 19s 2s/step - loss: 1.0918 - accuracy: 0.3671 - val_loss: 1.0825 - val_accuracy: 0.3997\n",
      "Epoch 4/100\n",
      "11/11 [==============================] - 19s 2s/step - loss: 1.0939 - accuracy: 0.4050 - val_loss: 1.0884 - val_accuracy: 0.3460\n",
      "Epoch 5/100\n",
      "11/11 [==============================] - 19s 2s/step - loss: 1.0871 - accuracy: 0.4039 - val_loss: 1.0866 - val_accuracy: 0.3906\n",
      "Epoch 6/100\n",
      "11/11 [==============================] - 19s 2s/step - loss: 1.0858 - accuracy: 0.3918 - val_loss: 1.0775 - val_accuracy: 0.4807\n",
      "Epoch 7/100\n",
      "11/11 [==============================] - 19s 2s/step - loss: 1.0485 - accuracy: 0.4944 - val_loss: 1.5474 - val_accuracy: 0.3270\n",
      "Epoch 8/100\n",
      "11/11 [==============================] - 20s 2s/step - loss: 1.2031 - accuracy: 0.3826 - val_loss: 1.0268 - val_accuracy: 0.4943\n",
      "Epoch 9/100\n",
      "11/11 [==============================] - 20s 2s/step - loss: 1.0023 - accuracy: 0.5136 - val_loss: 0.9611 - val_accuracy: 0.4951\n",
      "Epoch 10/100\n",
      "11/11 [==============================] - 20s 2s/step - loss: 0.9968 - accuracy: 0.4871 - val_loss: 0.9569 - val_accuracy: 0.5057\n",
      "Epoch 11/100\n",
      "11/11 [==============================] - 20s 2s/step - loss: 0.9406 - accuracy: 0.5219 - val_loss: 0.8698 - val_accuracy: 0.5503\n",
      "Epoch 12/100\n",
      "11/11 [==============================] - 20s 2s/step - loss: 0.8699 - accuracy: 0.5530 - val_loss: 0.8354 - val_accuracy: 0.5564\n",
      "Epoch 13/100\n",
      "11/11 [==============================] - 19s 2s/step - loss: 0.9189 - accuracy: 0.5125 - val_loss: 1.0335 - val_accuracy: 0.5223\n",
      "Epoch 14/100\n",
      "11/11 [==============================] - 19s 2s/step - loss: 1.0298 - accuracy: 0.5300 - val_loss: 0.9147 - val_accuracy: 0.5360\n",
      "Epoch 15/100\n",
      "11/11 [==============================] - 19s 2s/step - loss: 0.8763 - accuracy: 0.5503 - val_loss: 0.8446 - val_accuracy: 0.5299\n",
      "Epoch 16/100\n",
      "11/11 [==============================] - 20s 2s/step - loss: 0.8298 - accuracy: 0.5639 - val_loss: 0.8662 - val_accuracy: 0.5678\n",
      "Epoch 17/100\n",
      "11/11 [==============================] - 20s 2s/step - loss: 0.8018 - accuracy: 0.5798 - val_loss: 0.7584 - val_accuracy: 0.5852\n",
      "Epoch 18/100\n",
      "11/11 [==============================] - 20s 2s/step - loss: 0.7905 - accuracy: 0.5810 - val_loss: 0.7570 - val_accuracy: 0.5768\n",
      "Epoch 19/100\n",
      "11/11 [==============================] - 20s 2s/step - loss: 0.7732 - accuracy: 0.5824 - val_loss: 0.8333 - val_accuracy: 0.5397\n",
      "Epoch 20/100\n",
      "11/11 [==============================] - 20s 2s/step - loss: 0.8116 - accuracy: 0.5689 - val_loss: 0.8680 - val_accuracy: 0.5246\n",
      "Epoch 21/100\n",
      "11/11 [==============================] - 20s 2s/step - loss: 0.8298 - accuracy: 0.5581 - val_loss: 0.7980 - val_accuracy: 0.5738\n",
      "Epoch 22/100\n",
      "11/11 [==============================] - 20s 2s/step - loss: 0.7782 - accuracy: 0.5765 - val_loss: 0.7538 - val_accuracy: 0.5844\n",
      "Epoch 23/100\n",
      "11/11 [==============================] - 20s 2s/step - loss: 0.7630 - accuracy: 0.5862 - val_loss: 0.7466 - val_accuracy: 0.5942\n",
      "Epoch 24/100\n",
      "11/11 [==============================] - 20s 2s/step - loss: 0.7566 - accuracy: 0.5923 - val_loss: 0.7498 - val_accuracy: 0.5783\n",
      "Epoch 25/100\n",
      "11/11 [==============================] - 20s 2s/step - loss: 0.7529 - accuracy: 0.5890 - val_loss: 0.7488 - val_accuracy: 0.5897\n",
      "Epoch 26/100\n",
      "11/11 [==============================] - 20s 2s/step - loss: 0.7569 - accuracy: 0.5839 - val_loss: 0.7459 - val_accuracy: 0.5935\n",
      "Epoch 27/100\n",
      "11/11 [==============================] - 20s 2s/step - loss: 0.7519 - accuracy: 0.5889 - val_loss: 0.7543 - val_accuracy: 0.5882\n",
      "Epoch 28/100\n",
      "11/11 [==============================] - 18s 2s/step - loss: 0.7856 - accuracy: 0.5804 - val_loss: 0.8119 - val_accuracy: 0.5572\n",
      "Epoch 29/100\n",
      "11/11 [==============================] - 18s 2s/step - loss: 0.7821 - accuracy: 0.5717 - val_loss: 0.7452 - val_accuracy: 0.5897\n",
      "Epoch 30/100\n",
      "11/11 [==============================] - 18s 2s/step - loss: 0.7596 - accuracy: 0.5853 - val_loss: 0.7448 - val_accuracy: 0.5859\n",
      "Epoch 31/100\n",
      "11/11 [==============================] - 18s 2s/step - loss: 0.7544 - accuracy: 0.5878 - val_loss: 0.7467 - val_accuracy: 0.5882\n",
      "Epoch 32/100\n",
      "11/11 [==============================] - 18s 2s/step - loss: 0.7497 - accuracy: 0.5976 - val_loss: 0.7458 - val_accuracy: 0.5783\n",
      "Epoch 33/100\n",
      "11/11 [==============================] - 18s 2s/step - loss: 0.7698 - accuracy: 0.5809 - val_loss: 0.7568 - val_accuracy: 0.5814\n",
      "Epoch 34/100\n",
      "11/11 [==============================] - 18s 2s/step - loss: 0.7614 - accuracy: 0.5842 - val_loss: 0.7492 - val_accuracy: 0.5867\n",
      "Epoch 35/100\n",
      "11/11 [==============================] - 18s 2s/step - loss: 0.7588 - accuracy: 0.5861 - val_loss: 0.7554 - val_accuracy: 0.5844\n",
      "Epoch 36/100\n",
      "11/11 [==============================] - 18s 2s/step - loss: 0.7514 - accuracy: 0.5833 - val_loss: 0.7413 - val_accuracy: 0.5897\n",
      "Epoch 37/100\n",
      "11/11 [==============================] - 18s 2s/step - loss: 0.7464 - accuracy: 0.5866 - val_loss: 0.7429 - val_accuracy: 0.5980\n",
      "Epoch 38/100\n",
      "11/11 [==============================] - 18s 2s/step - loss: 0.7375 - accuracy: 0.5932 - val_loss: 0.7469 - val_accuracy: 0.5882\n",
      "Epoch 39/100\n",
      "11/11 [==============================] - 18s 2s/step - loss: 0.7448 - accuracy: 0.5955 - val_loss: 0.7527 - val_accuracy: 0.5905\n",
      "Epoch 40/100\n",
      "11/11 [==============================] - 18s 2s/step - loss: 0.7553 - accuracy: 0.5900 - val_loss: 0.7451 - val_accuracy: 0.5905\n",
      "Epoch 41/100\n",
      "11/11 [==============================] - 18s 2s/step - loss: 0.7468 - accuracy: 0.5932 - val_loss: 0.7490 - val_accuracy: 0.5821\n",
      "Epoch 42/100\n",
      "11/11 [==============================] - 18s 2s/step - loss: 0.7453 - accuracy: 0.5929 - val_loss: 0.7453 - val_accuracy: 0.5912\n",
      "Epoch 43/100\n",
      "11/11 [==============================] - 18s 2s/step - loss: 0.7439 - accuracy: 0.5943 - val_loss: 0.7411 - val_accuracy: 0.5912\n",
      "Epoch 44/100\n",
      "11/11 [==============================] - 18s 2s/step - loss: 0.7499 - accuracy: 0.5962 - val_loss: 0.7540 - val_accuracy: 0.5874\n",
      "Epoch 45/100\n",
      "11/11 [==============================] - 17s 2s/step - loss: 0.7488 - accuracy: 0.5925 - val_loss: 0.7413 - val_accuracy: 0.6041\n",
      "Epoch 46/100\n",
      "11/11 [==============================] - 18s 2s/step - loss: 0.7480 - accuracy: 0.5871 - val_loss: 0.7494 - val_accuracy: 0.5859\n",
      "Epoch 47/100\n",
      "11/11 [==============================] - 23s 2s/step - loss: 0.7382 - accuracy: 0.6019 - val_loss: 0.7417 - val_accuracy: 0.5958\n",
      "Epoch 48/100\n",
      "11/11 [==============================] - 20s 2s/step - loss: 0.7518 - accuracy: 0.5941 - val_loss: 0.7452 - val_accuracy: 0.5889\n",
      "Epoch 49/100\n",
      "11/11 [==============================] - 19s 2s/step - loss: 0.7474 - accuracy: 0.5990 - val_loss: 0.7399 - val_accuracy: 0.5927\n",
      "Epoch 50/100\n",
      "11/11 [==============================] - 19s 2s/step - loss: 0.7452 - accuracy: 0.5990 - val_loss: 0.7436 - val_accuracy: 0.5965\n",
      "Epoch 51/100\n",
      "11/11 [==============================] - 19s 2s/step - loss: 0.7439 - accuracy: 0.6023 - val_loss: 0.7398 - val_accuracy: 0.5958\n",
      "Epoch 52/100\n",
      "11/11 [==============================] - 19s 2s/step - loss: 0.7409 - accuracy: 0.5998 - val_loss: 0.7456 - val_accuracy: 0.5889\n",
      "Epoch 53/100\n",
      "11/11 [==============================] - 19s 2s/step - loss: 0.7489 - accuracy: 0.5965 - val_loss: 0.7388 - val_accuracy: 0.6079\n",
      "Epoch 54/100\n",
      "11/11 [==============================] - 19s 2s/step - loss: 0.7407 - accuracy: 0.6010 - val_loss: 0.7399 - val_accuracy: 0.6026\n",
      "Epoch 55/100\n",
      "11/11 [==============================] - 19s 2s/step - loss: 0.7287 - accuracy: 0.6101 - val_loss: 0.7474 - val_accuracy: 0.5950\n",
      "Epoch 56/100\n",
      "11/11 [==============================] - 19s 2s/step - loss: 0.7429 - accuracy: 0.5937 - val_loss: 0.7384 - val_accuracy: 0.5912\n",
      "Epoch 57/100\n",
      "11/11 [==============================] - 19s 2s/step - loss: 0.7364 - accuracy: 0.6037 - val_loss: 0.7389 - val_accuracy: 0.5995\n",
      "Epoch 58/100\n",
      "11/11 [==============================] - 19s 2s/step - loss: 0.7442 - accuracy: 0.6007 - val_loss: 0.7392 - val_accuracy: 0.6109\n"
     ]
    },
    {
     "name": "stdout",
     "output_type": "stream",
     "text": [
      "Epoch 59/100\n",
      "11/11 [==============================] - 19s 2s/step - loss: 0.7375 - accuracy: 0.6129 - val_loss: 0.7424 - val_accuracy: 0.6109\n",
      "Epoch 60/100\n",
      "11/11 [==============================] - 19s 2s/step - loss: 0.7376 - accuracy: 0.6053 - val_loss: 0.7374 - val_accuracy: 0.6200\n",
      "Epoch 61/100\n",
      "11/11 [==============================] - 19s 2s/step - loss: 0.7367 - accuracy: 0.6043 - val_loss: 0.7393 - val_accuracy: 0.6064\n",
      "Epoch 62/100\n",
      "11/11 [==============================] - 19s 2s/step - loss: 0.7294 - accuracy: 0.6193 - val_loss: 0.7405 - val_accuracy: 0.6071\n",
      "Epoch 63/100\n",
      "11/11 [==============================] - 19s 2s/step - loss: 0.7355 - accuracy: 0.6035 - val_loss: 0.7408 - val_accuracy: 0.5935\n",
      "Epoch 64/100\n",
      "11/11 [==============================] - 19s 2s/step - loss: 0.7417 - accuracy: 0.5966 - val_loss: 0.7433 - val_accuracy: 0.6139\n",
      "Epoch 65/100\n",
      "11/11 [==============================] - 19s 2s/step - loss: 0.7412 - accuracy: 0.6128 - val_loss: 0.7445 - val_accuracy: 0.6147\n",
      "Epoch 66/100\n",
      "11/11 [==============================] - 19s 2s/step - loss: 0.7450 - accuracy: 0.6091 - val_loss: 0.7369 - val_accuracy: 0.6033\n",
      "Epoch 67/100\n",
      "11/11 [==============================] - 19s 2s/step - loss: 0.7352 - accuracy: 0.6170 - val_loss: 0.7372 - val_accuracy: 0.6298\n",
      "Epoch 68/100\n",
      "11/11 [==============================] - 19s 2s/step - loss: 0.7306 - accuracy: 0.6210 - val_loss: 0.7461 - val_accuracy: 0.6185\n",
      "Epoch 69/100\n",
      "11/11 [==============================] - 19s 2s/step - loss: 0.7398 - accuracy: 0.6137 - val_loss: 0.7393 - val_accuracy: 0.6064\n",
      "Epoch 70/100\n",
      "11/11 [==============================] - 19s 2s/step - loss: 0.7269 - accuracy: 0.6194 - val_loss: 0.7393 - val_accuracy: 0.6268\n",
      "Epoch 71/100\n",
      "11/11 [==============================] - 19s 2s/step - loss: 0.7358 - accuracy: 0.6279 - val_loss: 0.7383 - val_accuracy: 0.6253\n",
      "Epoch 72/100\n",
      "11/11 [==============================] - 19s 2s/step - loss: 0.7279 - accuracy: 0.6237 - val_loss: 0.7367 - val_accuracy: 0.6366\n",
      "Epoch 73/100\n",
      "11/11 [==============================] - 19s 2s/step - loss: 0.7373 - accuracy: 0.6338 - val_loss: 0.7378 - val_accuracy: 0.5958\n",
      "Epoch 74/100\n",
      "11/11 [==============================] - 19s 2s/step - loss: 0.7344 - accuracy: 0.6156 - val_loss: 0.7337 - val_accuracy: 0.6389\n",
      "Epoch 75/100\n",
      "11/11 [==============================] - 19s 2s/step - loss: 0.7356 - accuracy: 0.6329 - val_loss: 0.7349 - val_accuracy: 0.6397\n",
      "Epoch 76/100\n",
      "11/11 [==============================] - 19s 2s/step - loss: 0.7225 - accuracy: 0.6414 - val_loss: 0.7361 - val_accuracy: 0.6374\n",
      "Epoch 77/100\n",
      "11/11 [==============================] - 19s 2s/step - loss: 0.7241 - accuracy: 0.6339 - val_loss: 0.7363 - val_accuracy: 0.6329\n",
      "Epoch 78/100\n",
      "11/11 [==============================] - 19s 2s/step - loss: 0.7298 - accuracy: 0.6329 - val_loss: 0.7327 - val_accuracy: 0.6450\n",
      "Epoch 79/100\n",
      "11/11 [==============================] - 19s 2s/step - loss: 0.7157 - accuracy: 0.6504 - val_loss: 0.7335 - val_accuracy: 0.6283\n",
      "Epoch 80/100\n",
      "11/11 [==============================] - 17s 2s/step - loss: 0.7341 - accuracy: 0.6354 - val_loss: 0.7467 - val_accuracy: 0.6192\n",
      "Epoch 81/100\n",
      "11/11 [==============================] - 17s 2s/step - loss: 0.7229 - accuracy: 0.6349 - val_loss: 0.7226 - val_accuracy: 0.6518\n",
      "Epoch 82/100\n",
      "11/11 [==============================] - 17s 2s/step - loss: 0.7246 - accuracy: 0.6420 - val_loss: 0.7222 - val_accuracy: 0.6472\n",
      "Epoch 83/100\n",
      "11/11 [==============================] - 17s 2s/step - loss: 0.7189 - accuracy: 0.6450 - val_loss: 0.7344 - val_accuracy: 0.6313\n",
      "Epoch 84/100\n",
      "11/11 [==============================] - 18s 2s/step - loss: 0.7135 - accuracy: 0.6473 - val_loss: 0.7232 - val_accuracy: 0.6321\n",
      "Epoch 85/100\n",
      "11/11 [==============================] - 18s 2s/step - loss: 0.7270 - accuracy: 0.6351 - val_loss: 0.7255 - val_accuracy: 0.6397\n",
      "Epoch 86/100\n",
      "11/11 [==============================] - 19s 2s/step - loss: 0.7091 - accuracy: 0.6536 - val_loss: 0.7270 - val_accuracy: 0.6419\n",
      "Epoch 87/100\n",
      "11/11 [==============================] - 17s 2s/step - loss: 0.7179 - accuracy: 0.6467 - val_loss: 0.7159 - val_accuracy: 0.6419\n",
      "Epoch 88/100\n",
      "11/11 [==============================] - 17s 2s/step - loss: 0.7133 - accuracy: 0.6493 - val_loss: 0.7192 - val_accuracy: 0.6503\n",
      "Epoch 89/100\n",
      "11/11 [==============================] - 17s 2s/step - loss: 0.7155 - accuracy: 0.6499 - val_loss: 0.7232 - val_accuracy: 0.6382\n",
      "Epoch 90/100\n",
      "11/11 [==============================] - 17s 2s/step - loss: 0.7092 - accuracy: 0.6534 - val_loss: 0.7196 - val_accuracy: 0.6389\n",
      "Epoch 91/100\n",
      "11/11 [==============================] - 17s 2s/step - loss: 0.7125 - accuracy: 0.6501 - val_loss: 0.7161 - val_accuracy: 0.6435\n",
      "Epoch 92/100\n",
      "11/11 [==============================] - 17s 2s/step - loss: 0.7103 - accuracy: 0.6561 - val_loss: 0.7260 - val_accuracy: 0.6412\n",
      "Epoch 93/100\n",
      "11/11 [==============================] - 17s 2s/step - loss: 0.7166 - accuracy: 0.6538 - val_loss: 0.7247 - val_accuracy: 0.6404\n",
      "Epoch 94/100\n",
      "11/11 [==============================] - 18s 2s/step - loss: 0.7054 - accuracy: 0.6501 - val_loss: 0.7111 - val_accuracy: 0.6540\n",
      "Epoch 95/100\n",
      "11/11 [==============================] - 20s 2s/step - loss: 0.7117 - accuracy: 0.6473 - val_loss: 0.7203 - val_accuracy: 0.6533\n",
      "Epoch 96/100\n",
      "11/11 [==============================] - 22s 2s/step - loss: 0.7171 - accuracy: 0.6444 - val_loss: 0.7241 - val_accuracy: 0.6419\n",
      "Epoch 97/100\n",
      "11/11 [==============================] - 19s 2s/step - loss: 0.7110 - accuracy: 0.6504 - val_loss: 0.7173 - val_accuracy: 0.6472\n",
      "Epoch 98/100\n",
      "11/11 [==============================] - 20s 2s/step - loss: 0.7084 - accuracy: 0.6468 - val_loss: 0.7266 - val_accuracy: 0.6389\n",
      "Epoch 99/100\n",
      "11/11 [==============================] - 19s 2s/step - loss: 0.6987 - accuracy: 0.6574 - val_loss: 0.7175 - val_accuracy: 0.6465\n",
      "Epoch 100/100\n",
      "11/11 [==============================] - 19s 2s/step - loss: 0.6989 - accuracy: 0.6624 - val_loss: 0.7184 - val_accuracy: 0.6450\n"
     ]
    }
   ],
   "source": [
    "deep_model_lstm = Sequential()\n",
    "deep_model_lstm.add(LSTM(units = 200, return_sequences = True, input_shape = (train_x.shape[1], 1)))\n",
    "deep_model_lstm.add(Dropout(0.2))\n",
    "deep_model_lstm.add(LSTM(units = 200, return_sequences = False))\n",
    "deep_model_lstm.add(Dense(3, activation='softmax'))\n",
    "\n",
    "deep_model_lstm.compile(optimizer='Adam', loss='sparse_categorical_crossentropy', metrics=['accuracy'])\n",
    "start_time = time.time()\n",
    "history_lstm = deep_model_lstm.fit(train_x, train_y, epochs=100,validation_data=(valid_x,valid_y),batch_size=1000)\n",
    "elapsed_time = time.time() - start_time"
   ]
  },
  {
   "cell_type": "code",
   "execution_count": 80,
   "metadata": {},
   "outputs": [
    {
     "name": "stdout",
     "output_type": "stream",
     "text": [
      "Time taken for the training (in seconds): 1890.8388817310333\n"
     ]
    }
   ],
   "source": [
    "print(\"Time taken for the training (in seconds): {}\".format(elapsed_time))"
   ]
  },
  {
   "cell_type": "code",
   "execution_count": 81,
   "metadata": {},
   "outputs": [
    {
     "name": "stdout",
     "output_type": "stream",
     "text": [
      "93/93 [==============================] - 4s 27ms/step - loss: 0.7121 - accuracy: 0.6491\n"
     ]
    }
   ],
   "source": [
    "start_time = time.time()\n",
    "test_loss, test_accuracy = deep_model_lstm.evaluate(x_test, y_test)\n",
    "elapsed_time = time.time() - start_time"
   ]
  },
  {
   "cell_type": "code",
   "execution_count": 82,
   "metadata": {},
   "outputs": [
    {
     "name": "stdout",
     "output_type": "stream",
     "text": [
      "Time taken for the testing (in seconds): 4.206311225891113\n"
     ]
    }
   ],
   "source": [
    "print(\"Time taken for the testing (in seconds): {}\".format(elapsed_time))"
   ]
  },
  {
   "cell_type": "code",
   "execution_count": 83,
   "metadata": {
    "scrolled": true
   },
   "outputs": [
    {
     "data": {
      "image/png": "[encoded data removed]",
      "text/plain": [
       "<Figure size 432x288 with 1 Axes>"
      ]
     },
     "metadata": {
      "needs_background": "light"
     },
     "output_type": "display_data"
    }
   ],
   "source": [
    "pyplot.plot(history_lstm.history['loss'])\n",
    "pyplot.plot(history_lstm.history['val_loss'])\n",
    "pyplot.title(\"Loss\")\n",
    "pyplot.ylabel(\"loss\")\n",
    "pyplot.xlabel(\"epoch\")\n",
    "pyplot.legend(['train', 'val'], loc='upper right')\n",
    "pyplot.show()"
   ]
  },
  {
   "cell_type": "code",
   "execution_count": 84,
   "metadata": {},
   "outputs": [
    {
     "name": "stdout",
     "output_type": "stream",
     "text": [
      "Model: \"sequential_7\"\n",
      "_________________________________________________________________\n",
      "Layer (type)                 Output Shape              Param #   \n",
      "=================================================================\n",
      "lstm_2 (LSTM)                (None, 51, 200)           161600    \n",
      "_________________________________________________________________\n",
      "dropout_1 (Dropout)          (None, 51, 200)           0         \n",
      "_________________________________________________________________\n",
      "lstm_3 (LSTM)                (None, 200)               320800    \n",
      "_________________________________________________________________\n",
      "dense_25 (Dense)             (None, 3)                 603       \n",
      "=================================================================\n",
      "Total params: 483,003\n",
      "Trainable params: 483,003\n",
      "Non-trainable params: 0\n",
      "_________________________________________________________________\n"
     ]
    }
   ],
   "source": [
    "deep_model_lstm.summary()"
   ]
  },
  {
   "cell_type": "markdown",
   "metadata": {},
   "source": [
    "##### Summary of LSTM implementation\n",
    "* We are using sequential API, a linear stack of layers. Each layer is added sequentially now on to this model.\n",
    "* A LSTM layer with 200 units (dimensionality of the output space) is added as first layer.\n",
    "* A dropout layer follows the LSTM layer, this will prevent the overfit.\n",
    "* Another LSTM layer has been added after the dropoyt layer.\n",
    "* A dense layer with a softmax function for the output has been added as the last layer which outputs three classes"
   ]
  },
  {
   "cell_type": "markdown",
   "metadata": {},
   "source": [
    "#### Final model details\n",
    "* A total of 4 implementations were tried, out of these third implementation which is a fully connected neural network has performed well compared to all other models.\n",
    "* LSTM in this case has not performed well with the chosen parameters compared to a fully connected neural net. \n",
    "* Proceeding with the FNN as the final model\n",
    "* It has a good fit over the dataset and the plots between loss vs epoch and accuracy vs epochs clearly shows the performance.\n",
    "* The training accuracy was 90.94% and test accuracy was 89.57%.\n",
    "* There is no overfit on the data (inferred from the graphs).\n",
    "* The architecture of the final model is plotted and discussed below."
   ]
  },
  {
   "cell_type": "markdown",
   "metadata": {},
   "source": [
    "### Model Architecture"
   ]
  },
  {
   "attachments": {
    "image-2.png": {
     "image/png": "[encoded data removed]"
    }
   },
   "cell_type": "markdown",
   "metadata": {},
   "source": [
    "![image-2.png](attachment:image-2.png)"
   ]
  },
  {
   "cell_type": "markdown",
   "metadata": {},
   "source": [
    "### Model Description\n",
    "\n",
    "* We are using sequential API, a linear stack of layers. Each layer is added sequentially now on to this model.\n",
    "* We have fully connected layers with activation function as \"Relu\", which are the building blocks of the DNN.\n",
    "* Regularization - L2 regularization is used to avoid overfitting\n",
    "\n",
    "* Our input is first passed over three dense layers and Then it is passed over regularization layer with l2 regularization( hyperparameter value 0.01).\n",
    "* Last output layer is a dense layer with softmax activation that classifies 3 categories of data in the given in COVID dataset."
   ]
  },
  {
   "cell_type": "markdown",
   "metadata": {},
   "source": [
    "### 1.2 [CM2] : Implementation Details"
   ]
  },
  {
   "cell_type": "markdown",
   "metadata": {},
   "source": [
    "* We first started with a basic architecture for a neural network and it has not performed that well. It has overfit the data at many points. Sigmoid function was used as the activation function and the train, validation loss vs epoch graph is not that smoother and has got spikes in between.\n",
    "\n",
    "* The second implementation had Relu as the activation function and this function seem to work universally better and the same can be seen from the loss graphs plotted above. Loss graphs are now smoother and there is overfit after 10 epochs. So still the architecture has to be modified and improved.\n",
    "\n",
    "\n",
    "* The third implementation also has Relu as the activation function in it's connected layers as this has performed well in second implementation. For reducing the overfit, \"Dropout\" technique was not used because a fully connected neural net was asked in the assignment and dropout would actually leave out neurons during the propagation. Hence, L2 regularization was used. Loss and accuracy plots seem to be good and it shows there is no overfit. \n",
    "\n",
    "* LSTM was also implemented but in our case, the third implementation produced better results and hence we are considering it.\n",
    "\n",
    "* The dataset is normalized using standard scalar and then is fed to neural networks.\n"
   ]
  },
  {
   "cell_type": "code",
   "execution_count": 85,
   "metadata": {},
   "outputs": [
    {
     "name": "stdout",
     "output_type": "stream",
     "text": [
      "Model: \"sequential_6\"\n",
      "_________________________________________________________________\n",
      "Layer (type)                 Output Shape              Param #   \n",
      "=================================================================\n",
      "dense_21 (Dense)             (None, 1000)              52000     \n",
      "_________________________________________________________________\n",
      "dense_22 (Dense)             (None, 500)               500500    \n",
      "_________________________________________________________________\n",
      "dense_23 (Dense)             (None, 300)               150300    \n",
      "_________________________________________________________________\n",
      "dense_24 (Dense)             (None, 3)                 903       \n",
      "=================================================================\n",
      "Total params: 703,703\n",
      "Trainable params: 703,703\n",
      "Non-trainable params: 0\n",
      "_________________________________________________________________\n"
     ]
    }
   ],
   "source": [
    "model_3.summary()"
   ]
  },
  {
   "cell_type": "markdown",
   "metadata": {},
   "source": [
    "* Above is the final architecture summary\n",
    "* It consists of sequential block over which 3 dense layers, with 1000,500,300 units are added  and all these are fully connected. Last layer is a output layer with softmax function that outputs three classes.\n",
    "\n",
    "model.add(Dense(300,activation='relu',kernel_regularizer=keras.regularizers.l2(0.01)))\n",
    "\n",
    "The above code block is critical to our model with regularization and this is the layer where most of the computation happen additionally compared to others because of the introduced extra parameter."
   ]
  },
  {
   "cell_type": "markdown",
   "metadata": {},
   "source": [
    "### 1.3 [CM3] : Results Analysis"
   ]
  },
  {
   "cell_type": "markdown",
   "metadata": {},
   "source": [
    "### Run time perfomance for tranining and testing\n",
    "\n",
    "##### The final model has been run without the GPU as it is a simple FNN.\n",
    "##### Time taken for training and testing are reported below\n",
    "\n",
    "|  | Trained on(samples) | Tested on(samples) | Training time(seconds) | Classification time(on test data)(seconds) |\n",
    "| :- | :- | :- | :- | :- |\n",
    "| Without GPU | 11,888 | 1486 | 30.88 | 0.097 |\n"
   ]
  },
  {
   "cell_type": "markdown",
   "metadata": {},
   "source": [
    "The above table clearly shows the number of sample the model trained on and number of models the model tested and time taken for train and classification.\n",
    "\n",
    "1. The time taken by our final DNN model for training is 30.88 sec. Whereas the time taken for the model to test (from the time input is fed to the time we obtain the model decision) is 0.097 sec\n",
    "\n",
    "2. The time taken by our DNN model without regularization and activation function as \"sigmoid\" for training is 30.19 sec. Whereas the time taken for the model to test (from the time input is fed to the time we obtain the model decision) is 0.11 sec\n",
    "\n",
    "3. The time taken by our DNN model without regularization and activation function as \"relu\" for training is 30.28 sec. Whereas the time taken for the model to test (from the time input is fed to the time we obtain the model decision) is 0.12 sec\n",
    "\n",
    "4. LSTM has taken 1890 secs for training."
   ]
  },
  {
   "cell_type": "markdown",
   "metadata": {},
   "source": [
    "Comparision of different deep learning algorithms and parameters was already mentioned in the above sections, but re-writing them here to answer [CM3]"
   ]
  },
  {
   "cell_type": "markdown",
   "metadata": {},
   "source": [
    "* We first started with a basic architecture for a neural network and it has not performed that well. It has overfit the data at many points. Sigmoid function was used as the activation function and the train, validation loss vs epoch graph is not that smoother and has got spikes in between.\n",
    "\n",
    "* The second implementation had Relu as the activation function and this function seem to work universally better and the same can be seen from the loss graphs plotted above. Loss graphs are now smoother and there is overfit after 10 epochs. So still the architecture has to be modified and improved.\n",
    "\n",
    "* The third implementation also has Relu as the activation function in it's connected layers as this has performed well in second implementation. For reducing the overfit, \"Dropout\" technique was not used because a fully connected neural net was asked in the assignment and dropout would actually leave out neurons during the propagation. Hence, L2 regularization was used. Loss and accuracy plots seem to be good and it shows there is no overfit. \n",
    "\n",
    "* LSTM was also implemented but in our case, the third implementation produced better results and hence we are considering it.\n",
    "\n",
    "\n",
    "* We tried with different optimizers like Adam, SGD and Stochastic Gradient Descent helped the model to better generalize the data and prevented overfit.\n",
    "* Activation functions like Relu, sigmoid were also tried and Relu gave better results.\n",
    "\n",
    "* We modified number of epochs also and have chosen 20 as optimal one so as to not let the model overfit the data.\n",
    "\n",
    "* Different batch_sizes were also tried and the size 32 seem to give better accuracy."
   ]
  },
  {
   "cell_type": "markdown",
   "metadata": {},
   "source": [
    "##### Plots to analyze the model better"
   ]
  },
  {
   "cell_type": "markdown",
   "metadata": {},
   "source": [
    "* Training epochs vs Loss"
   ]
  },
  {
   "cell_type": "code",
   "execution_count": 86,
   "metadata": {},
   "outputs": [
    {
     "data": {
      "image/png": "[encoded data removed]",
      "text/plain": [
       "<Figure size 432x288 with 1 Axes>"
      ]
     },
     "metadata": {
      "needs_background": "light"
     },
     "output_type": "display_data"
    }
   ],
   "source": [
    "pyplot.plot(model_3_obj.history['loss'])\n",
    "pyplot.plot(model_3_obj.history['val_loss'])\n",
    "pyplot.title(\"Loss\")\n",
    "pyplot.ylabel(\"loss\")\n",
    "pyplot.xlabel(\"epoch\")\n",
    "pyplot.legend(['train', 'val'], loc='upper right')\n",
    "pyplot.show()"
   ]
  },
  {
   "cell_type": "markdown",
   "metadata": {},
   "source": [
    "* Classification accuracy vs Loss"
   ]
  },
  {
   "cell_type": "code",
   "execution_count": 87,
   "metadata": {},
   "outputs": [
    {
     "data": {
      "image/png": "[encoded data removed]",
      "text/plain": [
       "<Figure size 432x288 with 1 Axes>"
      ]
     },
     "metadata": {
      "needs_background": "light"
     },
     "output_type": "display_data"
    }
   ],
   "source": [
    "pyplot.plot(model_3_obj.history['accuracy'])\n",
    "pyplot.plot(model_3_obj.history['loss'])\n",
    "pyplot.title(\"Accuracy Vs Loss - (Train Data)\")\n",
    "pyplot.ylabel(\"accuracy\")\n",
    "pyplot.xlabel(\"loss\")\n",
    "pyplot.legend(['accuracy', 'loss'], loc='upper right')\n",
    "pyplot.show()"
   ]
  },
  {
   "cell_type": "code",
   "execution_count": 88,
   "metadata": {},
   "outputs": [
    {
     "data": {
      "image/png": "[encoded data removed]",
      "text/plain": [
       "<Figure size 432x288 with 1 Axes>"
      ]
     },
     "metadata": {
      "needs_background": "light"
     },
     "output_type": "display_data"
    }
   ],
   "source": [
    "pyplot.plot(model_3_obj.history['val_accuracy'])\n",
    "pyplot.plot(model_3_obj.history['val_loss'])\n",
    "pyplot.title(\"Accuracy Vs Loss - (Validation Data)+\")\n",
    "pyplot.ylabel(\"Val accuracy\")\n",
    "pyplot.xlabel(\"Val loss\")\n",
    "pyplot.legend(['accuracy', 'loss'], loc='upper right')\n",
    "pyplot.show()"
   ]
  },
  {
   "cell_type": "markdown",
   "metadata": {},
   "source": [
    "From the Epochs vs Loss plot, one can notice that the loss reduced as number of epochs increased and there is clearly no overfit. Various methods like regularization, change in optimizers, optimal number of hidden layers, epochs helped in reducing the overfit.\n",
    "\n",
    "Accuracy vs Loss plot on validation data shows that the model performed well (started from 60% and increased to 91%).\n",
    "\n",
    "The model on test data gave an classification accuracy of 89.57%"
   ]
  },
  {
   "cell_type": "code",
   "execution_count": 97,
   "metadata": {
    "scrolled": true
   },
   "outputs": [
    {
     "name": "stdout",
     "output_type": "stream",
     "text": [
      "[[  0   1   2]\n",
      " [501 490 495]]\n"
     ]
    }
   ],
   "source": [
    "import seaborn as sns\n",
    "from sklearn.metrics import confusion_matrix\n",
    "def plot_confusion_matrix(model, X, y):\n",
    "    y_pred = model.predict_classes(X, verbose=0)\n",
    "    pyplot.figure(figsize=(8, 6))\n",
    "    sns.heatmap(pd.DataFrame(confusion_matrix(y, y_pred)), annot=True, fmt='d', cmap='YlGnBu', alpha=0.8, vmin=0)\n",
    "\n",
    "rounded_labels=np.argmax(test_y, axis=1)\n",
    "(unique, counts) = np.unique(rounded_labels, return_counts=True)\n",
    "frequencies = np.asarray((unique, counts))\n",
    "print(frequencies)\n"
   ]
  },
  {
   "cell_type": "code",
   "execution_count": 98,
   "metadata": {},
   "outputs": [
    {
     "data": {
      "image/png": "[encoded data removed]",
      "text/plain": [
       "<Figure size 576x432 with 2 Axes>"
      ]
     },
     "metadata": {
      "needs_background": "light"
     },
     "output_type": "display_data"
    }
   ],
   "source": [
    "plot_confusion_matrix(model_3, test_x, rounded_labels)"
   ]
  },
  {
   "cell_type": "markdown",
   "metadata": {},
   "source": [
    "##### Analyzing the confusion matrix\n",
    "* The final model was able to identify 446 Fatal cases correctly. Only 10% of the samples were wrongly identified. \n",
    "* Out of 490 samples which have target 1 (Not Resolved), 461 were correctly identified which means only 5.9% of samples were wrongly classified.\n",
    "* ALso, total samples of target as 2 are 495 and out of these 495, 424 were correctly identified. Which means 15% are wrongly identified.\n",
    "\n",
    "* This clearly shows that our model identifies the targets well and the error percentage is less than 15%."
   ]
  },
  {
   "cell_type": "markdown",
   "metadata": {},
   "source": [
    "#### 1.4: Kaggle Competition Score"
   ]
  },
  {
   "cell_type": "markdown",
   "metadata": {},
   "source": [
    "##### Participated on Kaggle and have submitted the predictions too. Please refer to Asg4-Grp 4 on Kaggle and also the corresponding python notebook was uploaded on Learn for reference."
   ]
  },
  {
   "cell_type": "markdown",
   "metadata": {},
   "source": [
    "#### Blogs, websites referred"
   ]
  },
  {
   "cell_type": "markdown",
   "metadata": {},
   "source": [
    "https://www.analyticsvidhya.com/blog/2018/04/fundamentals-deep-learning-regularization-techniques/\n",
    "\n",
    "https://www.kdnuggets.com/2018/11/keras-long-short-term-memory-lstm-model-predict-stock-prices.html\n",
    "\n",
    "https://towardsdatascience.com/neural-network-optimization-7ca72d4db3e0\n",
    "\n",
    "https://www.kaggle.com/allen-institute-for-ai/CORD-19-research-challenge/code\n",
    "\n",
    "https://www.kaggle.com/louisong97/neural-network-approach-to-iris-dataset\n",
    "\n"
   ]
  }
 ],
 "metadata": {
  "kernelspec": {
   "display_name": "Python 3",
   "language": "python",
   "name": "python3"
  },
  "language_info": {
   "codemirror_mode": {
    "name": "ipython",
    "version": 3
   },
   "file_extension": ".py",
   "mimetype": "text/x-python",
   "name": "python",
   "nbconvert_exporter": "python",
   "pygments_lexer": "ipython3",
   "version": "3.8.5"
  }
 },
 "nbformat": 4,
 "nbformat_minor": 4
}
