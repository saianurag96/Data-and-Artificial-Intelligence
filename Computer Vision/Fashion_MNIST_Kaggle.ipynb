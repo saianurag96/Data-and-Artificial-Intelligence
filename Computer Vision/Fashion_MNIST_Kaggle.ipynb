{
 "cells": [
  {
   "cell_type": "code",
   "execution_count": 1,
   "metadata": {},
   "outputs": [],
   "source": [
    "import numpy as np\n",
    "import pandas as pd\n",
    "from matplotlib import pyplot\n",
    "from sklearn.model_selection import train_test_split"
   ]
  },
  {
   "cell_type": "code",
   "execution_count": 2,
   "metadata": {},
   "outputs": [],
   "source": [
    "import tensorflow as tf\n",
    "from tensorflow import keras\n",
    "from tensorflow.keras import layers, models\n",
    "from tensorflow.keras.models import load_model"
   ]
  },
  {
   "cell_type": "code",
   "execution_count": 3,
   "metadata": {},
   "outputs": [
    {
     "data": {
      "text/plain": [
       "0"
      ]
     },
     "execution_count": 3,
     "metadata": {},
     "output_type": "execute_result"
    }
   ],
   "source": [
    "len(tf.config.experimental.list_physical_devices('GPU'))"
   ]
  },
  {
   "cell_type": "code",
   "execution_count": 4,
   "metadata": {},
   "outputs": [
    {
     "data": {
      "text/plain": [
       "True"
      ]
     },
     "execution_count": 4,
     "metadata": {},
     "output_type": "execute_result"
    }
   ],
   "source": [
    "tf.test.is_built_with_cuda()"
   ]
  },
  {
   "cell_type": "code",
   "execution_count": 5,
   "metadata": {},
   "outputs": [],
   "source": [
    "from numpy.random import seed\n",
    "seed(1)\n",
    "tf.random.set_seed(2)"
   ]
  },
  {
   "cell_type": "code",
   "execution_count": 6,
   "metadata": {},
   "outputs": [
    {
     "name": "stdout",
     "output_type": "stream",
     "text": [
      "(60000, 28, 28)\n",
      "(60000,)\n"
     ]
    }
   ],
   "source": [
    "data=np.load('fashion_mnist_dataset_train.npy',allow_pickle=True)\n",
    "data_as_list=data.tolist()\n",
    "data_features=data_as_list['features']\n",
    "data_target=data_as_list['target']\n",
    "\n",
    "print(data_features.shape)\n",
    "print(data_target.shape)"
   ]
  },
  {
   "cell_type": "code",
   "execution_count": 7,
   "metadata": {},
   "outputs": [
    {
     "data": {
      "text/plain": [
       "array([1, 2, 3, 4, 5])"
      ]
     },
     "execution_count": 7,
     "metadata": {},
     "output_type": "execute_result"
    }
   ],
   "source": [
    "data_target=data_target.astype(int)\n",
    "np.unique(data_target)"
   ]
  },
  {
   "cell_type": "code",
   "execution_count": 8,
   "metadata": {},
   "outputs": [],
   "source": [
    "data_features = data_features.reshape((60000, 28, 28, 1))"
   ]
  },
  {
   "cell_type": "code",
   "execution_count": 9,
   "metadata": {},
   "outputs": [],
   "source": [
    "data_target_new=data_target-1"
   ]
  },
  {
   "cell_type": "code",
   "execution_count": 10,
   "metadata": {},
   "outputs": [],
   "source": [
    "train_valid_x, test_x, train_valid_y, test_y = train_test_split(data_features, data_target_new, test_size=0.1, random_state=275)\n",
    "train_x,valid_x,train_y,valid_y=train_test_split(train_valid_x, train_valid_y, test_size=0.1111, random_state=275)"
   ]
  },
  {
   "cell_type": "code",
   "execution_count": 11,
   "metadata": {},
   "outputs": [
    {
     "data": {
      "text/plain": [
       "((6000, 28, 28, 1), (48000, 28, 28, 1), (6000, 28, 28, 1))"
      ]
     },
     "execution_count": 11,
     "metadata": {},
     "output_type": "execute_result"
    }
   ],
   "source": [
    "valid_x.shape,train_x.shape,test_x.shape"
   ]
  },
  {
   "cell_type": "code",
   "execution_count": 12,
   "metadata": {},
   "outputs": [],
   "source": [
    "#Creating convolutional layers\n",
    "conv1 = layers.Conv2D(32, (3,3), activation='relu', input_shape=(28,28,1) )\n",
    "conv2 = layers.Conv2D(64, (3,3), activation='relu')\n",
    "conv3 = layers.Conv2D(128, (3,3), activation='relu')\n",
    "\n",
    "#Creating Max Pooling Layers\n",
    "max_pool_1 = layers.MaxPooling2D((2,2))\n",
    "max_pool_2 = layers.MaxPooling2D((2,2))\n",
    "max_pool_3 = layers.MaxPooling2D((2,2))\n",
    "\n",
    "flat_layer = layers.Flatten()\n",
    "\n",
    "#Creating dense layers\n",
    "fc = layers.Dense(128, activation='relu')\n",
    "output = layers.Dense(5, 'softmax')\n",
    "drop_1 = layers.Dropout(0.5)\n",
    "drop_2 = layers.Dropout(0.5)\n",
    "drop_3 = layers.Dropout(0.5)"
   ]
  },
  {
   "cell_type": "code",
   "execution_count": 13,
   "metadata": {},
   "outputs": [],
   "source": [
    "new_model_3 = models.Sequential()\n",
    "\n",
    "new_conv1 = layers.Conv2D(32, (3,3),padding='same', activation='relu', input_shape=(28,28,1) )\n",
    "new_conv2 = layers.Conv2D(64, (3,3),padding='same', activation='relu')\n",
    "new_conv3 = layers.Conv2D(128, (3,3),padding='same', activation='relu')\n",
    "\n",
    "new_model_3.add(new_conv1)\n",
    "new_model_3.add(max_pool_1)\n",
    "new_model_3.add(new_conv2)\n",
    "new_model_3.add(max_pool_2)\n",
    "#new_model.add(drop_2)\n",
    "new_model_3.add(new_conv3)\n",
    "new_model_3.add(max_pool_3)\n",
    "new_model_3.add(drop_3)\n",
    "new_model_3.add(flat_layer)\n",
    "new_model_3.add(layers.Dense(128, activation='relu'))\n",
    "new_model_3.add(layers.Dense(5, 'softmax'))"
   ]
  },
  {
   "cell_type": "code",
   "execution_count": 14,
   "metadata": {},
   "outputs": [],
   "source": [
    "new_model_3.compile(optimizer='SGD',\n",
    "              loss='sparse_categorical_crossentropy',\n",
    "              metrics=['accuracy'])"
   ]
  },
  {
   "cell_type": "code",
   "execution_count": 15,
   "metadata": {},
   "outputs": [
    {
     "name": "stdout",
     "output_type": "stream",
     "text": [
      "Epoch 1/30\n",
      "1500/1500 [==============================] - 27s 18ms/step - loss: 1.1713 - accuracy: 0.5097 - val_loss: 0.6676 - val_accuracy: 0.7233\n",
      "Epoch 2/30\n",
      "1500/1500 [==============================] - 26s 17ms/step - loss: 0.7283 - accuracy: 0.6982 - val_loss: 0.5684 - val_accuracy: 0.7753\n",
      "Epoch 3/30\n",
      "1500/1500 [==============================] - 28s 19ms/step - loss: 0.6325 - accuracy: 0.7442 - val_loss: 0.5058 - val_accuracy: 0.7918\n",
      "Epoch 4/30\n",
      "1500/1500 [==============================] - 25s 17ms/step - loss: 0.5582 - accuracy: 0.7736 - val_loss: 0.4365 - val_accuracy: 0.8353\n",
      "Epoch 5/30\n",
      "1500/1500 [==============================] - 26s 17ms/step - loss: 0.5035 - accuracy: 0.7953 - val_loss: 0.4127 - val_accuracy: 0.8330\n",
      "Epoch 6/30\n",
      "1500/1500 [==============================] - 25s 17ms/step - loss: 0.4666 - accuracy: 0.8146 - val_loss: 0.3704 - val_accuracy: 0.8602\n",
      "Epoch 7/30\n",
      "1500/1500 [==============================] - 26s 17ms/step - loss: 0.4253 - accuracy: 0.8275 - val_loss: 0.3590 - val_accuracy: 0.8537\n",
      "Epoch 8/30\n",
      "1500/1500 [==============================] - 26s 17ms/step - loss: 0.4167 - accuracy: 0.8339 - val_loss: 0.3475 - val_accuracy: 0.8675\n",
      "Epoch 9/30\n",
      "1500/1500 [==============================] - 27s 18ms/step - loss: 0.3992 - accuracy: 0.8384 - val_loss: 0.3278 - val_accuracy: 0.8717\n",
      "Epoch 10/30\n",
      "1500/1500 [==============================] - 27s 18ms/step - loss: 0.3854 - accuracy: 0.8476 - val_loss: 0.3130 - val_accuracy: 0.8780\n",
      "Epoch 11/30\n",
      "1500/1500 [==============================] - 27s 18ms/step - loss: 0.3732 - accuracy: 0.8485 - val_loss: 0.3287 - val_accuracy: 0.8702\n",
      "Epoch 12/30\n",
      "1500/1500 [==============================] - 27s 18ms/step - loss: 0.3650 - accuracy: 0.8540 - val_loss: 0.2918 - val_accuracy: 0.8883\n",
      "Epoch 13/30\n",
      "1500/1500 [==============================] - 27s 18ms/step - loss: 0.3494 - accuracy: 0.8599 - val_loss: 0.2816 - val_accuracy: 0.8905\n",
      "Epoch 14/30\n",
      "1500/1500 [==============================] - 27s 18ms/step - loss: 0.3471 - accuracy: 0.8610 - val_loss: 0.3000 - val_accuracy: 0.8790\n",
      "Epoch 15/30\n",
      "1500/1500 [==============================] - 28s 18ms/step - loss: 0.3334 - accuracy: 0.8645 - val_loss: 0.2863 - val_accuracy: 0.8898\n",
      "Epoch 16/30\n",
      "1500/1500 [==============================] - 27s 18ms/step - loss: 0.3315 - accuracy: 0.8710 - val_loss: 0.2946 - val_accuracy: 0.8847\n",
      "Epoch 17/30\n",
      "1500/1500 [==============================] - 27s 18ms/step - loss: 0.3295 - accuracy: 0.8661 - val_loss: 0.2650 - val_accuracy: 0.8997\n",
      "Epoch 18/30\n",
      "1500/1500 [==============================] - 28s 18ms/step - loss: 0.3141 - accuracy: 0.8748 - val_loss: 0.2632 - val_accuracy: 0.8985\n",
      "Epoch 19/30\n",
      "1500/1500 [==============================] - 27s 18ms/step - loss: 0.3134 - accuracy: 0.8766 - val_loss: 0.2785 - val_accuracy: 0.8880\n",
      "Epoch 20/30\n",
      "1500/1500 [==============================] - 27s 18ms/step - loss: 0.3049 - accuracy: 0.8790 - val_loss: 0.3067 - val_accuracy: 0.8713\n",
      "Epoch 21/30\n",
      "1500/1500 [==============================] - 28s 18ms/step - loss: 0.3028 - accuracy: 0.8789 - val_loss: 0.2501 - val_accuracy: 0.9052\n",
      "Epoch 22/30\n",
      "1500/1500 [==============================] - 28s 19ms/step - loss: 0.2958 - accuracy: 0.8811 - val_loss: 0.2487 - val_accuracy: 0.9057\n",
      "Epoch 23/30\n",
      "1500/1500 [==============================] - 28s 19ms/step - loss: 0.3002 - accuracy: 0.8798 - val_loss: 0.2480 - val_accuracy: 0.9062\n",
      "Epoch 24/30\n",
      "1500/1500 [==============================] - 28s 18ms/step - loss: 0.2852 - accuracy: 0.8885 - val_loss: 0.2411 - val_accuracy: 0.9055\n",
      "Epoch 25/30\n",
      "1500/1500 [==============================] - 28s 18ms/step - loss: 0.2878 - accuracy: 0.8839 - val_loss: 0.2490 - val_accuracy: 0.9013\n",
      "Epoch 26/30\n",
      "1500/1500 [==============================] - 28s 18ms/step - loss: 0.2772 - accuracy: 0.8902 - val_loss: 0.2372 - val_accuracy: 0.9092\n",
      "Epoch 27/30\n",
      "1500/1500 [==============================] - 28s 19ms/step - loss: 0.2787 - accuracy: 0.8892 - val_loss: 0.2335 - val_accuracy: 0.9105\n",
      "Epoch 28/30\n",
      "1500/1500 [==============================] - 27s 18ms/step - loss: 0.2749 - accuracy: 0.8894 - val_loss: 0.2375 - val_accuracy: 0.9090\n",
      "Epoch 29/30\n",
      "1500/1500 [==============================] - 28s 18ms/step - loss: 0.2740 - accuracy: 0.8913 - val_loss: 0.2745 - val_accuracy: 0.8840\n",
      "Epoch 30/30\n",
      "1500/1500 [==============================] - 26s 17ms/step - loss: 0.2688 - accuracy: 0.8918 - val_loss: 0.2372 - val_accuracy: 0.9062\n"
     ]
    }
   ],
   "source": [
    "new_model_3_obj=new_model_3.fit(train_valid_x, train_valid_y, epochs=30, shuffle=True, validation_split=0.1111)"
   ]
  },
  {
   "cell_type": "code",
   "execution_count": 16,
   "metadata": {},
   "outputs": [
    {
     "name": "stdout",
     "output_type": "stream",
     "text": [
      "188/188 [==============================] - 1s 5ms/step - loss: 0.2390 - accuracy: 0.9077\n"
     ]
    }
   ],
   "source": [
    "test_loss, test_accuracy = new_model_3.evaluate(test_x, test_y)"
   ]
  },
  {
   "cell_type": "code",
   "execution_count": 17,
   "metadata": {},
   "outputs": [
    {
     "data": {
      "image/png": "[encoded data removed]",
      "text/plain": [
       "<Figure size 432x288 with 1 Axes>"
      ]
     },
     "metadata": {
      "needs_background": "light"
     },
     "output_type": "display_data"
    }
   ],
   "source": [
    "pyplot.plot(new_model_3_obj.history['loss'])\n",
    "pyplot.plot(new_model_3_obj.history['val_loss'])\n",
    "pyplot.title(\"Loss\")\n",
    "pyplot.ylabel(\"loss\")\n",
    "pyplot.xlabel(\"epoch\")\n",
    "pyplot.legend(['train', 'val'], loc='upper right')\n",
    "pyplot.show()"
   ]
  },
  {
   "cell_type": "code",
   "execution_count": 18,
   "metadata": {},
   "outputs": [
    {
     "data": {
      "image/png": "[encoded data removed]",
      "text/plain": [
       "<Figure size 432x288 with 1 Axes>"
      ]
     },
     "metadata": {
      "needs_background": "light"
     },
     "output_type": "display_data"
    }
   ],
   "source": [
    "pyplot.plot(new_model_3_obj.history['accuracy'])\n",
    "pyplot.plot(new_model_3_obj.history['val_accuracy'])\n",
    "pyplot.title(\"Accuracy\")\n",
    "pyplot.ylabel(\"accuracy\")\n",
    "pyplot.xlabel(\"epoch\")\n",
    "pyplot.legend(['train', 'val'], loc='lower right')\n",
    "pyplot.show()"
   ]
  },
  {
   "cell_type": "code",
   "execution_count": 19,
   "metadata": {},
   "outputs": [
    {
     "data": {
      "image/png": "[encoded data removed]",
      "text/plain": [
       "<Figure size 432x288 with 1 Axes>"
      ]
     },
     "metadata": {
      "needs_background": "light"
     },
     "output_type": "display_data"
    }
   ],
   "source": [
    "pyplot.plot(new_model_3_obj.history['accuracy'])\n",
    "pyplot.plot(new_model_3_obj.history['loss'])\n",
    "pyplot.title(\"Accuracy Vs Loss\")\n",
    "pyplot.ylabel(\"accuracy\")\n",
    "pyplot.xlabel(\"loss\")\n",
    "pyplot.legend(['accuracy', 'loss'], loc='lower right')\n",
    "pyplot.show()"
   ]
  },
  {
   "cell_type": "code",
   "execution_count": 20,
   "metadata": {},
   "outputs": [
    {
     "name": "stdout",
     "output_type": "stream",
     "text": [
      "(10000, 28, 28)\n",
      "(10000,)\n"
     ]
    }
   ],
   "source": [
    "data=np.load('fashion_mnist_test.npy',allow_pickle=True)\n",
    "data_as_list=data.tolist()\n",
    "data_features_test=data_as_list['features']\n",
    "data_id_test=data_as_list['id']\n",
    "print(data_features_test.shape)\n",
    "print(data_id_test.shape)"
   ]
  },
  {
   "cell_type": "code",
   "execution_count": 21,
   "metadata": {},
   "outputs": [],
   "source": [
    "data_features_test = data_features_test.reshape((10000, 28, 28, 1))"
   ]
  },
  {
   "cell_type": "code",
   "execution_count": 22,
   "metadata": {},
   "outputs": [
    {
     "name": "stderr",
     "output_type": "stream",
     "text": [
      "C:\\Users\\uttej\\anaconda3\\lib\\site-packages\\tensorflow\\python\\keras\\engine\\sequential.py:450: UserWarning: `model.predict_classes()` is deprecated and will be removed after 2021-01-01. Please use instead:* `np.argmax(model.predict(x), axis=-1)`,   if your model does multi-class classification   (e.g. if it uses a `softmax` last-layer activation).* `(model.predict(x) > 0.5).astype(\"int32\")`,   if your model does binary classification   (e.g. if it uses a `sigmoid` last-layer activation).\n",
      "  warnings.warn('`model.predict_classes()` is deprecated and '\n"
     ]
    }
   ],
   "source": [
    "test_lables_y = new_model_3.predict_classes(data_features_test)"
   ]
  },
  {
   "cell_type": "code",
   "execution_count": 23,
   "metadata": {},
   "outputs": [
    {
     "data": {
      "text/plain": [
       "array([4, 3, 2, ..., 4, 1, 4], dtype=int64)"
      ]
     },
     "execution_count": 23,
     "metadata": {},
     "output_type": "execute_result"
    }
   ],
   "source": [
    "test_lables_y=test_lables_y+1\n",
    "test_lables_y"
   ]
  },
  {
   "cell_type": "code",
   "execution_count": 24,
   "metadata": {},
   "outputs": [
    {
     "data": {
      "text/plain": [
       "array([1, 2, 3, 4, 5], dtype=int64)"
      ]
     },
     "execution_count": 24,
     "metadata": {},
     "output_type": "execute_result"
    }
   ],
   "source": [
    "np.unique(test_lables_y)"
   ]
  },
  {
   "cell_type": "code",
   "execution_count": 25,
   "metadata": {},
   "outputs": [
    {
     "data": {
      "text/html": [
       "<div>\n",
       "<style scoped>\n",
       "    .dataframe tbody tr th:only-of-type {\n",
       "        vertical-align: middle;\n",
       "    }\n",
       "\n",
       "    .dataframe tbody tr th {\n",
       "        vertical-align: top;\n",
       "    }\n",
       "\n",
       "    .dataframe thead th {\n",
       "        text-align: right;\n",
       "    }\n",
       "</style>\n",
       "<table border=\"1\" class=\"dataframe\">\n",
       "  <thead>\n",
       "    <tr style=\"text-align: right;\">\n",
       "      <th></th>\n",
       "      <th>id</th>\n",
       "      <th>target</th>\n",
       "    </tr>\n",
       "  </thead>\n",
       "  <tbody>\n",
       "    <tr>\n",
       "      <th>0</th>\n",
       "      <td>0</td>\n",
       "      <td>4</td>\n",
       "    </tr>\n",
       "    <tr>\n",
       "      <th>1</th>\n",
       "      <td>1</td>\n",
       "      <td>3</td>\n",
       "    </tr>\n",
       "    <tr>\n",
       "      <th>2</th>\n",
       "      <td>2</td>\n",
       "      <td>2</td>\n",
       "    </tr>\n",
       "    <tr>\n",
       "      <th>3</th>\n",
       "      <td>3</td>\n",
       "      <td>1</td>\n",
       "    </tr>\n",
       "    <tr>\n",
       "      <th>4</th>\n",
       "      <td>4</td>\n",
       "      <td>1</td>\n",
       "    </tr>\n",
       "    <tr>\n",
       "      <th>...</th>\n",
       "      <td>...</td>\n",
       "      <td>...</td>\n",
       "    </tr>\n",
       "    <tr>\n",
       "      <th>9995</th>\n",
       "      <td>9995</td>\n",
       "      <td>4</td>\n",
       "    </tr>\n",
       "    <tr>\n",
       "      <th>9996</th>\n",
       "      <td>9996</td>\n",
       "      <td>1</td>\n",
       "    </tr>\n",
       "    <tr>\n",
       "      <th>9997</th>\n",
       "      <td>9997</td>\n",
       "      <td>4</td>\n",
       "    </tr>\n",
       "    <tr>\n",
       "      <th>9998</th>\n",
       "      <td>9998</td>\n",
       "      <td>1</td>\n",
       "    </tr>\n",
       "    <tr>\n",
       "      <th>9999</th>\n",
       "      <td>9999</td>\n",
       "      <td>4</td>\n",
       "    </tr>\n",
       "  </tbody>\n",
       "</table>\n",
       "<p>10000 rows × 2 columns</p>\n",
       "</div>"
      ],
      "text/plain": [
       "        id  target\n",
       "0        0       4\n",
       "1        1       3\n",
       "2        2       2\n",
       "3        3       1\n",
       "4        4       1\n",
       "...    ...     ...\n",
       "9995  9995       4\n",
       "9996  9996       1\n",
       "9997  9997       4\n",
       "9998  9998       1\n",
       "9999  9999       4\n",
       "\n",
       "[10000 rows x 2 columns]"
      ]
     },
     "execution_count": 25,
     "metadata": {},
     "output_type": "execute_result"
    }
   ],
   "source": [
    "id_test =pd.DataFrame(data_id_test,columns=['id'])\n",
    "target =pd.DataFrame(test_lables_y,columns=['target'])\n",
    "y_final = pd.concat([id_test, target], axis=1)\n",
    "y_final"
   ]
  },
  {
   "cell_type": "code",
   "execution_count": 26,
   "metadata": {},
   "outputs": [
    {
     "data": {
      "text/plain": [
       "'C:\\\\Users\\\\uttej\\\\OneDrive - University of Waterloo\\\\Documents\\\\657A\\\\A4\\\\Fashion\\\\Final'"
      ]
     },
     "execution_count": 26,
     "metadata": {},
     "output_type": "execute_result"
    }
   ],
   "source": [
    "pwd"
   ]
  },
  {
   "cell_type": "code",
   "execution_count": 27,
   "metadata": {},
   "outputs": [],
   "source": [
    "y_final.to_csv(r'C:\\\\Users\\\\uttej\\\\OneDrive - University of Waterloo\\\\Documents\\\\657A\\\\A4\\\\Fashion\\\\4.12\\\\fashion_4_12.csv',index=False)"
   ]
  },
  {
   "cell_type": "code",
   "execution_count": null,
   "metadata": {},
   "outputs": [],
   "source": []
  }
 ],
 "metadata": {
  "kernelspec": {
   "display_name": "Python 3",
   "language": "python",
   "name": "python3"
  },
  "language_info": {
   "codemirror_mode": {
    "name": "ipython",
    "version": 3
   },
   "file_extension": ".py",
   "mimetype": "text/x-python",
   "name": "python",
   "nbconvert_exporter": "python",
   "pygments_lexer": "ipython3",
   "version": "3.8.5"
  }
 },
 "nbformat": 4,
 "nbformat_minor": 5
}
