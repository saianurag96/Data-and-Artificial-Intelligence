{
 "cells": [
  {
   "cell_type": "markdown",
   "metadata": {
    "id": "61cPV3XdpD0L"
   },
   "source": [
    "## Assignment 4 - Group 4"
   ]
  },
  {
   "cell_type": "markdown",
   "metadata": {
    "id": "0kbUFlh0Fjfa"
   },
   "source": [
    "#### Question 2: Classification : Convolutional Neural Networks\n"
   ]
  },
  {
   "cell_type": "markdown",
   "metadata": {
    "id": "bjans3W6pD0R"
   },
   "source": [
    "##### Importing the libraries"
   ]
  },
  {
   "cell_type": "code",
   "execution_count": 6,
   "metadata": {
    "colab": {
     "base_uri": "https://localhost:8080/"
    },
    "id": "ddzLZ59_pTv4",
    "outputId": "12bfd410-4ee3-42f9-816a-f7bc945788fe"
   },
   "outputs": [
    {
     "name": "stdout",
     "output_type": "stream",
     "text": [
      "Drive already mounted at /content/drive; to attempt to forcibly remount, call drive.mount(\"/content/drive\", force_remount=True).\n"
     ]
    }
   ],
   "source": [
    "from google.colab import drive\n",
    "drive.mount('/content/drive')"
   ]
  },
  {
   "cell_type": "code",
   "execution_count": 7,
   "metadata": {
    "id": "cXZKBHKepD0S"
   },
   "outputs": [],
   "source": [
    "import numpy as np\n",
    "import pandas as pd\n",
    "from matplotlib import pyplot\n",
    "from sklearn.model_selection import train_test_split\n",
    "\n",
    "import time\n",
    "import tensorflow as tf\n",
    "from tensorflow import keras\n",
    "from tensorflow.keras import layers, models\n",
    "from tensorflow.keras.models import load_model"
   ]
  },
  {
   "cell_type": "code",
   "execution_count": 8,
   "metadata": {
    "id": "pMzs315SpD0V"
   },
   "outputs": [],
   "source": [
    "#Setting the random seeds to control the randomness each time the model is run\n",
    "from numpy.random import seed\n",
    "seed(1)\n",
    "tf.random.set_seed(2)"
   ]
  },
  {
   "cell_type": "markdown",
   "metadata": {
    "id": "C4_B4uSoiQzL"
   },
   "source": [
    "### 2.1 [CM4] Design and Implementation of Model"
   ]
  },
  {
   "cell_type": "markdown",
   "metadata": {
    "id": "nb0nORjbpD0W"
   },
   "source": [
    "### Data Loading and Analysis"
   ]
  },
  {
   "cell_type": "code",
   "execution_count": 9,
   "metadata": {
    "colab": {
     "base_uri": "https://localhost:8080/"
    },
    "id": "FCXywiBUpD0W",
    "outputId": "74432bd4-ea0b-48cf-9ee6-ceb0fc4ab1db",
    "scrolled": true
   },
   "outputs": [
    {
     "name": "stdout",
     "output_type": "stream",
     "text": [
      "(60000, 28, 28)\n",
      "(60000,)\n"
     ]
    }
   ],
   "source": [
    "data=np.load('/content/drive/MyDrive/Colab/fashion_mnist_dataset_train.npy',allow_pickle=True)\n",
    "data_as_list=data.tolist()\n",
    "data_features=data_as_list['features']\n",
    "data_target=data_as_list['target']\n",
    "\n",
    "print(data_features.shape)\n",
    "print(data_target.shape)"
   ]
  },
  {
   "cell_type": "markdown",
   "metadata": {
    "id": "Y515YbZpiE5b"
   },
   "source": [
    "The dataset consists of 60,000 images and each image has 784 features. Each image consists of 28x28 pixels."
   ]
  },
  {
   "cell_type": "code",
   "execution_count": 10,
   "metadata": {
    "colab": {
     "base_uri": "https://localhost:8080/"
    },
    "id": "kgkjCx2cpD0W",
    "outputId": "3fed2dcf-c8dd-4df7-f6bf-ce1b94fffe53"
   },
   "outputs": [
    {
     "data": {
      "text/plain": [
       "array([5., 2., 1., ..., 3., 1., 4.])"
      ]
     },
     "execution_count": 10,
     "metadata": {
      "tags": []
     },
     "output_type": "execute_result"
    }
   ],
   "source": [
    "data_target"
   ]
  },
  {
   "cell_type": "markdown",
   "metadata": {
    "id": "lGnnvJIQpD0W"
   },
   "source": [
    "Converting the float values to integer"
   ]
  },
  {
   "cell_type": "code",
   "execution_count": 11,
   "metadata": {
    "id": "2yQQuNVrpD0X"
   },
   "outputs": [],
   "source": [
    "data_target=data_target.astype(int)"
   ]
  },
  {
   "cell_type": "code",
   "execution_count": 12,
   "metadata": {
    "colab": {
     "base_uri": "https://localhost:8080/"
    },
    "id": "lyi7i5MWpD0X",
    "outputId": "cf996a7a-bc01-4bc1-a8ae-bafeb9939a1c"
   },
   "outputs": [
    {
     "data": {
      "text/plain": [
       "array([1, 2, 3, 4, 5])"
      ]
     },
     "execution_count": 12,
     "metadata": {
      "tags": []
     },
     "output_type": "execute_result"
    }
   ],
   "source": [
    "np.unique(data_target)"
   ]
  },
  {
   "cell_type": "markdown",
   "metadata": {
    "id": "XHYq7UW6guLF"
   },
   "source": [
    "### Using Machine Learning Algorithms for classification (to later compare with DL model)"
   ]
  },
  {
   "cell_type": "code",
   "execution_count": 13,
   "metadata": {
    "colab": {
     "base_uri": "https://localhost:8080/"
    },
    "id": "wyfsXR9vhBNf",
    "outputId": "2412c1a3-79d1-41ee-c1a2-2ce22634ba9d"
   },
   "outputs": [
    {
     "name": "stdout",
     "output_type": "stream",
     "text": [
      "(49999, 784)\n",
      "(49999,)\n",
      "(10001, 784)\n",
      "(10001,)\n"
     ]
    }
   ],
   "source": [
    "data_features1 = data_features.reshape(len(data_features), 784)\n",
    "train_x, test_x, train_y, test_y = train_test_split(data_features1, data_target, test_size=0.1666667, random_state=275)\n",
    "X_train, X_test, y_train, y_test = train_x, test_x, train_y, test_y\n",
    "\n",
    "print(X_train.shape)\n",
    "print(y_train.shape)\n",
    "print(X_test.shape)\n",
    "print(y_test.shape)"
   ]
  },
  {
   "cell_type": "code",
   "execution_count": 14,
   "metadata": {
    "colab": {
     "base_uri": "https://localhost:8080/"
    },
    "id": "Fry_ucQrhdmn",
    "outputId": "48032d51-de13-46c5-bf14-ba1954a3131d"
   },
   "outputs": [
    {
     "name": "stdout",
     "output_type": "stream",
     "text": [
      "Decision Tree Accuracy:  0.76\n"
     ]
    }
   ],
   "source": [
    "## Using Decision Tree Classifier\n",
    "from sklearn.metrics import accuracy_score\n",
    "from sklearn.tree import DecisionTreeClassifier\n",
    "dec_tree_clf = DecisionTreeClassifier(max_depth=50, random_state=42)\n",
    "dec_tree_clf.fit(X_train, y_train)\n",
    "y_train_predict = dec_tree_clf.predict(X_test)\n",
    "dec_tree_accuracy = accuracy_score(y_test, y_train_predict)\n",
    "\n",
    "print(\"Decision Tree Accuracy: \", round(dec_tree_accuracy,2))"
   ]
  },
  {
   "cell_type": "code",
   "execution_count": 15,
   "metadata": {
    "colab": {
     "base_uri": "https://localhost:8080/"
    },
    "id": "FthYdRSPhf-p",
    "outputId": "c5ced0c4-4aa3-43a0-ef57-9fe883fca864"
   },
   "outputs": [
    {
     "name": "stdout",
     "output_type": "stream",
     "text": [
      "XGBoost Accuracy:  0.86\n",
      "Time taken for the training (in seconds): 279.22355461120605\n"
     ]
    }
   ],
   "source": [
    "## Using XGBoost Classifier\n",
    "import xgboost\n",
    "from xgboost import XGBClassifier\n",
    "start_time = time.time()\n",
    "xgb_clf = XGBClassifier(n_estimators=20, max_depth=10, random_state=42)\n",
    "xgb_clf.fit(X_train, y_train)\n",
    "elapsed_time = time.time() - start_time\n",
    "y_train_predict = xgb_clf.predict(X_test)\n",
    "XGBoost_accuracy = accuracy_score(y_test, y_train_predict)\n",
    "print(\"XGBoost Accuracy: \", round(XGBoost_accuracy,2))\n",
    "print(\"Time taken for the training (in seconds): {}\".format(elapsed_time))"
   ]
  },
  {
   "cell_type": "markdown",
   "metadata": {
    "id": "-HLgrKIcifCL"
   },
   "source": [
    "Using the ML algorithms we notice that Decision Tree Classifier gave an accuracy of 76% and XGBoost algorithm gave an accuracy of 86%"
   ]
  },
  {
   "cell_type": "markdown",
   "metadata": {
    "id": "wob-slHnpD0X"
   },
   "source": [
    "Fashion MNIST is an MNIST like dataset using images of clothing instead of hand-written digits. Each photo is 28x28 grayscale, with 5 different classes(the real dataset has 10 classes). The dataset contains 60000 images."
   ]
  },
  {
   "cell_type": "code",
   "execution_count": 16,
   "metadata": {
    "colab": {
     "base_uri": "https://localhost:8080/",
     "height": 371
    },
    "id": "f3L1xJUipD0X",
    "outputId": "b5a875fe-8429-4f0b-d9fe-6e7d55c8a546"
   },
   "outputs": [
    {
     "data": {
      "image/png": "[encoded data removed]",
      "text/plain": [
       "<Figure size 432x432 with 9 Axes>"
      ]
     },
     "metadata": {
      "tags": []
     },
     "output_type": "display_data"
    }
   ],
   "source": [
    "# plotting first 9 images\n",
    "pyplot.figure(figsize=(6,6))\n",
    "for i in range(9):\n",
    "    pyplot.subplot(330 + 1 + i)\n",
    "    pyplot.xticks([])\n",
    "    pyplot.yticks([])\n",
    "    pyplot.imshow(data_features[i],cmap=pyplot.cm.binary)\n",
    "    pyplot.xlabel(data_target[i])\n",
    "pyplot.show()"
   ]
  },
  {
   "cell_type": "markdown",
   "metadata": {
    "id": "vcd6mUXHpD0Y"
   },
   "source": [
    "We have one more dimension channels (color) for the images, so we add it to the dimensions of data_features with the help of reshape() method. It is a single color - 'grayscale' here and hence, channels=1)."
   ]
  },
  {
   "cell_type": "code",
   "execution_count": 17,
   "metadata": {
    "id": "1p-mZ-kMpD0Y"
   },
   "outputs": [],
   "source": [
    "data_features = data_features.reshape((60000, 28, 28, 1))"
   ]
  },
  {
   "cell_type": "code",
   "execution_count": 18,
   "metadata": {
    "id": "gTe15IGQpD0Y"
   },
   "outputs": [],
   "source": [
    "data_target_new=data_target-1"
   ]
  },
  {
   "cell_type": "markdown",
   "metadata": {
    "id": "lNpoBnKTFjfi"
   },
   "source": [
    "The dataset is split into 80%, 10%, 10% for train, valid and test sets respectively. A random state was introduced."
   ]
  },
  {
   "cell_type": "code",
   "execution_count": 19,
   "metadata": {
    "id": "Czcu5M1UpD0Z"
   },
   "outputs": [],
   "source": [
    "#Splitting the data into train, validation, and test sets (80%, 10%, 10%)\n",
    "train_valid_x, test_x, train_valid_y, test_y = train_test_split(data_features, data_target_new, test_size=0.1, random_state=275)\n",
    "train_x,valid_x,train_y,valid_y=train_test_split(train_valid_x, train_valid_y, test_size=0.1111, random_state=275)"
   ]
  },
  {
   "cell_type": "code",
   "execution_count": 20,
   "metadata": {
    "colab": {
     "base_uri": "https://localhost:8080/"
    },
    "id": "GScya1sGpD0Z",
    "outputId": "9c96ae6d-2510-418a-cd6a-97a4510e7744"
   },
   "outputs": [
    {
     "data": {
      "text/plain": [
       "((6000, 28, 28, 1), (48000, 28, 28, 1), (6000, 28, 28, 1))"
      ]
     },
     "execution_count": 20,
     "metadata": {
      "tags": []
     },
     "output_type": "execute_result"
    }
   ],
   "source": [
    "valid_x.shape,train_x.shape,test_x.shape"
   ]
  },
  {
   "cell_type": "code",
   "execution_count": 21,
   "metadata": {
    "colab": {
     "base_uri": "https://localhost:8080/"
    },
    "id": "VRcO5iV1pD0Z",
    "outputId": "b9315593-1ea7-4fff-8914-c658b4491cc7"
   },
   "outputs": [
    {
     "data": {
      "text/plain": [
       "((6000,), (48000,), (6000,))"
      ]
     },
     "execution_count": 21,
     "metadata": {
      "tags": []
     },
     "output_type": "execute_result"
    }
   ],
   "source": [
    "valid_y.shape,train_y.shape,test_y.shape"
   ]
  },
  {
   "cell_type": "markdown",
   "metadata": {
    "id": "Vyf7qsrqpD0Z"
   },
   "source": [
    "### Implementing Convolutional Neural Networks"
   ]
  },
  {
   "cell_type": "markdown",
   "metadata": {
    "id": "yertqfazpD0a"
   },
   "source": [
    "##### Implementation 1 with 3 layered simple architecture"
   ]
  },
  {
   "cell_type": "code",
   "execution_count": 22,
   "metadata": {
    "id": "raGGyvNFpD0a"
   },
   "outputs": [],
   "source": [
    "#Creating convolutional layers\n",
    "conv1 = layers.Conv2D(32, (3,3), activation='relu', input_shape=(28,28,1) )\n",
    "conv2 = layers.Conv2D(64, (3,3), activation='relu')\n",
    "conv3 = layers.Conv2D(128, (3,3), activation='relu')\n",
    "\n",
    "#Creating Max Pooling Layers\n",
    "max_pool_1 = layers.MaxPooling2D((2,2))\n",
    "max_pool_2 = layers.MaxPooling2D((2,2))\n",
    "max_pool_3 = layers.MaxPooling2D((2,2))\n",
    "\n",
    "flat_layer = layers.Flatten()\n",
    "\n",
    "#Creating dense layers\n",
    "fc = layers.Dense(128, activation='relu')\n",
    "output = layers.Dense(5, 'softmax')"
   ]
  },
  {
   "cell_type": "code",
   "execution_count": 23,
   "metadata": {
    "id": "Dp1ctzogpD0a"
   },
   "outputs": [],
   "source": [
    "model = models.Sequential()\n",
    "\n",
    "model.add(conv1)\n",
    "model.add(conv2)\n",
    "model.add(conv3)\n",
    "model.add(max_pool_1)\n",
    "model.add(flat_layer)\n",
    "model.add(fc)\n",
    "model.add(output)"
   ]
  },
  {
   "cell_type": "code",
   "execution_count": 24,
   "metadata": {
    "colab": {
     "base_uri": "https://localhost:8080/"
    },
    "id": "PoYsPEI7pD0a",
    "outputId": "56370b5c-2edc-47cc-832e-6cb2f4933fff"
   },
   "outputs": [
    {
     "name": "stdout",
     "output_type": "stream",
     "text": [
      "Model: \"sequential\"\n",
      "_________________________________________________________________\n",
      "Layer (type)                 Output Shape              Param #   \n",
      "=================================================================\n",
      "conv2d (Conv2D)              (None, 26, 26, 32)        320       \n",
      "_________________________________________________________________\n",
      "conv2d_1 (Conv2D)            (None, 24, 24, 64)        18496     \n",
      "_________________________________________________________________\n",
      "conv2d_2 (Conv2D)            (None, 22, 22, 128)       73856     \n",
      "_________________________________________________________________\n",
      "max_pooling2d (MaxPooling2D) (None, 11, 11, 128)       0         \n",
      "_________________________________________________________________\n",
      "flatten (Flatten)            (None, 15488)             0         \n",
      "_________________________________________________________________\n",
      "dense (Dense)                (None, 128)               1982592   \n",
      "_________________________________________________________________\n",
      "dense_1 (Dense)              (None, 5)                 645       \n",
      "=================================================================\n",
      "Total params: 2,075,909\n",
      "Trainable params: 2,075,909\n",
      "Non-trainable params: 0\n",
      "_________________________________________________________________\n"
     ]
    }
   ],
   "source": [
    "model.summary()"
   ]
  },
  {
   "cell_type": "code",
   "execution_count": 25,
   "metadata": {
    "id": "sz6laYAepD0b"
   },
   "outputs": [],
   "source": [
    "model.compile(optimizer='adam',loss='sparse_categorical_crossentropy',metrics=['accuracy'])"
   ]
  },
  {
   "cell_type": "code",
   "execution_count": 26,
   "metadata": {
    "colab": {
     "base_uri": "https://localhost:8080/"
    },
    "id": "JoaHedgipD0b",
    "outputId": "f21bb791-c194-4a2c-c024-bb3afd7f7ccf"
   },
   "outputs": [
    {
     "data": {
      "text/plain": [
       "(54000, 28, 28, 1)"
      ]
     },
     "execution_count": 26,
     "metadata": {
      "tags": []
     },
     "output_type": "execute_result"
    }
   ],
   "source": [
    "train_valid_x.shape"
   ]
  },
  {
   "cell_type": "code",
   "execution_count": 27,
   "metadata": {
    "colab": {
     "base_uri": "https://localhost:8080/"
    },
    "id": "2cOpi-pspD0b",
    "outputId": "59b5eca9-343c-4d66-bb75-f83ba744ea3e"
   },
   "outputs": [
    {
     "name": "stdout",
     "output_type": "stream",
     "text": [
      "Epoch 1/20\n",
      "1500/1500 [==============================] - 40s 5ms/step - loss: 0.5996 - accuracy: 0.7530 - val_loss: 0.4121 - val_accuracy: 0.8377\n",
      "Epoch 2/20\n",
      "1500/1500 [==============================] - 8s 5ms/step - loss: 0.3019 - accuracy: 0.8797 - val_loss: 0.2792 - val_accuracy: 0.8888\n",
      "Epoch 3/20\n",
      "1500/1500 [==============================] - 8s 5ms/step - loss: 0.2341 - accuracy: 0.9048 - val_loss: 0.2401 - val_accuracy: 0.9072\n",
      "Epoch 4/20\n",
      "1500/1500 [==============================] - 8s 5ms/step - loss: 0.1822 - accuracy: 0.9278 - val_loss: 0.2535 - val_accuracy: 0.9012\n",
      "Epoch 5/20\n",
      "1500/1500 [==============================] - 8s 5ms/step - loss: 0.1549 - accuracy: 0.9389 - val_loss: 0.2675 - val_accuracy: 0.9000\n",
      "Epoch 6/20\n",
      "1500/1500 [==============================] - 8s 5ms/step - loss: 0.1259 - accuracy: 0.9512 - val_loss: 0.2722 - val_accuracy: 0.9062\n",
      "Epoch 7/20\n",
      "1500/1500 [==============================] - 8s 5ms/step - loss: 0.0989 - accuracy: 0.9624 - val_loss: 0.2771 - val_accuracy: 0.9063\n",
      "Epoch 8/20\n",
      "1500/1500 [==============================] - 8s 5ms/step - loss: 0.0823 - accuracy: 0.9692 - val_loss: 0.3344 - val_accuracy: 0.9058\n",
      "Epoch 9/20\n",
      "1500/1500 [==============================] - 8s 5ms/step - loss: 0.0721 - accuracy: 0.9719 - val_loss: 0.3532 - val_accuracy: 0.9050\n",
      "Epoch 10/20\n",
      "1500/1500 [==============================] - 8s 5ms/step - loss: 0.0611 - accuracy: 0.9780 - val_loss: 0.5474 - val_accuracy: 0.8732\n",
      "Epoch 11/20\n",
      "1500/1500 [==============================] - 8s 5ms/step - loss: 0.0555 - accuracy: 0.9802 - val_loss: 0.4142 - val_accuracy: 0.8997\n",
      "Epoch 12/20\n",
      "1500/1500 [==============================] - 7s 5ms/step - loss: 0.0489 - accuracy: 0.9809 - val_loss: 0.4353 - val_accuracy: 0.9043\n",
      "Epoch 13/20\n",
      "1500/1500 [==============================] - 8s 5ms/step - loss: 0.0439 - accuracy: 0.9847 - val_loss: 0.4896 - val_accuracy: 0.8975\n",
      "Epoch 14/20\n",
      "1500/1500 [==============================] - 8s 5ms/step - loss: 0.0399 - accuracy: 0.9862 - val_loss: 0.4850 - val_accuracy: 0.9020\n",
      "Epoch 15/20\n",
      "1500/1500 [==============================] - 8s 5ms/step - loss: 0.0337 - accuracy: 0.9879 - val_loss: 0.4956 - val_accuracy: 0.8955\n",
      "Epoch 16/20\n",
      "1500/1500 [==============================] - 8s 5ms/step - loss: 0.0375 - accuracy: 0.9867 - val_loss: 0.5176 - val_accuracy: 0.9023\n",
      "Epoch 17/20\n",
      "1500/1500 [==============================] - 8s 5ms/step - loss: 0.0289 - accuracy: 0.9905 - val_loss: 0.6437 - val_accuracy: 0.8827\n",
      "Epoch 18/20\n",
      "1500/1500 [==============================] - 8s 5ms/step - loss: 0.0326 - accuracy: 0.9887 - val_loss: 0.5145 - val_accuracy: 0.8987\n",
      "Epoch 19/20\n",
      "1500/1500 [==============================] - 8s 5ms/step - loss: 0.0247 - accuracy: 0.9909 - val_loss: 0.5859 - val_accuracy: 0.9010\n",
      "Epoch 20/20\n",
      "1500/1500 [==============================] - 8s 5ms/step - loss: 0.0294 - accuracy: 0.9897 - val_loss: 0.6011 - val_accuracy: 0.9012\n"
     ]
    }
   ],
   "source": [
    "model_obj=model.fit(train_x, train_y, epochs=20,validation_data=(valid_x,valid_y))"
   ]
  },
  {
   "cell_type": "code",
   "execution_count": 28,
   "metadata": {
    "colab": {
     "base_uri": "https://localhost:8080/"
    },
    "id": "cUcSWG8MpD0b",
    "outputId": "d1e0607a-85ac-4580-8c45-997f5f4256a6"
   },
   "outputs": [
    {
     "name": "stdout",
     "output_type": "stream",
     "text": [
      "188/188 [==============================] - 1s 3ms/step - loss: 0.5671 - accuracy: 0.9043\n"
     ]
    }
   ],
   "source": [
    "test_loss, test_accuracy = model.evaluate(test_x, test_y)"
   ]
  },
  {
   "cell_type": "code",
   "execution_count": 29,
   "metadata": {
    "colab": {
     "base_uri": "https://localhost:8080/",
     "height": 295
    },
    "id": "ibZgAZcFpD0c",
    "outputId": "f22b7241-cb61-4fcd-e98f-056fb795efd1"
   },
   "outputs": [
    {
     "data": {
      "image/png": "[encoded data removed]",
      "text/plain": [
       "<Figure size 432x288 with 1 Axes>"
      ]
     },
     "metadata": {
      "needs_background": "light",
      "tags": []
     },
     "output_type": "display_data"
    }
   ],
   "source": [
    "pyplot.plot(model_obj.history['loss'])\n",
    "pyplot.plot(model_obj.history['val_loss'])\n",
    "pyplot.title(\"Loss\")\n",
    "pyplot.ylabel(\"loss\")\n",
    "pyplot.xlabel(\"epoch\")\n",
    "pyplot.legend(['train', 'Val'], loc='upper left')\n",
    "pyplot.show()"
   ]
  },
  {
   "cell_type": "markdown",
   "metadata": {
    "id": "Bit2f_f-pD0c"
   },
   "source": [
    "* A 3 layered simple CNN architecture was used to build the model. Adam optimizer was used. Validation data was passed during the fit which internally would use this data for test.\n",
    "* Loss vs Epochs graph (Train, Validation loss vs Epoch) has been plotted above.\n",
    "\n",
    "* As we can see from the graph, validation loss didn't reduce throughout and is increased with increase in number of epochs whereas training loss reduced. \n",
    "* Model is considered to be overfit if training loss is reduced but the test loss increased, that is, the model performed well on train set but not on test set. Hence regularization techniques are further implemented within the model to avoid overfitting.\n",
    "* This model is not considered and will be imporved further to avoid overfitting."
   ]
  },
  {
   "cell_type": "markdown",
   "metadata": {
    "id": "DQvIFIwXpD0c"
   },
   "source": [
    "##### Implementation 2 with Regularization and additional pooling layers"
   ]
  },
  {
   "cell_type": "code",
   "execution_count": 30,
   "metadata": {
    "id": "xQVBI8L6pD0d"
   },
   "outputs": [],
   "source": [
    "# Creating dropout layers\n",
    "drop_1 = layers.Dropout(0.5)\n",
    "drop_2 = layers.Dropout(0.5)\n",
    "drop_3 = layers.Dropout(0.5)"
   ]
  },
  {
   "cell_type": "code",
   "execution_count": 31,
   "metadata": {
    "id": "tmpmEfeipD0d"
   },
   "outputs": [],
   "source": [
    "# Let us create a new neural network by applying these above created Dropout Layers to the respecive convolutional Layers \n",
    "new_model_1 = models.Sequential()\n",
    "\n",
    "new_conv1 = layers.Conv2D(32, (3,3),activation='relu', input_shape=(28,28,1) )\n",
    "new_conv2 = layers.Conv2D(64, (3,3),activation='relu')\n",
    "new_conv3 = layers.Conv2D(128, (3,3),activation='relu')\n",
    "\n",
    "new_model_1.add(new_conv1)\n",
    "new_model_1.add(max_pool_1)\n",
    "new_model_1.add(new_conv2)\n",
    "new_model_1.add(max_pool_2)\n",
    "new_model_1.add(new_conv3)\n",
    "new_model_1.add(max_pool_3)\n",
    "new_model_1.add(drop_3)\n",
    "new_model_1.add(flat_layer)\n",
    "new_model_1.add(layers.Dense(128, activation='relu'))\n",
    "new_model_1.add(layers.Dense(5, 'softmax'))"
   ]
  },
  {
   "cell_type": "code",
   "execution_count": 32,
   "metadata": {
    "id": "gRhRTKtRpD0d"
   },
   "outputs": [],
   "source": [
    "new_model_1.compile(optimizer='adam',\n",
    "              loss='sparse_categorical_crossentropy',\n",
    "              metrics=['accuracy'])"
   ]
  },
  {
   "cell_type": "code",
   "execution_count": 33,
   "metadata": {
    "colab": {
     "base_uri": "https://localhost:8080/"
    },
    "id": "rojLLK7spD0d",
    "outputId": "b31266ec-5a9e-4b7c-fd99-793aabf86309"
   },
   "outputs": [
    {
     "name": "stdout",
     "output_type": "stream",
     "text": [
      "Epoch 1/20\n",
      "1500/1500 [==============================] - 5s 3ms/step - loss: 0.8840 - accuracy: 0.6320 - val_loss: 0.5144 - val_accuracy: 0.7975\n",
      "Epoch 2/20\n",
      "1500/1500 [==============================] - 5s 3ms/step - loss: 0.5646 - accuracy: 0.7678 - val_loss: 0.4284 - val_accuracy: 0.8260\n",
      "Epoch 3/20\n",
      "1500/1500 [==============================] - 5s 3ms/step - loss: 0.4899 - accuracy: 0.8018 - val_loss: 0.4064 - val_accuracy: 0.8362\n",
      "Epoch 4/20\n",
      "1500/1500 [==============================] - 5s 3ms/step - loss: 0.4518 - accuracy: 0.8151 - val_loss: 0.3672 - val_accuracy: 0.8522\n",
      "Epoch 5/20\n",
      "1500/1500 [==============================] - 5s 3ms/step - loss: 0.4209 - accuracy: 0.8302 - val_loss: 0.3580 - val_accuracy: 0.8597\n",
      "Epoch 6/20\n",
      "1500/1500 [==============================] - 5s 3ms/step - loss: 0.4020 - accuracy: 0.8392 - val_loss: 0.3698 - val_accuracy: 0.8493\n",
      "Epoch 7/20\n",
      "1500/1500 [==============================] - 5s 3ms/step - loss: 0.3790 - accuracy: 0.8450 - val_loss: 0.3482 - val_accuracy: 0.8657\n",
      "Epoch 8/20\n",
      "1500/1500 [==============================] - 5s 3ms/step - loss: 0.3675 - accuracy: 0.8522 - val_loss: 0.3562 - val_accuracy: 0.8613\n",
      "Epoch 9/20\n",
      "1500/1500 [==============================] - 5s 3ms/step - loss: 0.3566 - accuracy: 0.8575 - val_loss: 0.3754 - val_accuracy: 0.8518\n",
      "Epoch 10/20\n",
      "1500/1500 [==============================] - 5s 3ms/step - loss: 0.3472 - accuracy: 0.8608 - val_loss: 0.3280 - val_accuracy: 0.8685\n",
      "Epoch 11/20\n",
      "1500/1500 [==============================] - 5s 3ms/step - loss: 0.3376 - accuracy: 0.8638 - val_loss: 0.3247 - val_accuracy: 0.8685\n",
      "Epoch 12/20\n",
      "1500/1500 [==============================] - 5s 3ms/step - loss: 0.3239 - accuracy: 0.8688 - val_loss: 0.3231 - val_accuracy: 0.8735\n",
      "Epoch 13/20\n",
      "1500/1500 [==============================] - 4s 3ms/step - loss: 0.3175 - accuracy: 0.8710 - val_loss: 0.3289 - val_accuracy: 0.8695\n",
      "Epoch 14/20\n",
      "1500/1500 [==============================] - 5s 3ms/step - loss: 0.3115 - accuracy: 0.8734 - val_loss: 0.3490 - val_accuracy: 0.8582\n",
      "Epoch 15/20\n",
      "1500/1500 [==============================] - 5s 3ms/step - loss: 0.2994 - accuracy: 0.8766 - val_loss: 0.3324 - val_accuracy: 0.8638\n",
      "Epoch 16/20\n",
      "1500/1500 [==============================] - 5s 3ms/step - loss: 0.3024 - accuracy: 0.8790 - val_loss: 0.3238 - val_accuracy: 0.8705\n",
      "Epoch 17/20\n",
      "1500/1500 [==============================] - 5s 3ms/step - loss: 0.2886 - accuracy: 0.8842 - val_loss: 0.3247 - val_accuracy: 0.8710\n",
      "Epoch 18/20\n",
      "1500/1500 [==============================] - 5s 3ms/step - loss: 0.2814 - accuracy: 0.8864 - val_loss: 0.3303 - val_accuracy: 0.8713\n",
      "Epoch 19/20\n",
      "1500/1500 [==============================] - 5s 3ms/step - loss: 0.2854 - accuracy: 0.8854 - val_loss: 0.3243 - val_accuracy: 0.8743\n",
      "Epoch 20/20\n",
      "1500/1500 [==============================] - 5s 3ms/step - loss: 0.2757 - accuracy: 0.8909 - val_loss: 0.3270 - val_accuracy: 0.8680\n"
     ]
    }
   ],
   "source": [
    "start_time = time.time()\n",
    "new_model_1_obj=new_model_1.fit(train_valid_x, train_valid_y, epochs=20, shuffle=True, validation_split=0.1111)\n",
    "elapsed_time = time.time() - start_time"
   ]
  },
  {
   "cell_type": "code",
   "execution_count": 34,
   "metadata": {
    "colab": {
     "base_uri": "https://localhost:8080/"
    },
    "id": "H__LtzlOpD0e",
    "outputId": "7e0dbfc8-e467-420d-f576-a9682b4e9e6f"
   },
   "outputs": [
    {
     "name": "stdout",
     "output_type": "stream",
     "text": [
      "Time taken for the training (in seconds): 93.3540825843811\n"
     ]
    }
   ],
   "source": [
    "print(\"Time taken for the training (in seconds): {}\".format(elapsed_time))"
   ]
  },
  {
   "cell_type": "code",
   "execution_count": 35,
   "metadata": {
    "colab": {
     "base_uri": "https://localhost:8080/"
    },
    "id": "43d_6ECbpD0e",
    "outputId": "58a788fd-c540-43c7-d7d0-6f7a26d65f07"
   },
   "outputs": [
    {
     "name": "stdout",
     "output_type": "stream",
     "text": [
      "188/188 [==============================] - 0s 3ms/step - loss: 0.3303 - accuracy: 0.8663\n"
     ]
    }
   ],
   "source": [
    "#Finding the loss and accuracy on test data\n",
    "test_loss, test_accuracy = new_model_1.evaluate(test_x, test_y)"
   ]
  },
  {
   "cell_type": "code",
   "execution_count": 36,
   "metadata": {
    "colab": {
     "base_uri": "https://localhost:8080/",
     "height": 295
    },
    "id": "t8KWO5KXpD0e",
    "outputId": "ebaf953f-3d6c-4a4a-cb7f-e757314cd49e"
   },
   "outputs": [
    {
     "data": {
      "image/png": "[encoded data removed]",
      "text/plain": [
       "<Figure size 432x288 with 1 Axes>"
      ]
     },
     "metadata": {
      "needs_background": "light",
      "tags": []
     },
     "output_type": "display_data"
    }
   ],
   "source": [
    "pyplot.plot(new_model_1_obj.history['loss'])\n",
    "pyplot.plot(new_model_1_obj.history['val_loss'])\n",
    "pyplot.title(\"Loss\")\n",
    "pyplot.ylabel(\"loss\")\n",
    "pyplot.xlabel(\"epoch\")\n",
    "pyplot.legend(['train', 'Val'], loc='upper left')\n",
    "pyplot.show()"
   ]
  },
  {
   "cell_type": "markdown",
   "metadata": {
    "id": "mJh0aFOQpD0e"
   },
   "source": [
    "* The second implementation included additional pooling layers and a dropout layer (for regularization - to reduce the overfit).\n",
    "* Adam optimizer, Relu activation function were used.\n",
    "* Loss vs Epochs graph has been plotted.\n",
    "* This model gave a test accuracy of 87% but yet as in the graph the model overfit the data after 10 epochs.\n",
    "* Further modifying the model architecture and its parameters for optimal fit."
   ]
  },
  {
   "cell_type": "markdown",
   "metadata": {
    "id": "eSOvJAyipD0f"
   },
   "source": [
    "##### Implementation 3 with regularization and padding"
   ]
  },
  {
   "cell_type": "code",
   "execution_count": 37,
   "metadata": {
    "id": "TvDV74qLpD0f"
   },
   "outputs": [],
   "source": [
    "new_model_2 = models.Sequential()\n",
    "\n",
    "new_conv1 = layers.Conv2D(32, (3,3),padding='same', activation='relu', input_shape=(28,28,1) )\n",
    "new_conv2 = layers.Conv2D(64, (3,3),padding='same', activation='relu')\n",
    "new_conv3 = layers.Conv2D(128, (3,3),padding='same', activation='relu')\n",
    "\n",
    "new_model_2.add(new_conv1)\n",
    "new_model_2.add(max_pool_1)\n",
    "new_model_2.add(new_conv2)\n",
    "new_model_2.add(max_pool_2)\n",
    "new_model_2.add(new_conv3)\n",
    "new_model_2.add(max_pool_3)\n",
    "new_model_2.add(drop_3)\n",
    "new_model_2.add(flat_layer)\n",
    "new_model_2.add(layers.Dense(128, activation='relu'))\n",
    "new_model_2.add(layers.Dense(5, 'softmax'))"
   ]
  },
  {
   "cell_type": "code",
   "execution_count": 38,
   "metadata": {
    "id": "R2ErWB_VpD0f"
   },
   "outputs": [],
   "source": [
    "new_model_2.compile(optimizer='adam',\n",
    "              loss='sparse_categorical_crossentropy',\n",
    "              metrics=['accuracy'])"
   ]
  },
  {
   "cell_type": "code",
   "execution_count": 39,
   "metadata": {
    "colab": {
     "base_uri": "https://localhost:8080/"
    },
    "id": "3rA1zk89pD0f",
    "outputId": "7e63a34b-3042-4e17-9b50-de7382062c91"
   },
   "outputs": [
    {
     "name": "stdout",
     "output_type": "stream",
     "text": [
      "Epoch 1/30\n",
      "1500/1500 [==============================] - 6s 3ms/step - loss: 0.7505 - accuracy: 0.6831 - val_loss: 0.3864 - val_accuracy: 0.8350\n",
      "Epoch 2/30\n",
      "1500/1500 [==============================] - 5s 3ms/step - loss: 0.3929 - accuracy: 0.8416 - val_loss: 0.2782 - val_accuracy: 0.8937\n",
      "Epoch 3/30\n",
      "1500/1500 [==============================] - 5s 3ms/step - loss: 0.3331 - accuracy: 0.8650 - val_loss: 0.2875 - val_accuracy: 0.8795\n",
      "Epoch 4/30\n",
      "1500/1500 [==============================] - 5s 3ms/step - loss: 0.3013 - accuracy: 0.8793 - val_loss: 0.2555 - val_accuracy: 0.8983\n",
      "Epoch 5/30\n",
      "1500/1500 [==============================] - 5s 3ms/step - loss: 0.2776 - accuracy: 0.8883 - val_loss: 0.2537 - val_accuracy: 0.8957\n",
      "Epoch 6/30\n",
      "1500/1500 [==============================] - 5s 3ms/step - loss: 0.2638 - accuracy: 0.8937 - val_loss: 0.3165 - val_accuracy: 0.8770\n",
      "Epoch 7/30\n",
      "1500/1500 [==============================] - 5s 3ms/step - loss: 0.2401 - accuracy: 0.9047 - val_loss: 0.2245 - val_accuracy: 0.9137\n",
      "Epoch 8/30\n",
      "1500/1500 [==============================] - 5s 3ms/step - loss: 0.2383 - accuracy: 0.9069 - val_loss: 0.2147 - val_accuracy: 0.9167\n",
      "Epoch 9/30\n",
      "1500/1500 [==============================] - 5s 3ms/step - loss: 0.2274 - accuracy: 0.9082 - val_loss: 0.2115 - val_accuracy: 0.9140\n",
      "Epoch 10/30\n",
      "1500/1500 [==============================] - 5s 3ms/step - loss: 0.2114 - accuracy: 0.9147 - val_loss: 0.2135 - val_accuracy: 0.9148\n",
      "Epoch 11/30\n",
      "1500/1500 [==============================] - 5s 3ms/step - loss: 0.2085 - accuracy: 0.9176 - val_loss: 0.2091 - val_accuracy: 0.9183\n",
      "Epoch 12/30\n",
      "1500/1500 [==============================] - 5s 3ms/step - loss: 0.1977 - accuracy: 0.9202 - val_loss: 0.1971 - val_accuracy: 0.9218\n",
      "Epoch 13/30\n",
      "1500/1500 [==============================] - 5s 3ms/step - loss: 0.1860 - accuracy: 0.9270 - val_loss: 0.2506 - val_accuracy: 0.8988\n",
      "Epoch 14/30\n",
      "1500/1500 [==============================] - 5s 3ms/step - loss: 0.1825 - accuracy: 0.9283 - val_loss: 0.2078 - val_accuracy: 0.9203\n",
      "Epoch 15/30\n",
      "1500/1500 [==============================] - 5s 3ms/step - loss: 0.1757 - accuracy: 0.9316 - val_loss: 0.2253 - val_accuracy: 0.9060\n",
      "Epoch 16/30\n",
      "1500/1500 [==============================] - 5s 3ms/step - loss: 0.1735 - accuracy: 0.9311 - val_loss: 0.2142 - val_accuracy: 0.9188\n",
      "Epoch 17/30\n",
      "1500/1500 [==============================] - 5s 3ms/step - loss: 0.1705 - accuracy: 0.9319 - val_loss: 0.2061 - val_accuracy: 0.9188\n",
      "Epoch 18/30\n",
      "1500/1500 [==============================] - 5s 3ms/step - loss: 0.1602 - accuracy: 0.9364 - val_loss: 0.2070 - val_accuracy: 0.9203\n",
      "Epoch 19/30\n",
      "1500/1500 [==============================] - 5s 3ms/step - loss: 0.1557 - accuracy: 0.9392 - val_loss: 0.1905 - val_accuracy: 0.9253\n",
      "Epoch 20/30\n",
      "1500/1500 [==============================] - 5s 3ms/step - loss: 0.1481 - accuracy: 0.9414 - val_loss: 0.2096 - val_accuracy: 0.9197\n",
      "Epoch 21/30\n",
      "1500/1500 [==============================] - 5s 3ms/step - loss: 0.1524 - accuracy: 0.9384 - val_loss: 0.1995 - val_accuracy: 0.9258\n",
      "Epoch 22/30\n",
      "1500/1500 [==============================] - 5s 3ms/step - loss: 0.1467 - accuracy: 0.9412 - val_loss: 0.2517 - val_accuracy: 0.9032\n",
      "Epoch 23/30\n",
      "1500/1500 [==============================] - 5s 3ms/step - loss: 0.1423 - accuracy: 0.9443 - val_loss: 0.2204 - val_accuracy: 0.9175\n",
      "Epoch 24/30\n",
      "1500/1500 [==============================] - 5s 3ms/step - loss: 0.1392 - accuracy: 0.9456 - val_loss: 0.2100 - val_accuracy: 0.9207\n",
      "Epoch 25/30\n",
      "1500/1500 [==============================] - 5s 3ms/step - loss: 0.1404 - accuracy: 0.9450 - val_loss: 0.2064 - val_accuracy: 0.9198\n",
      "Epoch 26/30\n",
      "1500/1500 [==============================] - 5s 3ms/step - loss: 0.1291 - accuracy: 0.9488 - val_loss: 0.2085 - val_accuracy: 0.9233\n",
      "Epoch 27/30\n",
      "1500/1500 [==============================] - 5s 3ms/step - loss: 0.1298 - accuracy: 0.9482 - val_loss: 0.1913 - val_accuracy: 0.9337\n",
      "Epoch 28/30\n",
      "1500/1500 [==============================] - 5s 3ms/step - loss: 0.1274 - accuracy: 0.9489 - val_loss: 0.2115 - val_accuracy: 0.9225\n",
      "Epoch 29/30\n",
      "1500/1500 [==============================] - 5s 3ms/step - loss: 0.1207 - accuracy: 0.9539 - val_loss: 0.2055 - val_accuracy: 0.9227\n",
      "Epoch 30/30\n",
      "1500/1500 [==============================] - 5s 3ms/step - loss: 0.1203 - accuracy: 0.9521 - val_loss: 0.2228 - val_accuracy: 0.9217\n"
     ]
    }
   ],
   "source": [
    "start_time = time.time()\n",
    "new_model_2_obj=new_model_2.fit(train_valid_x, train_valid_y, epochs=30, shuffle=True, validation_split=0.1111)\n",
    "elapsed_time = time.time() - start_time"
   ]
  },
  {
   "cell_type": "code",
   "execution_count": 40,
   "metadata": {
    "colab": {
     "base_uri": "https://localhost:8080/"
    },
    "id": "de_I_R1CpD0f",
    "outputId": "6a5d408c-12c7-416d-c0bf-78117474a644"
   },
   "outputs": [
    {
     "name": "stdout",
     "output_type": "stream",
     "text": [
      "Time taken for the training (in seconds): 146.59810495376587\n"
     ]
    }
   ],
   "source": [
    "print(\"Time taken for the training (in seconds): {}\".format(elapsed_time))"
   ]
  },
  {
   "cell_type": "code",
   "execution_count": 41,
   "metadata": {
    "colab": {
     "base_uri": "https://localhost:8080/"
    },
    "id": "zz8wbs8WpD0f",
    "outputId": "66761451-e8af-4c90-bf4a-a293a3b69c16"
   },
   "outputs": [
    {
     "name": "stdout",
     "output_type": "stream",
     "text": [
      "188/188 [==============================] - 0s 2ms/step - loss: 0.2270 - accuracy: 0.9185\n"
     ]
    }
   ],
   "source": [
    "#Finding the loss and accuracy on test data\n",
    "test_loss, test_accuracy = new_model_2.evaluate(test_x, test_y)"
   ]
  },
  {
   "cell_type": "code",
   "execution_count": 42,
   "metadata": {
    "colab": {
     "base_uri": "https://localhost:8080/",
     "height": 295
    },
    "id": "7mXpax_UpD0g",
    "outputId": "dae2f99f-7e95-47ef-ca15-0784c39b4b82"
   },
   "outputs": [
    {
     "data": {
      "image/png": "[encoded data removed]",
      "text/plain": [
       "<Figure size 432x288 with 1 Axes>"
      ]
     },
     "metadata": {
      "needs_background": "light",
      "tags": []
     },
     "output_type": "display_data"
    }
   ],
   "source": [
    "pyplot.plot(new_model_2_obj.history['loss'])\n",
    "pyplot.plot(new_model_2_obj.history['val_loss'])\n",
    "pyplot.title(\"Loss\")\n",
    "pyplot.ylabel(\"loss\")\n",
    "pyplot.xlabel(\"epoch\")\n",
    "pyplot.legend(['train', 'val'], loc='upper right')\n",
    "pyplot.show()"
   ]
  },
  {
   "cell_type": "markdown",
   "metadata": {
    "id": "Gtqg3rcYpD0g"
   },
   "source": [
    "* In this architecture, padding was introduced and it clearly had effect on the performance of the model. The training and validation loss decreased well within in 10 epochs compared to the previous model.\n",
    "* If we have a look at the above graph. There's still an overshoot of val loss after 10 epochs. Using SGD as optimizer instead of Adam and increasing epochs to 30 to see if it could improve."
   ]
  },
  {
   "cell_type": "markdown",
   "metadata": {
    "id": "41mX-2jhpD0g"
   },
   "source": [
    "##### Implementation 4 with Regularization, Pooling and SGD as the optimizer"
   ]
  },
  {
   "cell_type": "code",
   "execution_count": 43,
   "metadata": {
    "id": "jVV9pKkspD0g"
   },
   "outputs": [],
   "source": [
    "new_model_3 = models.Sequential()\n",
    "\n",
    "new_conv1 = layers.Conv2D(32, (3,3),padding='same', activation='relu', input_shape=(28,28,1) )\n",
    "new_conv2 = layers.Conv2D(64, (3,3),padding='same', activation='relu')\n",
    "new_conv3 = layers.Conv2D(128, (3,3),padding='same', activation='relu')\n",
    "\n",
    "new_model_3.add(new_conv1)\n",
    "new_model_3.add(max_pool_1)\n",
    "new_model_3.add(new_conv2)\n",
    "new_model_3.add(max_pool_2)\n",
    "new_model_3.add(new_conv3)\n",
    "new_model_3.add(max_pool_3)\n",
    "new_model_3.add(drop_3)\n",
    "new_model_3.add(flat_layer)\n",
    "new_model_3.add(layers.Dense(128, activation='relu'))\n",
    "new_model_3.add(layers.Dense(5, 'softmax'))"
   ]
  },
  {
   "cell_type": "code",
   "execution_count": 44,
   "metadata": {
    "id": "W5gFAgkKpD0g"
   },
   "outputs": [],
   "source": [
    "new_model_3.compile(optimizer='SGD',\n",
    "              loss='sparse_categorical_crossentropy',\n",
    "              metrics=['accuracy'])"
   ]
  },
  {
   "cell_type": "code",
   "execution_count": 45,
   "metadata": {
    "colab": {
     "base_uri": "https://localhost:8080/"
    },
    "id": "I2Jjq9c0pD0h",
    "outputId": "0d3b33a7-bdc4-4525-9ed3-73a1fd508100"
   },
   "outputs": [
    {
     "name": "stdout",
     "output_type": "stream",
     "text": [
      "Epoch 1/30\n",
      "1500/1500 [==============================] - 5s 3ms/step - loss: 1.2456 - accuracy: 0.4717 - val_loss: 0.6988 - val_accuracy: 0.7000\n",
      "Epoch 2/30\n",
      "1500/1500 [==============================] - 5s 3ms/step - loss: 0.7408 - accuracy: 0.6940 - val_loss: 0.5653 - val_accuracy: 0.7763\n",
      "Epoch 3/30\n",
      "1500/1500 [==============================] - 5s 3ms/step - loss: 0.6334 - accuracy: 0.7410 - val_loss: 0.5048 - val_accuracy: 0.7925\n",
      "Epoch 4/30\n",
      "1500/1500 [==============================] - 5s 3ms/step - loss: 0.5502 - accuracy: 0.7790 - val_loss: 0.4172 - val_accuracy: 0.8465\n",
      "Epoch 5/30\n",
      "1500/1500 [==============================] - 5s 3ms/step - loss: 0.4883 - accuracy: 0.8048 - val_loss: 0.3973 - val_accuracy: 0.8432\n",
      "Epoch 6/30\n",
      "1500/1500 [==============================] - 5s 3ms/step - loss: 0.4565 - accuracy: 0.8166 - val_loss: 0.3527 - val_accuracy: 0.8667\n",
      "Epoch 7/30\n",
      "1500/1500 [==============================] - 5s 3ms/step - loss: 0.4170 - accuracy: 0.8310 - val_loss: 0.3320 - val_accuracy: 0.8715\n",
      "Epoch 8/30\n",
      "1500/1500 [==============================] - 5s 3ms/step - loss: 0.4068 - accuracy: 0.8356 - val_loss: 0.3219 - val_accuracy: 0.8780\n",
      "Epoch 9/30\n",
      "1500/1500 [==============================] - 5s 3ms/step - loss: 0.3851 - accuracy: 0.8459 - val_loss: 0.3077 - val_accuracy: 0.8763\n",
      "Epoch 10/30\n",
      "1500/1500 [==============================] - 5s 3ms/step - loss: 0.3718 - accuracy: 0.8519 - val_loss: 0.2934 - val_accuracy: 0.8868\n",
      "Epoch 11/30\n",
      "1500/1500 [==============================] - 5s 3ms/step - loss: 0.3611 - accuracy: 0.8564 - val_loss: 0.3043 - val_accuracy: 0.8810\n",
      "Epoch 12/30\n",
      "1500/1500 [==============================] - 5s 3ms/step - loss: 0.3486 - accuracy: 0.8618 - val_loss: 0.2916 - val_accuracy: 0.8835\n",
      "Epoch 13/30\n",
      "1500/1500 [==============================] - 5s 3ms/step - loss: 0.3403 - accuracy: 0.8629 - val_loss: 0.2694 - val_accuracy: 0.8988\n",
      "Epoch 14/30\n",
      "1500/1500 [==============================] - 5s 3ms/step - loss: 0.3360 - accuracy: 0.8663 - val_loss: 0.2725 - val_accuracy: 0.8958\n",
      "Epoch 15/30\n",
      "1500/1500 [==============================] - 5s 3ms/step - loss: 0.3224 - accuracy: 0.8713 - val_loss: 0.2733 - val_accuracy: 0.8928\n",
      "Epoch 16/30\n",
      "1500/1500 [==============================] - 5s 3ms/step - loss: 0.3235 - accuracy: 0.8737 - val_loss: 0.2784 - val_accuracy: 0.8880\n",
      "Epoch 17/30\n",
      "1500/1500 [==============================] - 5s 3ms/step - loss: 0.3178 - accuracy: 0.8752 - val_loss: 0.2768 - val_accuracy: 0.8880\n",
      "Epoch 18/30\n",
      "1500/1500 [==============================] - 5s 3ms/step - loss: 0.3031 - accuracy: 0.8813 - val_loss: 0.2625 - val_accuracy: 0.8985\n",
      "Epoch 19/30\n",
      "1500/1500 [==============================] - 5s 3ms/step - loss: 0.3032 - accuracy: 0.8808 - val_loss: 0.2615 - val_accuracy: 0.8977\n",
      "Epoch 20/30\n",
      "1500/1500 [==============================] - 5s 3ms/step - loss: 0.2929 - accuracy: 0.8840 - val_loss: 0.2729 - val_accuracy: 0.8852\n",
      "Epoch 21/30\n",
      "1500/1500 [==============================] - 5s 3ms/step - loss: 0.2877 - accuracy: 0.8875 - val_loss: 0.3017 - val_accuracy: 0.8813\n",
      "Epoch 22/30\n",
      "1500/1500 [==============================] - 5s 3ms/step - loss: 0.2837 - accuracy: 0.8873 - val_loss: 0.2538 - val_accuracy: 0.8978\n",
      "Epoch 23/30\n",
      "1500/1500 [==============================] - 5s 3ms/step - loss: 0.2882 - accuracy: 0.8845 - val_loss: 0.2511 - val_accuracy: 0.9023\n",
      "Epoch 24/30\n",
      "1500/1500 [==============================] - 5s 3ms/step - loss: 0.2805 - accuracy: 0.8871 - val_loss: 0.2416 - val_accuracy: 0.9067\n",
      "Epoch 25/30\n",
      "1500/1500 [==============================] - 5s 3ms/step - loss: 0.2771 - accuracy: 0.8897 - val_loss: 0.2844 - val_accuracy: 0.8820\n",
      "Epoch 26/30\n",
      "1500/1500 [==============================] - 5s 3ms/step - loss: 0.2726 - accuracy: 0.8900 - val_loss: 0.2659 - val_accuracy: 0.8872\n",
      "Epoch 27/30\n",
      "1500/1500 [==============================] - 5s 3ms/step - loss: 0.2710 - accuracy: 0.8931 - val_loss: 0.2250 - val_accuracy: 0.9142\n",
      "Epoch 28/30\n",
      "1500/1500 [==============================] - 5s 3ms/step - loss: 0.2700 - accuracy: 0.8925 - val_loss: 0.2283 - val_accuracy: 0.9128\n",
      "Epoch 29/30\n",
      "1500/1500 [==============================] - 5s 3ms/step - loss: 0.2659 - accuracy: 0.8936 - val_loss: 0.2288 - val_accuracy: 0.9093\n",
      "Epoch 30/30\n",
      "1500/1500 [==============================] - 5s 3ms/step - loss: 0.2635 - accuracy: 0.8944 - val_loss: 0.2262 - val_accuracy: 0.9150\n"
     ]
    }
   ],
   "source": [
    "start_time = time.time()\n",
    "new_model_3_obj=new_model_3.fit(train_valid_x, train_valid_y, epochs=30, shuffle=True, validation_split=0.1111)\n",
    "elapsed_time = time.time() - start_time"
   ]
  },
  {
   "cell_type": "code",
   "execution_count": 46,
   "metadata": {
    "colab": {
     "base_uri": "https://localhost:8080/"
    },
    "id": "76MsT7wBpD0h",
    "outputId": "0b8c7a6b-2eb5-4512-f400-aa8b56d62a63"
   },
   "outputs": [
    {
     "name": "stdout",
     "output_type": "stream",
     "text": [
      "Time taken for the training (in seconds): 140.96291255950928\n"
     ]
    }
   ],
   "source": [
    "print(\"Time taken for the training (in seconds): {}\".format(elapsed_time))"
   ]
  },
  {
   "cell_type": "code",
   "execution_count": 47,
   "metadata": {
    "colab": {
     "base_uri": "https://localhost:8080/"
    },
    "id": "j_ng_ErgpD0h",
    "outputId": "cec01659-e970-4da4-b61f-bb4125b178c7"
   },
   "outputs": [
    {
     "name": "stdout",
     "output_type": "stream",
     "text": [
      "188/188 [==============================] - 0s 2ms/step - loss: 0.2317 - accuracy: 0.9093\n"
     ]
    }
   ],
   "source": [
    "start_time = time.time()\n",
    "test_loss, test_accuracy = new_model_3.evaluate(test_x, test_y)\n",
    "elapsed_time = time.time() - start_time"
   ]
  },
  {
   "cell_type": "code",
   "execution_count": 48,
   "metadata": {
    "colab": {
     "base_uri": "https://localhost:8080/"
    },
    "id": "CF6AKej6K3iW",
    "outputId": "b6fce22a-4fd7-4864-9e82-c83a73e3b4e4"
   },
   "outputs": [
    {
     "name": "stdout",
     "output_type": "stream",
     "text": [
      "Time taken for the training (in seconds): 0.479248046875\n"
     ]
    }
   ],
   "source": [
    "print(\"Time taken for the training (in seconds): {}\".format(elapsed_time))"
   ]
  },
  {
   "cell_type": "code",
   "execution_count": 49,
   "metadata": {
    "colab": {
     "base_uri": "https://localhost:8080/",
     "height": 295
    },
    "id": "9yaJEsnbpD0h",
    "outputId": "a435b36d-85ec-4a6d-8a0e-919858dfc9de"
   },
   "outputs": [
    {
     "data": {
      "image/png": "[encoded data removed]",
      "text/plain": [
       "<Figure size 432x288 with 1 Axes>"
      ]
     },
     "metadata": {
      "needs_background": "light",
      "tags": []
     },
     "output_type": "display_data"
    }
   ],
   "source": [
    "pyplot.plot(new_model_3_obj.history['loss'])\n",
    "pyplot.plot(new_model_3_obj.history['val_loss'])\n",
    "pyplot.title(\"Loss\")\n",
    "pyplot.ylabel(\"loss\")\n",
    "pyplot.xlabel(\"epoch\")\n",
    "pyplot.legend(['train', 'val'], loc='upper right')\n",
    "pyplot.show()"
   ]
  },
  {
   "cell_type": "code",
   "execution_count": 50,
   "metadata": {
    "colab": {
     "base_uri": "https://localhost:8080/",
     "height": 295
    },
    "id": "-3tzE88FpD0h",
    "outputId": "33666d47-7d65-4713-9418-4ccff9f365a9",
    "scrolled": true
   },
   "outputs": [
    {
     "data": {
      "image/png": "[encoded data removed]",
      "text/plain": [
       "<Figure size 432x288 with 1 Axes>"
      ]
     },
     "metadata": {
      "needs_background": "light",
      "tags": []
     },
     "output_type": "display_data"
    }
   ],
   "source": [
    "pyplot.plot(new_model_3_obj.history['accuracy'])\n",
    "pyplot.plot(new_model_3_obj.history['val_accuracy'])\n",
    "pyplot.title(\"Accuracy\")\n",
    "pyplot.ylabel(\"accuracy\")\n",
    "pyplot.xlabel(\"epoch\")\n",
    "pyplot.legend(['train', 'val'], loc='lower right')\n",
    "pyplot.show()"
   ]
  },
  {
   "cell_type": "markdown",
   "metadata": {
    "id": "fUWRIwE1pD0i"
   },
   "source": [
    "#### Final Model details\n",
    "* This model performed well with a training accuracy of 89.44, validation accuracy of 91.50 and test accuracy of 90.93%\n",
    "* Loss vs Epochs graph (Train, Validation loss vs Epoch) and Accuracy vs Epochs (Train, Validation accuracy vs epochs) have been plotted above.\n",
    "* The model is performing fine and there is no overfitting as seen in the graph.\n",
    "* Model architecture is discussed below."
   ]
  },
  {
   "cell_type": "markdown",
   "metadata": {
    "id": "yJtget9XjLsl"
   },
   "source": [
    "With Machine Learning model - XGBoost, we had achieved a test accuracy of 86 %, and with Deep Learning model (CNN) we could achieve a test accuracy of 91 %. Thus, we got around 5% improvement in accuracy by using Deep Learning."
   ]
  },
  {
   "cell_type": "markdown",
   "metadata": {
    "id": "54WRsflIFjft"
   },
   "source": [
    "### Model Architecture"
   ]
  },
  {
   "cell_type": "markdown",
   "metadata": {
    "id": "EFudDJZW_so1"
   },
   "source": [
    "![Capture.PNG](data:image/png;base64,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)"
   ]
  },
  {
   "cell_type": "markdown",
   "metadata": {
    "id": "3pOP6MRvpD0a"
   },
   "source": [
    "#### Model Description\n",
    "* Input is first passed over three combinations of convolution and max pool layers. Then the output of these layers is passed over regularization layer with dropout rate of 0.5.\n",
    "* The output from the previous layers is now passed to the flattening layer which converts the data into 1 dimensional array.\n",
    "* This is fed to a fully connected neural network.\n",
    "* Last output layer is a dense layer with softmax activation for 5 categories of data in the given fashion_mnist dataset.\n",
    "* Initially we used the optimizer as \"**adam**\". However, the usage of the optimizer \"**SGD**\" gave us better results in terms of fit and accuracy (as discussed at each implementation above).\n",
    "\n",
    "##### More details about the architecture\n",
    "* We are using sequential API, a linear stack of layers. Each layer is added sequentially now on to this model.\n",
    "* We have convolutional layers, which are the building blocks of ConvNets.\n",
    "* Pooling layers are used for dimensionality reduction or down sampling of input. It reduces computational power and number of parameters to be learnt.\n",
    "* Batch normalization to get zero mean and variance one. This allows network to learn features in a distributed way and the model generalizes the images better.\n",
    "* Regularization - Dropout is used to avoid overfitting\n",
    "* There are some dense layers and a fully connected neural network"
   ]
  },
  {
   "cell_type": "markdown",
   "metadata": {
    "id": "_zIgZnLeijXa"
   },
   "source": [
    "### 2.2 [CM5] Implementation of our Design Choices\n",
    "\n",
    "\n",
    "* We first tried XGBoost for classification and the accuracy was 86% and a decision tree which gave an accuracy of 76%.\n",
    "* Then we started with CNNs. There are totally 4 implementations tried and they can be found under 2.1\n",
    "* Started with simple layer and ended up with a complex architecture and the details are discussed below.\n",
    "* Our first implementation was with 3 convolution layers and one max pool which didnt perform well as it had overfit.\n",
    "* We introduced max pool layers after each convolution layer and added a drop out layer after these which reduced the overfit on train data. \n",
    "* We tried with different optimizers like Adam, SGD and Stochastic Gradient Descent helped the model to better generalize the data and prevented overfit.\n",
    " \n",
    " \n",
    "The final model has been described at the last portion of 2.1 (also below to summarize) and its architecture was also explained clearly. Details of accuracies, plots were also discussed clearly."
   ]
  },
  {
   "cell_type": "code",
   "execution_count": 51,
   "metadata": {
    "colab": {
     "base_uri": "https://localhost:8080/"
    },
    "id": "ZkVEATurFjfv",
    "outputId": "3f28990a-59cf-4cd2-956f-7061c0eceb26"
   },
   "outputs": [
    {
     "name": "stdout",
     "output_type": "stream",
     "text": [
      "Model: \"sequential_3\"\n",
      "_________________________________________________________________\n",
      "Layer (type)                 Output Shape              Param #   \n",
      "=================================================================\n",
      "conv2d_9 (Conv2D)            (None, 28, 28, 32)        320       \n",
      "_________________________________________________________________\n",
      "max_pooling2d (MaxPooling2D) multiple                  0         \n",
      "_________________________________________________________________\n",
      "conv2d_10 (Conv2D)           (None, 14, 14, 64)        18496     \n",
      "_________________________________________________________________\n",
      "max_pooling2d_1 (MaxPooling2 multiple                  0         \n",
      "_________________________________________________________________\n",
      "conv2d_11 (Conv2D)           (None, 7, 7, 128)         73856     \n",
      "_________________________________________________________________\n",
      "max_pooling2d_2 (MaxPooling2 multiple                  0         \n",
      "_________________________________________________________________\n",
      "dropout_2 (Dropout)          multiple                  0         \n",
      "_________________________________________________________________\n",
      "flatten (Flatten)            multiple                  0         \n",
      "_________________________________________________________________\n",
      "dense_6 (Dense)              (None, 128)               147584    \n",
      "_________________________________________________________________\n",
      "dense_7 (Dense)              (None, 5)                 645       \n",
      "=================================================================\n",
      "Total params: 240,901\n",
      "Trainable params: 240,901\n",
      "Non-trainable params: 0\n",
      "_________________________________________________________________\n"
     ]
    }
   ],
   "source": [
    "new_model_3.summary()"
   ]
  },
  {
   "cell_type": "markdown",
   "metadata": {
    "id": "GGiIEp8eFjfv"
   },
   "source": [
    "* Above is the final architecture summary. \n",
    "* It consists of three back to back convolutional layers with max pooling layers in between. A dropout layer and a fully connected neural network with a dense layer comprising of softmax function as output layer. Padding was also introduced which improved the model's fit and accuracy."
   ]
  },
  {
   "cell_type": "markdown",
   "metadata": {
    "id": "Q4iw5OYH0gIe"
   },
   "source": [
    "### 2.2 [CM6] Results Analysis"
   ]
  },
  {
   "cell_type": "markdown",
   "metadata": {
    "id": "b7yW3ttXI43-"
   },
   "source": [
    "### Run time perfomance for tranining and testing\n",
    "\n",
    "##### The final model has been run both with and without the GPU.\n",
    "##### Time taken for training and testing are reported below\n",
    "\n",
    "|  | Trained on (Images) | Tested on (Images) | Training time(seconds) | Classification time(on test data)(seconds) |\n",
    "| :- | :- | :- | :- | :- |\n",
    "| Without GPU | 48,000 | 6000 | 4200 | 5 |\n",
    "| With GPU | 48,000 | 6000 | 141 | 0.48 |\n"
   ]
  },
  {
   "cell_type": "markdown",
   "metadata": {
    "id": "tt6K5o-9Fjfv"
   },
   "source": [
    "|  | Optimizer | Training time(seconds) |\n",
    "| :- | :- | :- |\n",
    "| With GPU | Adam | 146 |\n",
    "| With GPU | SGD | 141 |\n"
   ]
  },
  {
   "cell_type": "markdown",
   "metadata": {
    "id": "Jkmp3xZ1Fjfv"
   },
   "source": [
    "The above tables provide a clear idea of the runtime performance of the model. Training time varied with the optimizer used.\n",
    "1. The time taken by our final CNN model for training is **141 sec**. Whereas the time taken for the model to test (from the time input is fed to the time we obtain the model decision) is **0.48 sec**\n",
    "2. The time taken by our CNN model with \"adam\" optimizer for training is **146 sec**.\n",
    "3. The time taken by the machine leaning algorithm XGBoost is **279 sec**\n"
   ]
  },
  {
   "cell_type": "markdown",
   "metadata": {
    "id": "SFPSNYcz0zpb"
   },
   "source": [
    "Comparision of different deep learning algorithms and parameters was already mentioned in the above sections, but re-writing them here to answer [CM6]\n",
    "\n",
    "* We first tried ***XGBoost*** for classification and the accuracy was 86% and a ***decision tree*** which gave an accuracy of 76%.\n",
    "* Then we started with ***CNN***s. Started with simple layer and ended up with a complex architecture and the details are discussed below.\n",
    "\n",
    "* Our first implementation was with 3 convolution layers and one max pool which didnt perform well as it had overfit.\n",
    "* We then introduced additional max pool layers after each convolution layer.\n",
    "* We have also introduced regularization by adding drop out layer after the convolutional and max pool layers which reduced the overfit on train data. \n",
    "* We tried with different optimizers like Adam, SGD and Stochastic Gradient Descent helped the model to better generalize the data and prevented overfit.\n",
    "* We have also tried padding which improved the model's fit and accuracy\n",
    " \n",
    "* Activation functions like Relu, tanh were also tried and ***Relu*** gave better results.\n",
    "* We modified number of epochs also and have chosen ***30*** as optimal one so as to not let the model overfit the data."
   ]
  },
  {
   "cell_type": "markdown",
   "metadata": {
    "id": "_3i_BDh9Fjfw"
   },
   "source": [
    "##### Plots to analyze the model better"
   ]
  },
  {
   "cell_type": "markdown",
   "metadata": {
    "id": "J1j8Evy5Fjfw"
   },
   "source": [
    "* Training epochs vs Loss"
   ]
  },
  {
   "cell_type": "code",
   "execution_count": 52,
   "metadata": {
    "colab": {
     "base_uri": "https://localhost:8080/",
     "height": 295
    },
    "id": "0D5nXY2UFjfw",
    "outputId": "33db7cb8-e116-4bde-b6f9-452a568ba75c"
   },
   "outputs": [
    {
     "data": {
      "image/png": "[encoded data removed]",
      "text/plain": [
       "<Figure size 432x288 with 1 Axes>"
      ]
     },
     "metadata": {
      "needs_background": "light",
      "tags": []
     },
     "output_type": "display_data"
    }
   ],
   "source": [
    "pyplot.plot(new_model_3_obj.history['loss'])\n",
    "pyplot.plot(new_model_3_obj.history['val_loss'])\n",
    "pyplot.title(\"Loss\")\n",
    "pyplot.ylabel(\"loss\")\n",
    "pyplot.xlabel(\"epoch\")\n",
    "pyplot.legend(['train', 'val'], loc='upper right')\n",
    "pyplot.show()"
   ]
  },
  {
   "cell_type": "markdown",
   "metadata": {
    "id": "F_DPj6GoFjfx"
   },
   "source": [
    "* Classification accuracy vs Loss"
   ]
  },
  {
   "cell_type": "code",
   "execution_count": 53,
   "metadata": {
    "colab": {
     "base_uri": "https://localhost:8080/",
     "height": 295
    },
    "id": "yA-hpVWwMqVs",
    "outputId": "7d297d86-3efd-41d2-848b-9c582776b0f9",
    "scrolled": true
   },
   "outputs": [
    {
     "data": {
      "image/png": "[encoded data removed]",
      "text/plain": [
       "<Figure size 432x288 with 1 Axes>"
      ]
     },
     "metadata": {
      "needs_background": "light",
      "tags": []
     },
     "output_type": "display_data"
    }
   ],
   "source": [
    "pyplot.plot(new_model_3_obj.history['accuracy'])\n",
    "pyplot.plot(new_model_3_obj.history['loss'])\n",
    "pyplot.title(\"Accuracy Vs Loss - (Train Data)\")\n",
    "pyplot.ylabel(\"accuracy\")\n",
    "pyplot.xlabel(\"loss\")\n",
    "pyplot.legend(['accuracy', 'loss'], loc='lower right')\n",
    "pyplot.show()"
   ]
  },
  {
   "cell_type": "code",
   "execution_count": 54,
   "metadata": {
    "colab": {
     "base_uri": "https://localhost:8080/",
     "height": 295
    },
    "id": "a1tycUaEM6Oo",
    "outputId": "460e8375-3509-4845-c4a6-85d94e1d7655"
   },
   "outputs": [
    {
     "data": {
      "image/png": "[encoded data removed]",
      "text/plain": [
       "<Figure size 432x288 with 1 Axes>"
      ]
     },
     "metadata": {
      "needs_background": "light",
      "tags": []
     },
     "output_type": "display_data"
    }
   ],
   "source": [
    "pyplot.plot(new_model_3_obj.history['val_accuracy'])\n",
    "pyplot.plot(new_model_3_obj.history['val_loss'])\n",
    "pyplot.title(\"Accuracy Vs Loss - (Validation Data)\")\n",
    "pyplot.ylabel(\"Val accuracy\")\n",
    "pyplot.xlabel(\"Val loss\")\n",
    "pyplot.legend(['accuracy', 'loss'], loc='lower right')\n",
    "pyplot.show()"
   ]
  },
  {
   "cell_type": "markdown",
   "metadata": {
    "id": "IYSf83bJmYOk"
   },
   "source": [
    "From the Epochs vs Loss plot, one can notice that the loss reduced as number of epochs increased and there is clearly no overfit. Various methods like regularization, change in optimizers helped in reducing the overfit.\n",
    "\n",
    "Accuracy vs Loss plot on validation data shows that the model performed well (started from 70% and increased to 91%)\n",
    "\n",
    "The model on test data gave an classification accuracy of 90.93%"
   ]
  },
  {
   "cell_type": "code",
   "execution_count": 64,
   "metadata": {
    "colab": {
     "base_uri": "https://localhost:8080/"
    },
    "id": "e0lTkF42OeNK",
    "outputId": "33e2206c-f507-449c-ab95-5fa8fe219d57"
   },
   "outputs": [
    {
     "name": "stdout",
     "output_type": "stream",
     "text": [
      "[[   0    1    2    3    4]\n",
      " [1198 1163 1242 1201 1196]]\n"
     ]
    }
   ],
   "source": [
    "(unique, counts) = np.unique(test_y, return_counts=True)\n",
    "frequencies = np.asarray((unique, counts))\n",
    "print(frequencies)"
   ]
  },
  {
   "cell_type": "code",
   "execution_count": 62,
   "metadata": {
    "colab": {
     "base_uri": "https://localhost:8080/",
     "height": 428
    },
    "id": "P-PExSk8M6at",
    "outputId": "d2447514-e8a1-4aa3-cd78-4008aa2f042a"
   },
   "outputs": [
    {
     "name": "stderr",
     "output_type": "stream",
     "text": [
      "/usr/local/lib/python3.7/dist-packages/tensorflow/python/keras/engine/sequential.py:450: UserWarning: `model.predict_classes()` is deprecated and will be removed after 2021-01-01. Please use instead:* `np.argmax(model.predict(x), axis=-1)`,   if your model does multi-class classification   (e.g. if it uses a `softmax` last-layer activation).* `(model.predict(x) > 0.5).astype(\"int32\")`,   if your model does binary classification   (e.g. if it uses a `sigmoid` last-layer activation).\n",
      "  warnings.warn('`model.predict_classes()` is deprecated and '\n"
     ]
    },
    {
     "data": {
      "image/png": "[encoded data removed]",
      "text/plain": [
       "<Figure size 576x432 with 2 Axes>"
      ]
     },
     "metadata": {
      "needs_background": "light",
      "tags": []
     },
     "output_type": "display_data"
    }
   ],
   "source": [
    "import seaborn as sns\n",
    "from sklearn.metrics import confusion_matrix\n",
    "def plot_confusion_matrix(model, X, y):\n",
    "    y_pred = model.predict_classes(X, verbose=0)\n",
    "    pyplot.figure(figsize=(8, 6))\n",
    "    sns.heatmap(pd.DataFrame(confusion_matrix(y, y_pred)), annot=True, fmt='d', cmap='YlGnBu', alpha=0.8, vmin=0)\n",
    "\n",
    "plot_confusion_matrix(new_model_3, test_x, test_y)"
   ]
  },
  {
   "cell_type": "markdown",
   "metadata": {
    "id": "qoCGIgKwOAEi"
   },
   "source": []
  },
  {
   "cell_type": "markdown",
   "metadata": {},
   "source": [
    "##### Analyzing the confusion matrix\n",
    "* The final model was able to identify 1106 images correctly as target 1 out of 1198 images. \n",
    "* Out of 1196 images which have target 5, 1142 were correctly identified which means only 4.5% of images were wrongly classified.\n",
    "* ALso, total images of target as 3 are 1242 and out of these 1242, 1133 were correctly identified. Which means 8% are wrongly identified.\n",
    "\n",
    "* This clearly shows that our model identifies the targets well and the error percentage is less than 10."
   ]
  },
  {
   "cell_type": "markdown",
   "metadata": {
    "id": "ZEixZloGFjfy"
   },
   "source": [
    "#### 2.3: Kaggle Competition Score"
   ]
  },
  {
   "cell_type": "markdown",
   "metadata": {
    "id": "zyr9p_4hFjfy"
   },
   "source": [
    "##### Participated on Kaggle and have submitted the predictions too. Please refer to Asg4-Grp 4 on Kaggle and also the corresponding python notebook was uploaded on Learn for reference."
   ]
  },
  {
   "cell_type": "markdown",
   "metadata": {},
   "source": [
    "#### Blogs, websites referred"
   ]
  },
  {
   "cell_type": "markdown",
   "metadata": {},
   "source": [
    "https://machinelearningmastery.com/how-to-implement-major-architecture-innovations-for-convolutional-neural-networks/\n",
    "\n",
    "https://towardsdatascience.com/covolutional-neural-network-cb0883dd6529\n",
    "\n",
    "https://ai.stackexchange.com/questions/5769/in-a-cnn-does-each-new-filter-have-different-weights-for-each-input-channel-or\n",
    "\n",
    "https://www.analyticsvidhya.com/blog/2018/04/fundamentals-deep-learning-regularization-techniques/\n",
    "\n",
    "https://towardsdatascience.com/build-your-own-deep-learning-classification-model-in-keras-511f647980d6\n",
    "\n",
    "https://cloudxlab.com/blog/fashion-mnist-using-deep-learning-with-tensorflow-keras/"
   ]
  }
 ],
 "metadata": {
  "colab": {
   "collapsed_sections": [],
   "name": "Fashion_MNIST_A4_09_04_Final.ipynb",
   "provenance": []
  },
  "kernelspec": {
   "display_name": "Python 3",
   "language": "python",
   "name": "python3"
  },
  "language_info": {
   "codemirror_mode": {
    "name": "ipython",
    "version": 3
   },
   "file_extension": ".py",
   "mimetype": "text/x-python",
   "name": "python",
   "nbconvert_exporter": "python",
   "pygments_lexer": "ipython3",
   "version": "3.8.5"
  }
 },
 "nbformat": 4,
 "nbformat_minor": 1
}
